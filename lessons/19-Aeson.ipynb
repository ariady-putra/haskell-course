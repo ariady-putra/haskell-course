{
 "cells": [
  {
   "cell_type": "markdown",
   "metadata": {
    "slideshow": {
     "slide_type": "slide"
    }
   },
   "source": [
    "## Outline\n",
    "* What is JSON\n",
    "* AESON\n",
    "* Example\n",
    "* Extra\n",
    "\n",
    "In this lecture, we will discuss the implementation of JSON in Haskell. The structure and sections are listed above. First, we will touch on what JSON is and how it is defined. After that, we will have a look how Haskell implements this. Lastly, we will give some extracurricular info on CBOR, which is similar to JSON."
   ]
  },
  {
   "cell_type": "markdown",
   "metadata": {
    "slideshow": {
     "slide_type": "skip"
    }
   },
   "source": [
    "### What is JSON\n",
    "JSON is an abbreviation of **J**ava**S**cript **O**bject **N**otation, and it is a file format that is designed to interchange information in a human-readable form. The origin of JSON lies in the JavaScript language, this is why the syntax it uses looks similar to that language. The representation of data and its syntax follow these 4 rules"
   ]
  },
  {
   "cell_type": "markdown",
   "metadata": {},
   "source": [
    "Rule | Description | Example |\n",
    "--- | --- | --- | \n",
    "1 | Data is in key/value pairs | `\"firstName\" : \"Bob\"`\n",
    "2 | Data is separated by commas | `\"firstName\" : \"Bob\", \"lastName\" : \"Smith\"` \n",
    "3 | Curly brackets `{}` group objects in an unordered set | `{\"one\" : 1, \"two\" : 2, \"two\" : 3}`\n",
    "4 | Square brackets `[]` hold arrays in an ordered collection| `\"numbers\": [\"one\", \"two\", \"three\"]`"
   ]
  },
  {
   "cell_type": "markdown",
   "metadata": {},
   "source": [
    "The key value is always a string in JSON, this while the values can be of the types\n",
    "\n",
    "Type | Examples\n",
    "--- | --- |\n",
    "String | `\"name\" : \"Alice\"`\n",
    "Number | `{\"one\" : 210, \"two\" : -210, \"three\" : 3.14, \"four\" : 1.0E+2}`\n",
    "Boolean | `\"Haskell is cool\" : true`\n",
    "Null | `\"key\" : null `\n",
    "Object | `{\"favorite food\" : \"pasta\"}`\n",
    "Array | `[1,2,3]`\n",
    "\n",
    "JSON is handy when structured data needs to be made visible. It is often used in API's and for computer-human interactions.\n"
   ]
  },
  {
   "cell_type": "markdown",
   "metadata": {},
   "source": [
    "### AESON\n",
    "The library that can parse and encode Haskell types to the JSON standard is called Aeson [(1)](https://hackage.haskell.org/package/aeson). This library is named after Aeson, the father of Jason, in Greek mythology. Aeson is not installed by default, since it is an external library. For the current notebook, it can be installed via the execution of\n",
    "\n"
   ]
  },
  {
   "cell_type": "code",
   "execution_count": null,
   "metadata": {},
   "outputs": [],
   "source": [
    ":!stack build aeson"
   ]
  },
  {
   "cell_type": "markdown",
   "metadata": {},
   "source": [
    "Like in the above JSON standard, the Aeson has the following possible values.\n",
    "```haskell\n",
    "-- | A JSON value represented as a Haskell value.\n",
    "data Value = Object Object\n",
    "           | Array Array         --- In JSON []\n",
    "           | String Text         --- In JSON \"\"\n",
    "           | Number Scientific   --- In JSON 3.1415E+0\n",
    "           | Bool Bool           --- In JSON true/false\n",
    "           | Null                --- In JSON null\n",
    "```"
   ]
  },
  {
   "cell_type": "markdown",
   "metadata": {},
   "source": [
    "More explicitly, we have that we can encode these to JSON via the function `encode`"
   ]
  },
  {
   "cell_type": "code",
   "execution_count": 22,
   "metadata": {},
   "outputs": [
    {
     "data": {
      "text/html": [
       "<style>/* Styles used for the Hoogle display in the pager */\n",
       ".hoogle-doc {\n",
       "display: block;\n",
       "padding-bottom: 1.3em;\n",
       "padding-left: 0.4em;\n",
       "}\n",
       ".hoogle-code {\n",
       "display: block;\n",
       "font-family: monospace;\n",
       "white-space: pre;\n",
       "}\n",
       ".hoogle-text {\n",
       "display: block;\n",
       "}\n",
       ".hoogle-name {\n",
       "color: green;\n",
       "font-weight: bold;\n",
       "}\n",
       ".hoogle-head {\n",
       "font-weight: bold;\n",
       "}\n",
       ".hoogle-sub {\n",
       "display: block;\n",
       "margin-left: 0.4em;\n",
       "}\n",
       ".hoogle-package {\n",
       "font-weight: bold;\n",
       "font-style: italic;\n",
       "}\n",
       ".hoogle-module {\n",
       "font-weight: bold;\n",
       "}\n",
       ".hoogle-class {\n",
       "font-weight: bold;\n",
       "}\n",
       ".get-type {\n",
       "color: green;\n",
       "font-weight: bold;\n",
       "font-family: monospace;\n",
       "display: block;\n",
       "white-space: pre-wrap;\n",
       "}\n",
       ".show-type {\n",
       "color: green;\n",
       "font-weight: bold;\n",
       "font-family: monospace;\n",
       "margin-left: 1em;\n",
       "}\n",
       ".mono {\n",
       "font-family: monospace;\n",
       "display: block;\n",
       "}\n",
       ".err-msg {\n",
       "color: red;\n",
       "font-style: italic;\n",
       "font-family: monospace;\n",
       "white-space: pre;\n",
       "display: block;\n",
       "}\n",
       "#unshowable {\n",
       "color: red;\n",
       "font-weight: bold;\n",
       "}\n",
       ".err-msg.in.collapse {\n",
       "padding-top: 0.7em;\n",
       "}\n",
       ".highlight-code {\n",
       "white-space: pre;\n",
       "font-family: monospace;\n",
       "}\n",
       ".suggestion-warning { \n",
       "font-weight: bold;\n",
       "color: rgb(200, 130, 0);\n",
       "}\n",
       ".suggestion-error { \n",
       "font-weight: bold;\n",
       "color: red;\n",
       "}\n",
       ".suggestion-name {\n",
       "font-weight: bold;\n",
       "}\n",
       "</style><span class='get-type'>encode :: forall a. ToJSON a => a -> ByteString</span>"
      ],
      "text/plain": [
       "encode :: forall a. ToJSON a => a -> ByteString"
      ]
     },
     "metadata": {},
     "output_type": "display_data"
    },
    {
     "data": {
      "text/plain": [
       "\"[1,3,4]\""
      ]
     },
     "metadata": {},
     "output_type": "display_data"
    },
    {
     "data": {
      "text/plain": [
       "\"\\\"Hello World\\\"\""
      ]
     },
     "metadata": {},
     "output_type": "display_data"
    },
    {
     "data": {
      "text/plain": [
       "\"3.1415\""
      ]
     },
     "metadata": {},
     "output_type": "display_data"
    },
    {
     "data": {
      "text/plain": [
       "\"false\""
      ]
     },
     "metadata": {},
     "output_type": "display_data"
    },
    {
     "data": {
      "text/plain": [
       "\"null\""
      ]
     },
     "metadata": {},
     "output_type": "display_data"
    }
   ],
   "source": [
    "{-# LANGUAGE OverloadedStrings #-}\n",
    "import Data.Aeson\n",
    "\n",
    ":t encode\n",
    "\n",
    "encode [1,3,4]\n",
    "encode \"Hello World\"\n",
    "encode 3.1415\n",
    "encode False\n",
    "encode Null"
   ]
  },
  {
   "cell_type": "markdown",
   "metadata": {},
   "source": [
    "To convert these back, we can use the `decode` function. Notice that the type signature of this function is always to a `Maybe a`. This is because decoding a `ByteString` that could be in the JSON format might fail. Decoding the above examples gives"
   ]
  },
  {
   "cell_type": "code",
   "execution_count": 23,
   "metadata": {},
   "outputs": [
    {
     "data": {
      "text/html": [
       "<style>/* Styles used for the Hoogle display in the pager */\n",
       ".hoogle-doc {\n",
       "display: block;\n",
       "padding-bottom: 1.3em;\n",
       "padding-left: 0.4em;\n",
       "}\n",
       ".hoogle-code {\n",
       "display: block;\n",
       "font-family: monospace;\n",
       "white-space: pre;\n",
       "}\n",
       ".hoogle-text {\n",
       "display: block;\n",
       "}\n",
       ".hoogle-name {\n",
       "color: green;\n",
       "font-weight: bold;\n",
       "}\n",
       ".hoogle-head {\n",
       "font-weight: bold;\n",
       "}\n",
       ".hoogle-sub {\n",
       "display: block;\n",
       "margin-left: 0.4em;\n",
       "}\n",
       ".hoogle-package {\n",
       "font-weight: bold;\n",
       "font-style: italic;\n",
       "}\n",
       ".hoogle-module {\n",
       "font-weight: bold;\n",
       "}\n",
       ".hoogle-class {\n",
       "font-weight: bold;\n",
       "}\n",
       ".get-type {\n",
       "color: green;\n",
       "font-weight: bold;\n",
       "font-family: monospace;\n",
       "display: block;\n",
       "white-space: pre-wrap;\n",
       "}\n",
       ".show-type {\n",
       "color: green;\n",
       "font-weight: bold;\n",
       "font-family: monospace;\n",
       "margin-left: 1em;\n",
       "}\n",
       ".mono {\n",
       "font-family: monospace;\n",
       "display: block;\n",
       "}\n",
       ".err-msg {\n",
       "color: red;\n",
       "font-style: italic;\n",
       "font-family: monospace;\n",
       "white-space: pre;\n",
       "display: block;\n",
       "}\n",
       "#unshowable {\n",
       "color: red;\n",
       "font-weight: bold;\n",
       "}\n",
       ".err-msg.in.collapse {\n",
       "padding-top: 0.7em;\n",
       "}\n",
       ".highlight-code {\n",
       "white-space: pre;\n",
       "font-family: monospace;\n",
       "}\n",
       ".suggestion-warning { \n",
       "font-weight: bold;\n",
       "color: rgb(200, 130, 0);\n",
       "}\n",
       ".suggestion-error { \n",
       "font-weight: bold;\n",
       "color: red;\n",
       "}\n",
       ".suggestion-name {\n",
       "font-weight: bold;\n",
       "}\n",
       "</style><span class='get-type'>decode :: forall a. FromJSON a => ByteString -> Maybe a</span>"
      ],
      "text/plain": [
       "decode :: forall a. FromJSON a => ByteString -> Maybe a"
      ]
     },
     "metadata": {},
     "output_type": "display_data"
    },
    {
     "data": {
      "text/plain": [
       "Just [1,3,4]"
      ]
     },
     "metadata": {},
     "output_type": "display_data"
    },
    {
     "data": {
      "text/plain": [
       "Just \"Hello World\""
      ]
     },
     "metadata": {},
     "output_type": "display_data"
    },
    {
     "data": {
      "text/plain": [
       "Just 3.1415"
      ]
     },
     "metadata": {},
     "output_type": "display_data"
    },
    {
     "data": {
      "text/plain": [
       "Just False"
      ]
     },
     "metadata": {},
     "output_type": "display_data"
    },
    {
     "data": {
      "text/plain": [
       "Just Null"
      ]
     },
     "metadata": {},
     "output_type": "display_data"
    }
   ],
   "source": [
    "{-# LANGUAGE OverloadedStrings #-}\n",
    "import Data.Aeson\n",
    "\n",
    ":t decode\n",
    "\n",
    "decode \"[1,3,4]\" :: Maybe [Int]\n",
    "decode \"\\\"Hello World\\\"\" :: Maybe String\n",
    "decode \"3.1415\" :: Maybe Double\n",
    "decode \"false\" :: Maybe Bool\n",
    "decode \"null\" :: Maybe Value"
   ]
  },
  {
   "cell_type": "markdown",
   "metadata": {},
   "source": [
    "The `null` string is decoded as a `Maybe Value` since the Null is not a native object in Haskell, it is defined only in the data type `Value` given above."
   ]
  },
  {
   "cell_type": "markdown",
   "metadata": {},
   "source": [
    "### Example\n",
    "If we have the data type "
   ]
  },
  {
   "cell_type": "code",
   "execution_count": 7,
   "metadata": {},
   "outputs": [],
   "source": [
    "data Person = Person { firstName :: String, lastName :: String, age :: Int}"
   ]
  },
  {
   "cell_type": "markdown",
   "metadata": {},
   "source": [
    "Haskell can derive from the type structure a general conversion into the JSON format. Here the type constructors are replaced with the key values (as strings), followed by the information in the fields. To use this automated way of encoding Haskell types into JSON, you need the following things\n",
    "\n",
    "- Import `import GHC.Generics`\n",
    "- Use the pragma `{-# LANGUAGE DeriveGeneric  #-}`\n",
    "- Use the pragma `{-# LANGUAGE DeriveAnyClass #-}`\n",
    "- Use the pragma `{-# LANGUAGE OverloadedStrings #-}`\n",
    "- Derive the instances of `Generic` \n",
    "- Derive the instances of `ToJSON`  and `FromJSON` for your type\n",
    "\n",
    "These things are necesairy for Haskell to derive "
   ]
  },
  {
   "cell_type": "code",
   "execution_count": 21,
   "metadata": {},
   "outputs": [
    {
     "data": {
      "text/plain": [
       "\"{\\\"age\\\":31,\\\"lastName\\\":\\\"Doe\\\",\\\"firstName\\\":\\\"John\\\"}\""
      ]
     },
     "metadata": {},
     "output_type": "display_data"
    },
    {
     "data": {
      "text/plain": [
       "Person {firstName = \"Tom\", lastName = \"Hanks\", age = 66}"
      ]
     },
     "metadata": {},
     "output_type": "display_data"
    }
   ],
   "source": [
    "{-# LANGUAGE DeriveGeneric #-}\n",
    "{-# LANGUAGE DeriveAnyClass #-}\n",
    "{-# LANGUAGE OverloadedStrings #-}\n",
    "\n",
    "import Data.Aeson\n",
    "import GHC.Generics\n",
    "import Data.Maybe\n",
    "\n",
    "data Person = Person { firstName :: String, lastName :: String, age :: Int} deriving (Generic, Show, ToJSON, FromJSON)\n",
    "\n",
    "johnDoe = Person {firstName = \"John\", lastName = \"Doe\", age = 31}\n",
    "\n",
    "encode johnDoe\n",
    "tomHanks = decode \"{\\\"age\\\":66,\\\"lastName\\\":\\\"Hanks\\\",\\\"firstName\\\":\\\"Tom\\\"}\" :: Maybe Person\n",
    "\n",
    "print $ fromJust tomHanks"
   ]
  },
  {
   "cell_type": "markdown",
   "metadata": {},
   "source": [
    "### Extra\n",
    "The following information is extra and is informational only. In this lesson, we discussed the file format JSON that is designed to interchange information in a human-readable form. But in lesson 12 we learned that it is sometimes faster to use binary representation of things when we are processing them with a computer. The JSON standard still uses a lot of overhead to manage the data that it is trying to communicate. If we do not care about the human readability of the data, we can use the CBOR standard instead of the JSON standard. This stands for **C**oncise **B**inary **O**bject **R**epresentation and does the same as JSON but in a faster and more compressed way.\n",
    "\n"
   ]
  },
  {
   "cell_type": "code",
   "execution_count": null,
   "metadata": {},
   "outputs": [],
   "source": []
  }
 ],
 "metadata": {
  "celltoolbar": "Slideshow",
  "kernelspec": {
   "display_name": "Haskell",
   "language": "haskell",
   "name": "haskell"
  },
  "language_info": {
   "codemirror_mode": "ihaskell",
   "file_extension": ".hs",
   "mimetype": "text/x-haskell",
   "name": "haskell",
   "pygments_lexer": "Haskell",
   "version": "8.10.7"
  },
  "rise": {
   "enable_chalkboard": true,
   "header": "<img style=\"position: relative; left: 1230px; width: 200px; top: 10px;\" src=\"https://raw.githubusercontent.com/rober-m/haskell-bootcamp/main/images/input-output.svg\"/>"
  }
 },
 "nbformat": 4,
 "nbformat_minor": 4
}
