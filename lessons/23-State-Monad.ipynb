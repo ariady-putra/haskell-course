{
 "cells": [
  {
   "cell_type": "markdown",
   "metadata": {},
   "source": [
    "# State Monad"
   ]
  },
  {
   "cell_type": "markdown",
   "metadata": {},
   "source": [
    "## Outline\n",
    "\n",
    "* Incentive for the State monad\n",
    "\n",
    "* The State monad\n",
    "  - Definition of the State monad\n",
    "\n",
    "  - Helper functions\n",
    "\n",
    "  - MonadState type class\n",
    "  \n",
    "  - Simple example\n",
    "  \n",
    "* State monad examples"
   ]
  },
  {
   "cell_type": "markdown",
   "metadata": {},
   "source": [
    "In this lesson, we will learn about the State monad type and how you can use it. First we present the reason why introducing the State monad. Then we show the State monad definition and helper functions. We also look at the `MonadState` type class and in the end show some code examples that use the State monad."
   ]
  },
  {
   "cell_type": "markdown",
   "metadata": {},
   "source": [
    "## Incentive for State monad"
   ]
  },
  {
   "cell_type": "markdown",
   "metadata": {},
   "source": [
    "We talked in the previous two lectures how you can use the Reader and Writer Monad if you have to read from a environment variable or write to it.\n",
    "\n",
    "If you need to perform both operations you can use the State Monad. Let's first look at an example where we perform read and write operations without the State monad."
   ]
  },
  {
   "cell_type": "markdown",
   "metadata": {},
   "source": [
    "Our example program will asks the user for a password and perorm four checks on it:\n",
    "- check1: Does the password have any duplicate letters (lower-upper case does not make a difference)\n",
    "\n",
    "- check2: Is the password at least 10 characters long.\n",
    "\n",
    "- check3: Are any symbols included in the password.\n",
    "\n",
    "- check4: Is there at least one upper case and one lower case letter in the password."
   ]
  },
  {
   "cell_type": "markdown",
   "metadata": {},
   "source": [
    "In case one of the checks is not satisfied the program updates the password so that it passes the check.\n",
    "\n",
    "If the update could influence a previous check the program performs the previous check again."
   ]
  },
  {
   "cell_type": "markdown",
   "metadata": {},
   "source": [
    "The program keeps also track of performed checks. Once the recursion limit of 20 checks is passed the checks stop. \n",
    "\n",
    "In the end the program notfies the user with the result of the check procedure."
   ]
  },
  {
   "cell_type": "code",
   "execution_count": null,
   "metadata": {},
   "outputs": [],
   "source": [
    "import Data.Char (toLower, toUpper)\n",
    "\n",
    "type Password = String\n",
    "type OperationsCount = Int\n",
    "type CheckData = (OperationsCount, Password)\n",
    "\n",
    "-- Removes duplicated characters\n",
    "check1 :: CheckData -> CheckData\n",
    "check1 (count,password) = if count > 20\n",
    "    then (count + 1, \"\")\n",
    "    else check2 (count + 1, filterPass password)\n",
    "  where filterPass [] = []\n",
    "        filterPass (x:xs) = x : filterPass (filter (filterFunc x) xs)\n",
    "        filterFunc x = \\char -> char `notElem` [toLower x,toUpper x]\n",
    "\n",
    "-- Checks that the length of the password is not to small\n",
    "check2 :: CheckData -> CheckData\n",
    "check2 (count,password) = \n",
    "  if length password < 10\n",
    "  then check1 (count + 1, extendedPassword)\n",
    "  else check3 (count + 1, password)\n",
    "  where shortage = 10 - length password\n",
    "        passwordExtension = take shortage (drop count $ cycle allLetters)\n",
    "        extendedPassword = password ++ passwordExtension\n",
    "\n",
    "-- Checks if symbols are included\n",
    "check3 :: CheckData -> CheckData\n",
    "check3 (count,password) = if noSymbols\n",
    "    then check4 (count + 1, extendedPassword)\n",
    "    else check4 (count + 1, password)\n",
    "  where noSymbols = all (`elem` allLetters) password\n",
    "        passwordExtension = take 1 (drop count $ cycle \"@!#$%&()?=\")\n",
    "        extendedPassword = password ++ passwordExtension\n",
    "\n",
    "-- Checks there are at least 1 upper and 1 smaller letters\n",
    "check4 :: CheckData -> CheckData\n",
    "check4 (count,password)  \n",
    "  | allLower = check1 (count + 1, upperExtendedPassword)\n",
    "  | allUpper = check1 (count + 1, lowerExtendedPassword)\n",
    "  | otherwise = (count + 1, password)\n",
    "  where allLower = password == map toLower password\n",
    "        allUpper = password == map toUpper password\n",
    "        upperExtendedPassword = password ++ take 1 (drop count $ cycle upperLetters)\n",
    "        lowerExtendedPassword = password ++ take 1 (drop count $ cycle lowerLetters)\n",
    "\n",
    "lowerLetters :: String\n",
    "lowerLetters = \"abcdefghijklmnopqrstuvwxyz\"\n",
    "\n",
    "upperLetters :: String\n",
    "upperLetters = \"ABCDEFGHIJKLMNOPQRSTUVWXZY\"\n",
    "\n",
    "allLetters :: String\n",
    "allLetters = lowerLetters ++ upperLetters\n",
    "\n",
    "main :: IO ()\n",
    "main = do\n",
    "  putStrLn \"Please input a password:\"\n",
    "  password <- getLine\n",
    "  if null password\n",
    "  then main\n",
    "  else do\n",
    "    let (count, checkedPassword) = check1 (0,password)\n",
    "    if count > 20\n",
    "    then putStrLn \"Hit recursion limit of 20 password checks.\"\n",
    "    else \n",
    "      if password == checkedPassword\n",
    "      then putStrLn \"Successfully performed all checks.\"\n",
    "      else do\n",
    "        putStrLn \"Successfully performed all checks.\"\n",
    "        putStrLn $ \"Suggested improved passord: \" ++ checkedPassword\n",
    "\n",
    "main"
   ]
  },
  {
   "cell_type": "markdown",
   "metadata": {},
   "source": [
    "Our program is fairly simple because it passes around only a tuple of two basic data types. \n",
    "\n",
    "Passing larger data around, reading and updating it can get more tedious when programs get bigger. "
   ]
  },
  {
   "cell_type": "markdown",
   "metadata": {},
   "source": [
    "This is where the **State monad** can help us out. "
   ]
  },
  {
   "cell_type": "markdown",
   "metadata": {},
   "source": [
    "## The State monad"
   ]
  },
  {
   "cell_type": "markdown",
   "metadata": {},
   "source": [
    "### Definition of the State monad"
   ]
  },
  {
   "cell_type": "markdown",
   "metadata": {},
   "source": [
    "The Haskell definition of the `State` type is defined in terms of the `StateT` monad transformer:\n",
    "```haskell\n",
    "type State s = StateT s Identity\n",
    "```"
   ]
  },
  {
   "cell_type": "markdown",
   "metadata": {},
   "source": [
    "It is contained in the **Control.Monad.Trans.State** module that comes with the **transformers** package. \n",
    "\n",
    "As said before we will learn about Monad transformers in lesson 25."
   ]
  },
  {
   "cell_type": "markdown",
   "metadata": {},
   "source": [
    "You can also define the State monad without using a monad transformer that works equally as the one above. \n",
    "\n",
    "Same as for the Reader and Writer monad we will chose this aproach. Let's first look at the definition of the **State** type:\n",
    "```haskell\n",
    "newtype State s a = State { runState :: s -> (a, s) }\n",
    "```"
   ]
  },
  {
   "cell_type": "markdown",
   "metadata": {},
   "source": [
    "We see that the `State` data constructor holds a function that can be accessed with the name `runState`.\n",
    "\n",
    "It takes in a state and returns a tuple that contains a variable of type `a` and another state variable."
   ]
  },
  {
   "cell_type": "markdown",
   "metadata": {},
   "source": [
    "Same as for Reader and Writer monad we can now create a Monad instance for `State s` and not just `State`.\n",
    "\n",
    "This means the type of our state will remain the same as we compose our function with `(>>=)`.\n",
    "```haskell\n",
    "(>>=) :: State s a        ->\n",
    "         (a -> State s b) ->\n",
    "         State s b\n",
    "```"
   ]
  },
  {
   "cell_type": "markdown",
   "metadata": {},
   "source": [
    "The monad instance for `State s` would be defined as:\n",
    "```haskell\n",
    "instance Monad (State s) where\n",
    "    return a = State $ \\st -> (a, st)\n",
    "    stMonad >>= f = State $ \\st1 -> \n",
    "        let (a, st2) = runState stMonad st1\n",
    "        in runState (f a) st2\n",
    "```"
   ]
  },
  {
   "cell_type": "markdown",
   "metadata": {},
   "source": [
    "Also here we need to define the Functor and Applicative instances.\n",
    "```haskell\n",
    "instance Functor (State s) where\n",
    "fmap f stFunctor = State $ \\st1 ->\n",
    "    let (a, st2) = runState stFunctor st1\n",
    "    in (f a, st2)\n",
    "\n",
    "instance Applicative (State s) where\n",
    "pure a = State $ \\st -> (a, st)\n",
    "f <*> g = State $ \\st1 ->\n",
    "    let (h, st2) = runState f st1\n",
    "        (a, st3) = runState g st2\n",
    "    in (h a, st3)\n",
    "```"
   ]
  },
  {
   "cell_type": "markdown",
   "metadata": {},
   "source": [
    "### Helper functions"
   ]
  },
  {
   "cell_type": "markdown",
   "metadata": {},
   "source": [
    "The **Control.Monad.Trans.State** module also defines some helper functions for the State moand. \n",
    "\n",
    "You have the option to import this module as a lazy or a strict module by appending **.Lazy** or **.Strict** to the module name."
   ]
  },
  {
   "cell_type": "markdown",
   "metadata": {},
   "source": [
    "Commonly used helper functions are `get` and `put` that are used inside a State monad. \n",
    "```haskell\n",
    "get :: State s s\n",
    "get = State $ \\st -> (st, st)\n",
    "\n",
    "put :: s -> State s ()\n",
    "put st = State $ \\_ -> ((), st)\n",
    "```"
   ]
  },
  {
   "cell_type": "markdown",
   "metadata": {},
   "source": [
    "The `get` function gets the state variable of the State monad. And the `put` function sets the state variable of the State monad. \n",
    "\n",
    "They are both used inside the State monad. To get the state variable you need to use the `<-` oprator that takes variables out of the monadic context."
   ]
  },
  {
   "cell_type": "markdown",
   "metadata": {},
   "source": [
    "A simple workflow in a State monad can contain the code pattern below:\n",
    "```haskell\n",
    "st <- get\n",
    "let st' = f st\n",
    "put st' \n",
    "```"
   ]
  },
  {
   "cell_type": "markdown",
   "metadata": {},
   "source": [
    "Another helper function is the `state` function which performs the inverse operation of the `runState` function.\n",
    "\n",
    "It takes in a function of type `s -> (a, s)` and produces a State monad.\n",
    "```haskell\n",
    "state :: (s -> (a, s)) -> State s a\n",
    "state f = do\n",
    "    st <- get\n",
    "    let ~(a, st') = f st\n",
    "    put st'\n",
    "    return a\n",
    "```"
   ]
  },
  {
   "cell_type": "markdown",
   "metadata": {},
   "source": [
    "You can run it inside a state monad to update the state variable by applying the input function to it. "
   ]
  },
  {
   "cell_type": "markdown",
   "metadata": {},
   "source": [
    "Then there are the `evalState` and `execState` helper functions.\n",
    "```haskell\n",
    "evalState :: State s a -> s -> a\n",
    "evalState stMonad st =\n",
    "    fst $ runState stMonad st\n",
    "\n",
    "execState :: State s a -> s -> s\n",
    "execState stMonad st =\n",
    "    snd $ runState stMonad st\n",
    "```"
   ]
  },
  {
   "cell_type": "markdown",
   "metadata": {},
   "source": [
    "The `evalState` function returns the result variable of the State monad. The `execState` function returns the state variable of the State monad. \n",
    "\n",
    "The difference to the functions `get` and `put` is that they are used outside of a State monad."
   ]
  },
  {
   "cell_type": "markdown",
   "metadata": {},
   "source": [
    "Two other helper functions that this module also contains are the `modify` and `gets` functions.\n",
    "```haskell\n",
    "modify :: (s -> s) -> State s ()\n",
    "modify f = state $ \\st -> ((), f st)\n",
    "\n",
    "gets :: (s -> a) -> State s a\n",
    "gets f = do\n",
    "    st <- get\n",
    "    return (f st)\n",
    "```\n",
    "They are also used inside a State monad."
   ]
  },
  {
   "cell_type": "markdown",
   "metadata": {},
   "source": [
    "The `modify` function takes in a function and updates the state monad such that is applies the function to the state variable.\n",
    "\n",
    "The `gets` function takes in a function, applies it to the state variable and writes the result in the type `a` variable of the state monad."
   ]
  },
  {
   "cell_type": "markdown",
   "metadata": {},
   "source": [
    "### MonadState type class"
   ]
  },
  {
   "cell_type": "markdown",
   "metadata": {},
   "source": [
    "The State monad and the helper functions presented in the previous two chapters can be also found in the **Control.Monad.Reader** module.\n",
    "\n",
    "Same as for Reader and Writer monad this module is also part of the **mtl** package that extends the **transformers** package."
   ]
  },
  {
   "cell_type": "markdown",
   "metadata": {},
   "source": [
    "This module defines the `MonadReader` type class that contains the functions `get`, `put` and `state`.\n",
    "\n",
    "They are equivalent to the functions describer in the previous chapter."
   ]
  },
  {
   "cell_type": "markdown",
   "metadata": {},
   "source": [
    "```haskell\n",
    "class Monad m => MonadState s m | m -> s where\n",
    "    get :: m s\n",
    "    get = state (\\s -> (s, s))\n",
    "\n",
    "    put :: s -> m ()\n",
    "    put s = state (\\_ -> ((), s))\n",
    "\n",
    "    state :: (s -> (a, s)) -> m a\n",
    "    state f = do\n",
    "      s <- get\n",
    "      let ~(a, s') = f s\n",
    "      put s'\n",
    "      return a\n",
    "    {-# MINIMAL state | get, put #-}\n",
    "```"
   ]
  },
  {
   "cell_type": "markdown",
   "metadata": {},
   "source": [
    "The minimal complete definition are the `get` and `put` functions or the `state` function. \n",
    "\n",
    "Same as for the `MonadReader` and `MonadWriter` type classes you need to use also here the *MultiParamTypeClasses* and *FunctionalDependencies* language pragma."
   ]
  },
  {
   "cell_type": "markdown",
   "metadata": {},
   "source": [
    "For our State monad we could write an instance of the `MonadState` type class as:\n",
    "```haskell\n",
    "instance MonadState s (State s) where\n",
    "    put :: s -> State s ()\n",
    "    put st = State $ \\_ -> ((), st)\n",
    "\n",
    "    get :: State s s\n",
    "    get = State $ \\st -> (st, st)\n",
    "```"
   ]
  },
  {
   "cell_type": "markdown",
   "metadata": {},
   "source": [
    "Also here you would need to include the language pragmas *FlexibleInstances* and *InstanceSigs*.\n",
    "\n",
    "What all four language pragmas do was already explained in the Reader monad lesson. "
   ]
  },
  {
   "cell_type": "markdown",
   "metadata": {},
   "source": [
    "### Simple example"
   ]
  },
  {
   "cell_type": "markdown",
   "metadata": {},
   "source": [
    "In practical Haskell code we do not define functions, types and type classes from the previous chapters on our own. \n",
    "\n",
    "We can import them from the **Control.Monad.State** module that uses Monad transformes. "
   ]
  },
  {
   "cell_type": "markdown",
   "metadata": {},
   "source": [
    "As said in the begining these functions and types work same as the one presented in previous chapters.\n",
    "\n",
    "Let's write an example of a State monad that helps us compute the first n fibonacci numbers."
   ]
  },
  {
   "cell_type": "code",
   "execution_count": null,
   "metadata": {},
   "outputs": [],
   "source": [
    "import Control.Monad.State (MonadState(put, get), State, execState)\n",
    "\n",
    "type FibNums = [Int]\n",
    "\n",
    "printFibonacci :: IO ()\n",
    "printFibonacci = do\n",
    "    putStrLn \"How many fibonacci numbers do you want to see:\"\n",
    "    n <- (read <$> getLine) :: IO Int\n",
    "    if n < 1\n",
    "    then do\n",
    "        putStrLn \"n has to be a positive number. Try again.\"\n",
    "        printFibonacci\n",
    "    else do\n",
    "        putStrLn \"Fibonacci numbers are:\"\n",
    "        if n == 1 || n == 2\n",
    "        then print $ take n [0,1]\n",
    "        else do\n",
    "            let initialState = [n,0,1]\n",
    "                finalState = execState calculateFib initialState\n",
    "            print $ tail finalState\n",
    "\n",
    "calculateFib :: State FibNums ()\n",
    "calculateFib = do\n",
    "    st <- get\n",
    "    let newSt = st ++ [last st + last (init st)]\n",
    "        finished = length (tail newSt) >= head newSt \n",
    "    put newSt\n",
    "    if finished \n",
    "    then return ()\n",
    "    else calculateFib\n",
    "\n",
    "printFibonacci"
   ]
  },
  {
   "cell_type": "markdown",
   "metadata": {},
   "source": [
    "**Code explanation**\n",
    "\n",
    "First ask the user for a number and check if it is positive. In case that it is 1 or 2 no computation is needed and we print the list directly.\n",
    "\n",
    "Else we run the **calculateFib** State monad that we provide with the initial state which is a list that contains the input number from the user and the first to fibonacci elements. "
   ]
  },
  {
   "cell_type": "markdown",
   "metadata": {},
   "source": [
    "The **calculateFib** State monad first gets the state, then it updates the state and checks if we already computed enough elements.\n",
    "\n",
    "If not it recursively calls itself again and if yes it returns the state together with an empty tuple."
   ]
  },
  {
   "cell_type": "markdown",
   "metadata": {},
   "source": [
    "## State monad examples"
   ]
  },
  {
   "cell_type": "markdown",
   "metadata": {},
   "source": [
    "Let's first look at the previous fibonacci example where we rewrite the `calculateFib` state monad such that we use the `modify` and `gets` functions."
   ]
  },
  {
   "cell_type": "code",
   "execution_count": null,
   "metadata": {},
   "outputs": [],
   "source": [
    "import Control.Monad.State (modify, gets)\n",
    "\n",
    "calculateFib :: State FibNums ()\n",
    "calculateFib = do\n",
    "    let updateSt st = st ++ [last st + last (init st)]\n",
    "        finished st = length (tail st) >= head st \n",
    "\n",
    "    modify updateSt\n",
    "    finished <- gets finished\n",
    "    if finished \n",
    "    then return ()\n",
    "    else calculateFib\n",
    "\n",
    "printFibonacci"
   ]
  },
  {
   "cell_type": "markdown",
   "metadata": {},
   "source": [
    "If we use this version with the previous code it works the same. We see there is no need to use the `get` and `set` functions in this example.\n",
    "\n",
    "Instead we define functions that take in a state and use them when we want to get and set the current state."
   ]
  },
  {
   "cell_type": "markdown",
   "metadata": {},
   "source": [
    "Next we write a game that takes in a string radomly composed of the characters `a`, `b` and `c`.\n",
    "\n",
    "The game works like this: \n",
    "- we start with the intial state where the count is 0 and the game is OFF\n",
    "- the caracter `c` switches the state of the game from OFF to ON or vice versa\n",
    "- the caracter `a` adds +1 to the count if the game is ON\n",
    "- the caracter `b` adds -1 to the count if the game is ON "
   ]
  },
  {
   "cell_type": "markdown",
   "metadata": {},
   "source": [
    "In the end the final count of the game is printed. We use the state monad to implement this game and also the `evalState` function."
   ]
  },
  {
   "cell_type": "code",
   "execution_count": null,
   "metadata": {},
   "outputs": [],
   "source": [
    "import Control.Monad.State (evalState, MonadState(put, get), State)\n",
    "\n",
    "type GameValue = String\n",
    "type GameState = (Bool, Int)\n",
    "\n",
    "playGame :: String -> State GameState GameValue\n",
    "playGame [] = do\n",
    "    (_, score) <- get\n",
    "    return $ \"Final score is: \" ++ show score\n",
    "playGame (x : xs) = do\n",
    "    (on, score) <- get\n",
    "    case x of\n",
    "        'a' | on -> put (on, score + 1)\n",
    "        'b' | on -> put (on, score - 1)\n",
    "        'c' -> put (not on, score)\n",
    "        _ -> put (on, score)\n",
    "    playGame xs\n",
    "\n",
    "main :: IO ()\n",
    "main = do\n",
    "    let startState = (False, 0::Int)\n",
    "    putStrLn $ evalState (playGame \"acaaabcbbcbaa\") startState"
   ]
  },
  {
   "cell_type": "markdown",
   "metadata": {},
   "source": [
    "When using the pipe symbol `|` in a case expression it works as a logical AND and lets you add a condition to a case. "
   ]
  },
  {
   "cell_type": "markdown",
   "metadata": {},
   "source": [
    "In our last example we look at our initial password check example and how we can re-write it with the use of the State monad.\n",
    "\n",
    "Our state variable will become the `CheckData` variable. And the return variable of the State monad will be a message of type `String`."
   ]
  },
  {
   "cell_type": "code",
   "execution_count": null,
   "metadata": {},
   "outputs": [],
   "source": [
    "import Control.Monad.State (MonadState(put, get), runState, State)\n",
    "import Data.Char (toLower, toUpper)\n",
    "\n",
    "type Message = String\n",
    "type Password = String\n",
    "type OperationsCount = Int\n",
    "type CheckData = (OperationsCount, Password)\n",
    "\n",
    "-- Removes duplicated characters\n",
    "check1 :: State CheckData Message\n",
    "check1 = do\n",
    "    (count, password) <- get\n",
    "    put (count + 1, filterPass password)\n",
    "    if count > 20\n",
    "    then do\n",
    "        return \"Hit recursion limit of 20 password checks.\"\n",
    "    else check2\n",
    "  where filterPass [] = []\n",
    "        filterPass (x:xs) = x : filterPass (filter (filterFunc x) xs)\n",
    "        filterFunc x = \\char -> char `notElem` [toLower x,toUpper x]\n",
    "\n",
    "-- Checks that the length of the password is not to small\n",
    "check2 :: State CheckData Message\n",
    "check2 = do\n",
    "    (count, password) <- get\n",
    "    if length password < 10\n",
    "    then do\n",
    "        put (count + 1, extendPassword password count)\n",
    "        check1\n",
    "    else do\n",
    "        put (count + 1, password)\n",
    "        check3\n",
    "  where extendPassword password count = let shortage = 10 - length password\n",
    "                                            passwordExtension = take shortage (drop count $ cycle allLetters)\n",
    "                                        in password ++ passwordExtension\n",
    "\n",
    "-- Checks if symbols are included\n",
    "check3 :: State CheckData Message\n",
    "check3 = do\n",
    "    (count, password) <- get\n",
    "    if noSymbols password\n",
    "    then put (count + 1, extendPassword password count)\n",
    "    else put (count + 1, password)\n",
    "    check4 \n",
    "  where noSymbols password = all (`elem` allLetters) password\n",
    "        extendPassword password count = let passwordExtension = take 1 (drop count \"@!#$%&()?=\")\n",
    "                                        in password ++ passwordExtension\n",
    "\n",
    "-- Checks there are at least 1 upper and 1 smaller letters\n",
    "check4 :: State CheckData Message\n",
    "check4 = do\n",
    "    (count, password) <- get\n",
    "    if allLower password\n",
    "    then do\n",
    "        put (count + 1, upperExtendPassword password count)\n",
    "        check1\n",
    "    else if allUpper password\n",
    "         then do \n",
    "            put (count + 1, lowerExtendPassword password count) \n",
    "            check1\n",
    "        else do\n",
    "            put (count + 1, password)\n",
    "            return \"Successfully performed all checks.\"\n",
    "  where allLower password = password == map toLower password\n",
    "        allUpper password = password == map toUpper password\n",
    "        upperExtendPassword password count = password ++ take 1 (drop count $ cycle upperLetters)\n",
    "        lowerExtendPassword password count = password ++ take 1 (drop count $ cycle lowerLetters)\n",
    "\n",
    "lowerLetters :: String\n",
    "lowerLetters = \"abcdefghijklmnopqrstuvwxyz\"\n",
    "\n",
    "upperLetters :: String\n",
    "upperLetters = \"ABCDEFGHIJKLMNOPQRSTUVWXZY\"\n",
    "\n",
    "allLetters :: String\n",
    "allLetters = lowerLetters ++ upperLetters\n",
    "\n",
    "main :: IO ()\n",
    "main = do\n",
    "  putStrLn \"Please input a password:\"\n",
    "  password <- getLine\n",
    "  if null password\n",
    "  then main\n",
    "  else do\n",
    "    let (msg,(count, checkedPassword)) = runState check1 (0,password)\n",
    "    if password /= checkedPassword\n",
    "    then do\n",
    "        putStrLn msg\n",
    "        putStrLn $ \"Suggested improved passord: \" ++ checkedPassword\n",
    "    else putStrLn msg\n",
    "\n",
    "main"
   ]
  },
  {
   "cell_type": "markdown",
   "metadata": {},
   "source": [
    "We see that data does not need to be passed around since the state is propagated to the next monad that is called.\n",
    "\n",
    "Also some of the logic for creating the user message that is printed at the end, is now moved into the State monads. "
   ]
  },
  {
   "cell_type": "markdown",
   "metadata": {},
   "source": [
    "## Recap"
   ]
  },
  {
   "cell_type": "markdown",
   "metadata": {},
   "source": [
    "In this lesson we've discussed:\n",
    "\n",
    "- the motivation for introducing the State monad type \n",
    "\n",
    "- the definition of the State monad type\n",
    "\n",
    "- helper functions that work with the State monad\n",
    "\n",
    "- examples that use the State monad type and its helper functions"
   ]
  }
 ],
 "metadata": {
  "kernelspec": {
   "display_name": "Haskell",
   "language": "haskell",
   "name": "haskell"
  },
  "language_info": {
   "codemirror_mode": "ihaskell",
   "file_extension": ".hs",
   "mimetype": "text/x-haskell",
   "name": "haskell",
   "pygments_lexer": "Haskell",
   "version": "8.10.7"
  }
 },
 "nbformat": 4,
 "nbformat_minor": 4
}
