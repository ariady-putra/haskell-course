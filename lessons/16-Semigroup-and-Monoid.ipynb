{
 "cells": [
  {
   "cell_type": "markdown",
   "metadata": {},
   "source": [
    "# Semigroup and Monoid"
   ]
  },
  {
   "cell_type": "markdown",
   "metadata": {},
   "source": [
    "## Outline\n",
    "\n",
    "* The mathematics\n",
    "\n",
    "* Definition of Semigroup in Haskell\n",
    "\n",
    "* Semigroup example\n",
    "\n",
    "* Definition of Monoid in Haskell\n",
    "\n",
    "* Monoid examples\n",
    "\n",
    "* Monoid laws"
   ]
  },
  {
   "cell_type": "markdown",
   "metadata": {},
   "source": [
    "In this lesson, we will add another layer of abstraction that is commonly used in Haskell. \n",
    "\n",
    "To give intuition to the reasons why this is done, we first will introduce these concepts from mathematics. \n",
    "\n",
    "After that, we will see how Haskell implements these ideas. The covered ideas are semigroups and monoids."
   ]
  },
  {
   "cell_type": "markdown",
   "metadata": {},
   "source": [
    "## The mathematics"
   ]
  },
  {
   "cell_type": "markdown",
   "metadata": {},
   "source": [
    "At its core, mathematics tries to describe objects (like types) and how these objects relate to each other  (functions). Here, some classes of object have an extra certain structure to them. \n",
    "\n",
    "For example, if we consider the integers `(... -2, -1, 0, 1, 2, ...)`, we can add these and end up again with an integer. "
   ]
  },
  {
   "cell_type": "markdown",
   "metadata": {},
   "source": [
    "Additionally, the addition operator on these integers has an extra property, the order of adding three integers does not matter! Or more symbolic,\n",
    "```\n",
    "(a+b)+c = a+(b+c)\n",
    "```\n",
    "We call this property associativity. If objects, like the integers in the example, have such an associative operator, we call the **two** together a semigroup. "
   ]
  },
  {
   "cell_type": "markdown",
   "metadata": {},
   "source": [
    "Semigroups are common, and we have seen examples of these already, to name a few pairs\n",
    "\n",
    "Objects | Operator | Associative property\n",
    "--- | --- | ---\n",
    "`Integers` | `(*) :: Integer -> Integer -> Integer` | `(a*b)*c = a*(b*c)`\n",
    "`Integers` | `(+) :: Integer -> Integer -> Integer` | `(a+b)+c =  a+(b+c)`\n",
    "`String` | `++ :: String -> String -> String ` | `(a ++ b) ++ c = a ++ (b ++ c)`\n",
    "`Bool` | `(\\|\\|) :: Bool -> Bool -> Bool ` | `(a \\|\\| b) \\|\\| c = a \\|\\| (b \\|\\| c)`\n",
    "`Bool` | `(&&) :: Bool -> Bool -> Bool ` | `(a && b ) && c = a && (b && c)`"
   ]
  },
  {
   "cell_type": "markdown",
   "metadata": {},
   "source": [
    "Note that there may be multiple associative operators available for a given object that together make them a semigroup! \n",
    "\n",
    "In Haskell, these pairs of objects and operators are captured in the `Semigroup` class."
   ]
  },
  {
   "cell_type": "markdown",
   "metadata": {},
   "source": [
    "Notice all of the above examples in the table have an extra thing in common, they have an element that under their operator leaves the other entry unaltered, or more explicit for each\n",
    "\n",
    "Objects | Associative operator | Identity\n",
    "--- | --- | ---\n",
    "`Integers` | `(*) :: Integer -> Integer -> Integer` | `a*1 = a = 1*a`\n",
    "`Integers` | `(+) :: Integer -> Integer -> Integer` | `a+0 = a =  a+(b+c)`\n",
    "`String` | `++ :: String -> String -> String ` | `a ++ \"\" = a = \"\" ++ a`\n",
    "`Bool` | `(\\|\\|) :: Bool -> Bool -> Bool` | `a \\|\\| False = a = False \\|\\| a`\n",
    "`Bool` | `(&&) :: Bool -> Bool -> Bool ` | `a && True = a = True && a`"
   ]
  },
  {
   "cell_type": "markdown",
   "metadata": {},
   "source": [
    "We call this **unique** object that leave other objects unchanged the identity element. \n",
    "\n",
    "If a semigroup has such an element the pair, objects and associative operator, are called a monoid. "
   ]
  },
  {
   "cell_type": "markdown",
   "metadata": {},
   "source": [
    "This does not mean that all semigroups are always monoids! \n",
    "\n",
    "For example, the even numbers with associative operator `(*)` does not have the identity element as an object, so it cannot be made into a monoid."
   ]
  },
  {
   "cell_type": "markdown",
   "metadata": {},
   "source": [
    "## Definition of Semigroup in Haskell\n",
    "Semigroup is a type class that provides the associative operator `<>` that is used for combining the variables of same type. Here is the type signature,\n",
    "```haskell\n",
    "(<>) :: Semigroup a => a -> a -> a\n",
    "```"
   ]
  },
  {
   "cell_type": "markdown",
   "metadata": {},
   "source": [
    "Some of the Haskell types have a built-in instance of Semigroup, lists [] for example have this. \n",
    "\n",
    "The more general `<>` operator behaves the same as the `++` operator for lists."
   ]
  },
  {
   "cell_type": "code",
   "execution_count": null,
   "metadata": {},
   "outputs": [],
   "source": [
    "[1] <> [2] -- gives you [1,2]\n",
    "\"a\" <> \"b\" -- gives you \"ab\""
   ]
  },
  {
   "cell_type": "markdown",
   "metadata": {},
   "source": [
    "We saw that the integers do not have one unique way of implementing a semigroup, both `*` and `+` could be used for the `<>` operator. \n",
    "\n",
    "This is why Haskell provides no built-in semigroup instance for the integers. But we can implement a semigroup ourselves:"
   ]
  },
  {
   "cell_type": "code",
   "execution_count": null,
   "metadata": {},
   "outputs": [],
   "source": [
    "instance Semigroup Integer where\n",
    "   (<>) x y = x + y\n",
    "\n",
    "29 <> 31"
   ]
  },
  {
   "cell_type": "markdown",
   "metadata": {},
   "source": [
    "## Semigroup example"
   ]
  },
  {
   "cell_type": "markdown",
   "metadata": {},
   "source": [
    "Let's define our own type called Game where we define 4 options: Rock, Paper, Scissors and Mistake. \n",
    "\n",
    "When mixing them we play by standard rules [(1)](https://en.wikipedia.org/wiki/Rock_paper_scissors) and add the Mistake element that is the case where someone did not make a clear choice. \n",
    "\n",
    "And mixing Mistake with any of the other 3 choices gives the other choice. "
   ]
  },
  {
   "cell_type": "code",
   "execution_count": null,
   "metadata": {},
   "outputs": [],
   "source": [
    "data Game = Rock | Paper | Scissors | Mistake deriving (Show, Eq)\n",
    "\n",
    "instance Semigroup Game where\n",
    "    (<>) Rock Paper = Paper\n",
    "    (<>) Paper Rock = Paper\n",
    "    (<>) Rock Scissors = Rock\n",
    "    (<>) Scissors Rock = Rock\n",
    "    (<>) Paper Scissors = Scissors\n",
    "    (<>) Scissors Paper = Scissors\n",
    "    (<>) a b | a == b = a\n",
    "             | a == Mistake = b\n",
    "             | b == Mistake = a\n",
    "\n",
    "c1, c2, c3 :: Game\n",
    "c1 = Rock\n",
    "c2 = Paper\n",
    "c3 = Mistake\n",
    "\n",
    "print $ c1 <> c2\n",
    "print $ c2 <> c2\n",
    "print $ c1 <> c3\n",
    "print $ c3 <> c3"
   ]
  },
  {
   "cell_type": "markdown",
   "metadata": {},
   "source": [
    "You see that the order of combination has to be taken in account when defining the Semigroup instance."
   ]
  },
  {
   "cell_type": "markdown",
   "metadata": {},
   "source": [
    "We also use guards to cover the case when one of the game choices is Mistake. \n",
    "\n",
    "Because it is defined last all the cases before it are considered first."
   ]
  },
  {
   "cell_type": "markdown",
   "metadata": {},
   "source": [
    "## Definition of Monoid"
   ]
  },
  {
   "cell_type": "markdown",
   "metadata": {},
   "source": [
    "As we saw in the mathematics section, a Monoid is an extension of the Semigroup type class. \n",
    "\n",
    "So it is also used for combining variables of the same type."
   ]
  },
  {
   "cell_type": "markdown",
   "metadata": {},
   "source": [
    "The Monoid type class definition is:\n",
    "```haskell\n",
    "class Semigroup a => Monoid a where\n",
    "  mempty :: a\n",
    "  mappend :: a -> a -> a\n",
    "  mconcat :: [a] -> a\n",
    "```"
   ]
  },
  {
   "cell_type": "markdown",
   "metadata": {},
   "source": [
    "The `mappend` function has the same type as the `<>` operator from Semigroup, so you can simply say `mappend = (<>)` if you defined `<>`. \n",
    "\n",
    "The `mempty` variable is used as the identity element, which means that combined with any other element, it does not change the other element. \n",
    "\n",
    "The `mconcat` function is used for combining multiple elements together with `mapend`. \n",
    "\n",
    "The minimal complete definition for the Monoid type class are only the `mempty` and `mappend`."
   ]
  },
  {
   "cell_type": "markdown",
   "metadata": {},
   "source": [
    "Lists have an instance of Monoid, so you can use the Monoid operators as follows:"
   ]
  },
  {
   "cell_type": "code",
   "execution_count": null,
   "metadata": {},
   "outputs": [],
   "source": [
    "[1] `mappend` [2]\n",
    "\"a\" `mappend` \"b\"\n",
    "[1] `mappend` mempty\n",
    "mconcat [\"a\",\"b\",\"c\"]"
   ]
  },
  {
   "cell_type": "markdown",
   "metadata": {},
   "source": [
    "Here is how you would implement Monoid for Integer if a Semigroup instance already exists"
   ]
  },
  {
   "cell_type": "code",
   "execution_count": null,
   "metadata": {},
   "outputs": [],
   "source": [
    "instance Monoid Integer where\n",
    "    mempty = 0\n",
    "    mappend = (<>)\n",
    "    \n",
    "1 `mappend` 10"
   ]
  },
  {
   "cell_type": "markdown",
   "metadata": {},
   "source": [
    "## Monoid examples"
   ]
  },
  {
   "cell_type": "markdown",
   "metadata": {},
   "source": [
    "Let's pick up on the Semigroup example and try to implement a Monoid class for it."
   ]
  },
  {
   "cell_type": "code",
   "execution_count": null,
   "metadata": {},
   "outputs": [],
   "source": [
    "instance Monoid Game where\n",
    "    mempty = Mistake\n",
    "    mappend = (<>)\n",
    "\n",
    "print $ mconcat [Paper, Mistake, Rock, Scissors, Mistake] "
   ]
  },
  {
   "cell_type": "markdown",
   "metadata": {},
   "source": [
    "Notice that the previous code returns Paper because <br><br>\n",
    "`mconcat [Paper, Mistake, Rock, Scissors, Mistake]` <br><br>\n",
    "is equal to <br><br>\n",
    "`Paper <> (Mistake <> (Rock <> (Scissors <> Mistake)))`. "
   ]
  },
  {
   "cell_type": "markdown",
   "metadata": {},
   "source": [
    "Let's look now at another example. You have a six sided cube where you have the number 1 one time, the number 2 two times and number 3 three times on it. \n",
    "\n",
    "Now let's create a Cube type with these three options and an instance of Semigroup and Monoid that tells you the probability of the event when you combine two possible number outcomes. "
   ]
  },
  {
   "cell_type": "code",
   "execution_count": null,
   "metadata": {},
   "outputs": [],
   "source": [
    "data CubeProbability = CProb String Rational deriving Eq\n",
    "\n",
    "instance Show CubeProbability where\n",
    "    show (CProb a b) = show a ++ \"|\" ++ show (fromIntegral (round (fromRational b * 100000)) / 1000) ++ \"%\"\n",
    "\n",
    "instance Semigroup CubeProbability where\n",
    "    (<>) cprob1 (CProb \"\" 0) = cprob1\n",
    "    (<>) (CProb \"\" 0) cprob2 = cprob2 \n",
    "    (<>) (CProb num1 prob1) (CProb num2 prob2) = CProb (num1 <> \"-\" <> num2) (prob1*prob2)\n",
    "\n",
    "instance Monoid CubeProbability where\n",
    "    mempty = CProb \"\" 0\n",
    "    mappend = (<>)\n",
    "\n",
    "data Cube = One | Two | Three\n",
    "\n",
    "cube2CProb :: Cube -> CubeProbability\n",
    "cube2CProb cube = case cube of \n",
    "    One -> CProb \"1\" (1/6)\n",
    "    Two -> CProb \"2\" (1/3)\n",
    "    Three -> CProb \"3\" (1/2)\n",
    "\n",
    "case1 :: [Cube]\n",
    "case1 = [Two, One, One, Three, Two]\n",
    "\n",
    "showProbability :: [Cube] -> CubeProbability\n",
    "showProbability scenario = mconcat $ map cube2CProb scenario\n",
    "\n",
    "-- Try defining a different case and see its probability\n",
    "print $ showProbability case1"
   ]
  },
  {
   "cell_type": "markdown",
   "metadata": {},
   "source": [
    "## Monoid laws"
   ]
  },
  {
   "cell_type": "markdown",
   "metadata": {},
   "source": [
    "Monoids are more than just the functions given by their typeclasses. The typeclass also come with a set of laws that come from mathematics."
   ]
  },
  {
   "cell_type": "markdown",
   "metadata": {},
   "source": [
    "Monoid type class has 3 laws:\n",
    "\n",
    "* Identitiy:<br>\n",
    "`mappend mempty x = x`<br>\n",
    "`mappend x mempty = x`\n",
    "\n",
    "* Associativity:<br>\n",
    "`mappend x (mappend y z) = mappend (mappend x y) z`\n",
    "\n",
    "* Definition of mconcat:<br>\n",
    "`mconcat = foldr mappend mempty`"
   ]
  },
  {
   "cell_type": "markdown",
   "metadata": {},
   "source": [
    "The identity law tells you that no matter in which order you append a mempty element to a variable x, you should always get back x. It ensures that mempty is a neutral element.\n",
    "\n",
    "The associativity law ensures that the way we group the monoid actions doesn’t matter because `mappend` ensures that they’ll be evaluated in a consistent order.\n",
    "\n",
    "You have to take care of the first two when you implement a Monoid instance. The third is just a definition of `mconcat` that you get for free."
   ]
  },
  {
   "cell_type": "markdown",
   "metadata": {},
   "source": [
    "Let's see if these laws hold for our `CubeProbability` type that we have defined in the previous example:"
   ]
  },
  {
   "cell_type": "code",
   "execution_count": null,
   "metadata": {},
   "outputs": [],
   "source": [
    "cubeProb1, cubeProb2, cubeProb3 :: CubeProbability\n",
    "cubeProb1 = cube2CProb One\n",
    "cubeProb2 = cube2CProb Two\n",
    "cubeProb3 = cube2CProb Three\n",
    "\n",
    "-- Identity\n",
    "mappend mempty cubeProb1 == cubeProb1\n",
    "mappend cubeProb1 mempty == cubeProb1\n",
    "-- Associativity\n",
    "mappend cubeProb1 (mappend cubeProb2 cubeProb3) == mappend (mappend cubeProb1 cubeProb2) cubeProb3"
   ]
  },
  {
   "cell_type": "markdown",
   "metadata": {},
   "source": [
    "We see the tests all return True. Let's look now at an example where we create an Monoid instance for Int that violates some of these laws."
   ]
  },
  {
   "cell_type": "code",
   "execution_count": null,
   "metadata": {},
   "outputs": [],
   "source": [
    "instance Semigroup Int where\n",
    "    (<>) a b = a + b\n",
    "\n",
    "instance Monoid Int where\n",
    "    mempty = 1 :: Int\n",
    "    mappend = (<>)\n",
    "\n",
    "var1, var2, var3 :: Int\n",
    "var1 = 1\n",
    "var2 = 2\n",
    "var3 = 3\n",
    "\n",
    "mappend mempty var1 == var1\n",
    "mappend var1 mempty == var1\n",
    "mappend var1 (mappend var2 var3) == mappend (mappend var1 var2) var3"
   ]
  },
  {
   "cell_type": "markdown",
   "metadata": {},
   "source": [
    "Haskell does not enforce this rules and the above code still compiles. So they are more like guidelines.\n",
    "\n",
    "It is still good practice to follow them because:\n",
    "- you can better reason about what your code is doing\n",
    "\n",
    "- you can make use of other functions that work with the Monoid type class"
   ]
  },
  {
   "cell_type": "markdown",
   "metadata": {},
   "source": [
    "## Recap"
   ]
  },
  {
   "cell_type": "markdown",
   "metadata": {},
   "source": [
    "In this lesson we've discussed:\n",
    "\n",
    "- the mathematics behind Semigroups and Monoids\n",
    "\n",
    "- the definition and usage of Semigroup type class\n",
    "\n",
    "- the definition and usage of Monoid type class\n",
    "\n",
    "- laws for the Monoid type class"
   ]
  }
 ],
 "metadata": {
  "kernelspec": {
   "display_name": "Haskell",
   "language": "haskell",
   "name": "haskell"
  },
  "language_info": {
   "codemirror_mode": "ihaskell",
   "file_extension": ".hs",
   "mimetype": "text/x-haskell",
   "name": "haskell",
   "pygments_lexer": "Haskell",
   "version": "8.10.7"
  }
 },
 "nbformat": 4,
 "nbformat_minor": 4
}
