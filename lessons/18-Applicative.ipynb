{
 "cells": [
  {
   "cell_type": "markdown",
   "metadata": {},
   "source": [
    "# Applicative"
   ]
  },
  {
   "cell_type": "markdown",
   "metadata": {},
   "source": [
    "## Outline\n",
    "\n",
    "* Incentive for Applicative\n",
    "\n",
    "* Definition of Applicative type class\n",
    "\n",
    "* Using Applicative and Functor together\n",
    "\n",
    "* Applicative examples\n",
    "\n",
    "* Applicative laws\n",
    "\n",
    "In this lesson, we will learn about the Applicative type classe and how you can use it."
   ]
  },
  {
   "cell_type": "markdown",
   "metadata": {},
   "source": [
    "## Incentive for Applicative"
   ]
  },
  {
   "cell_type": "markdown",
   "metadata": {},
   "source": [
    "Imagine you have a function `maybeAdd1 :: Num a => Maybe (a -> a)`. This means that the function migh exist or not. \n",
    "\n",
    "How can this be? Well a practical example is if you use the `<$>` operator with a function like `(+)` and apply it to a `Maybe a` value."
   ]
  },
  {
   "cell_type": "code",
   "execution_count": null,
   "metadata": {},
   "outputs": [],
   "source": [
    "maybeAddition :: Num a => Maybe a -> Maybe (a -> a)\n",
    "maybeAddition maybeVal = (+) <$> maybeVal\n",
    "\n",
    "-- Here is a more detailed breakdown of this function without using <$>\n",
    "maybeAddition' :: Num a => Maybe a -> Maybe (a -> a)\n",
    "maybeAddition' Nothing = Nothing\n",
    "maybeAddition' (Just n) = Just $ (+) n\n",
    "\n",
    "var1 :: Maybe Int\n",
    "var1 = Just 1\n",
    "\n",
    "maybeAdd1 = maybeAddition var1\n",
    ":t maybeAdd1"
   ]
  },
  {
   "cell_type": "markdown",
   "metadata": {},
   "source": [
    "We see that the command `:t` in the code above returns the signature we defined in the begining where type `a` is now `Int`. \n",
    "\n",
    "Now comes the question if you want to use this function on another `Maybe Int` variable how would you do it? "
   ]
  },
  {
   "cell_type": "markdown",
   "metadata": {},
   "source": [
    "The function would then have the type signature:\n",
    "```haskell\n",
    "add1 :: Maybe Int -> Maybe Int\n",
    "```\n",
    "One possibility would be to write the `add1` function such that handles the case of the missing function."
   ]
  },
  {
   "cell_type": "code",
   "execution_count": null,
   "metadata": {},
   "outputs": [],
   "source": [
    "import Data.Maybe ( fromJust )\n",
    "\n",
    "var2 :: Maybe Int\n",
    "var2 = Just 2\n",
    "\n",
    "add1 :: Maybe Int -> Maybe Int\n",
    "add1 Nothing = Nothing\n",
    "add1 (Just n) = Just $ fromJust maybeAdd1 n\n",
    "\n",
    "print $ add1 var2"
   ]
  },
  {
   "cell_type": "markdown",
   "metadata": {},
   "source": [
    "Instead of using pattern matching when defining the `add1` function we can also use the Applicative type class to solve this problem."
   ]
  },
  {
   "cell_type": "markdown",
   "metadata": {},
   "source": [
    "## Definition of Applicative type class"
   ]
  },
  {
   "cell_type": "markdown",
   "metadata": {},
   "source": [
    "The Applicative type class is defined as follows:\n",
    "```haskell\n",
    "class Functor f => Applicative f where\n",
    "  pure :: a -> f a\n",
    "  (<*>) :: f (a -> b) -> f a -> f b\n",
    "  GHC.Base.liftA2 :: (a -> b -> c) -> f a -> f b -> f c\n",
    "  (*>) :: f a -> f b -> f b\n",
    "  (<*) :: f a -> f b -> f a\n",
    "  {-# MINIMAL pure, ((<*>) | liftA2) #-}\n",
    "```"
   ]
  },
  {
   "cell_type": "markdown",
   "metadata": {},
   "source": [
    "We see that Functor is a superclass of Applicative. This means that every type that has an instance of Applicative also has to have an instance of Functor.\n",
    "\n",
    "The minimal complete definition requires the `pure` operator and another operator which can be the operator `<*>` called app or the function `liftA2`. "
   ]
  },
  {
   "cell_type": "markdown",
   "metadata": {},
   "source": [
    "The `pure` function takes a type and puts it into a context. Here is an example with Maybe and lists which both have an instance of Applicative."
   ]
  },
  {
   "cell_type": "markdown",
   "metadata": {},
   "source": [
    "var1 = pure 1 :: Maybe Int\n",
    "var2 = pure 1 :: [Int]\n",
    "\n",
    "print var1\n",
    "print var2"
   ]
  },
  {
   "cell_type": "markdown",
   "metadata": {},
   "source": [
    "Ussually when we work with a type that has an instance of Applicative we are using the `<*>` operator and more rarely the `liftA2` function.\n",
    "\n",
    "The `<*>` operator takes a function and a variable both in the same context and applies the function to the variable after taking them out of their context. \n",
    "\n",
    "Then it puts the result back in the context. Let's see how it can help us to easier defining the `add1` function."
   ]
  },
  {
   "cell_type": "code",
   "execution_count": null,
   "metadata": {},
   "outputs": [],
   "source": [
    "var1 = 1 :: Int\n",
    "var2 = Just 1 :: Maybe Int\n",
    "\n",
    "add1 :: Maybe Int -> Maybe Int\n",
    "add1 maybeInt = maybeAdd1 <*> maybeInt\n",
    "\n",
    "print $ add1 (pure var1)\n",
    "print $ add1 var2"
   ]
  },
  {
   "cell_type": "markdown",
   "metadata": {},
   "source": [
    "We get the same result as before and the function is one line shorter. A good reason to use the `<*>` operator is that it's easier to read the code because it's generic. \n",
    "\n",
    "The same symbol serves the same purpose for all Applicatives. And for types that have already an instance of Applicative as Maybe and lists, the `<*>` operator is already defined."
   ]
  },
  {
   "cell_type": "markdown",
   "metadata": {},
   "source": [
    "## Using Applicative and Functor together"
   ]
  },
  {
   "cell_type": "markdown",
   "metadata": {},
   "source": [
    "If we think a bit about the examples from the previous chapter we may ask ourselves how to write a function `add` that takes in two Maybe values and returns also a Maybe value."
   ]
  },
  {
   "cell_type": "code",
   "execution_count": null,
   "metadata": {},
   "outputs": [],
   "source": [
    "add :: Num a => Maybe a -> Maybe a -> Maybe a\n",
    "add maybeVal1 maybeVal2 = (+) <$> maybeVal1 <*> maybeVal2\n",
    "\n",
    "print $ add var1 var2"
   ]
  },
  {
   "cell_type": "markdown",
   "metadata": {},
   "source": [
    "We see we get again the same result and used much less lines of code. Because of how `<*>` is defined you can always add one more parameter to the function. \n",
    "\n",
    "Also instead of using the `<$>` operator you can use `pure` that puts the function in the begining directly in the maybe context."
   ]
  },
  {
   "cell_type": "code",
   "execution_count": null,
   "metadata": {},
   "outputs": [],
   "source": [
    "var3 :: Maybe Int\n",
    "var3 = Just 3\n",
    "\n",
    "addThree :: Num a => Maybe a -> Maybe a -> Maybe a -> Maybe a\n",
    "addThree maybeVal1 maybeVal2 maybeVal3 = pure (+) <*> (pure (+) <*> maybeVal1 <*> maybeVal2) <*> maybeVal3\n",
    "\n",
    "print $ addThree var1 var2 var3"
   ]
  },
  {
   "cell_type": "markdown",
   "metadata": {},
   "source": [
    "## Applicative examples"
   ]
  },
  {
   "cell_type": "markdown",
   "metadata": {},
   "source": [
    "Another way how to use the Applicative type class is in IO which has also an instance of Applicative. \n",
    "\n",
    "Let's imagine you ask the user for two numbers and then calculate their product. Here is the code where we make use of the `<*>` and `<$>` operators."
   ]
  },
  {
   "cell_type": "code",
   "execution_count": null,
   "metadata": {},
   "outputs": [],
   "source": [
    "myProduct :: Num a => a -> a -> a\n",
    "myProduct x1 x2 = x1*x2\n",
    "\n",
    "readDouble :: IO Double\n",
    "readDouble = read <$> getLine\n",
    "\n",
    "ioProduct :: IO Double\n",
    "ioProduct = myProduct <$> readDouble <*> readDouble\n",
    "\n",
    "main :: IO ()\n",
    "main = do\n",
    "    print \"Input 2 numbers. Use dot for decimal seperator.\"\n",
    "    result <- ioProduct\n",
    "    print result\n",
    "\n",
    "main"
   ]
  },
  {
   "cell_type": "markdown",
   "metadata": {},
   "source": [
    "You can also use the `<*>` operator on lists to get all possible combinations. \n",
    "\n",
    "This is because if you view a list type as a context instead as a container, you can say that a list represents more possible values for a fixed type. \n",
    "\n",
    "For instance `[Int]` represent more possible values of type `Int`. Here is a code example:"
   ]
  },
  {
   "cell_type": "code",
   "execution_count": null,
   "metadata": {},
   "outputs": [],
   "source": [
    "list1 = [1,2,3] :: [Int]\n",
    "list2 = [4,5] :: [Int]\n",
    "\n",
    "allCombinations :: Num a => [a] -> [a] -> [a]\n",
    "allCombinations l1 l2 = pure (+) <*> l1 <*> l2\n",
    "\n",
    "print $ allCombinations list1 list2"
   ]
  },
  {
   "cell_type": "markdown",
   "metadata": {},
   "source": [
    "Another example for creating all possible combination is by using lists to create an instance of a user defined type with record syntax. Here is the code:"
   ]
  },
  {
   "cell_type": "code",
   "execution_count": null,
   "metadata": {},
   "outputs": [],
   "source": [
    "data Car = Car {\n",
    "    company :: String,\n",
    "    color :: String\n",
    "} deriving Show\n",
    "\n",
    "companies = [\"Toyota\", \"Mercedes\", \"Ford\"]\n",
    "colors = [\"yellow\", \"gree\", \"blue\"]\n",
    "\n",
    "allPossibleCars :: [Car]\n",
    "allPossibleCars = pure Car <*> companies <*> colors\n",
    "\n",
    "print allPossibleCars"
   ]
  },
  {
   "cell_type": "markdown",
   "metadata": {},
   "source": [
    "In our final example let's create an Applicative instance for the Wrapper type we defined in the previous lesson.\n",
    "```haskell\n",
    "data Wrapper a = Empty | Wrapper a deriving Show\n",
    "```"
   ]
  },
  {
   "cell_type": "markdown",
   "metadata": {},
   "source": [
    "We will first need to define the function that will work as the `<*>` operator. The pure function we can define directly."
   ]
  },
  {
   "cell_type": "code",
   "execution_count": null,
   "metadata": {},
   "outputs": [],
   "source": [
    "data Wrapper a = Empty | Wrapper a deriving Show\n",
    "\n",
    "appWrapper :: Wrapper (a -> b) -> Wrapper a -> Wrapper b\n",
    "appWrapper f Empty = Empty\n",
    "appWrapper Empty x = Empty\n",
    "appWrapper (Wrapper f) (Wrapper n) = Wrapper (f n)\n",
    "\n",
    "instance Functor Wrapper where\n",
    "    fmap f val = (pure f) <*> val   \n",
    "\n",
    "instance Applicative Wrapper where\n",
    "    (<*>) = appWrapper\n",
    "    pure val = Wrapper val"
   ]
  },
  {
   "cell_type": "markdown",
   "metadata": {},
   "source": [
    "Now we can define an IO function that askes the user for two numbers, creates Wraper types from them and summs those numbers together."
   ]
  },
  {
   "cell_type": "code",
   "execution_count": null,
   "metadata": {},
   "outputs": [],
   "source": [
    "import Data.Char (isDigit)\n",
    "\n",
    "sumWrapperNums :: IO ()\n",
    "sumWrapperNums = do\n",
    "    putStrLn \"Input first number:\"\n",
    "    n1 <- getLine\n",
    "    putStrLn \"Input second number:\"\n",
    "    n2 <- getLine\n",
    "\n",
    "    let test = all isDigit n1 && all isDigit n2\n",
    "    if test \n",
    "    then do\n",
    "        let w1 = pure (read n1) :: Wrapper Int\n",
    "            w2 = pure (read n2) :: Wrapper Int\n",
    "        putStrLn \"Wrapper sum is:\"\n",
    "        print $ (+) <$> w1 <*> w2\n",
    "    else do\n",
    "        putStrLn \"The input data should be only digits. Try again.\"\n",
    "        sumWrapperNums\n",
    "\n",
    "sumWrapperNums"
   ]
  },
  {
   "cell_type": "markdown",
   "metadata": {},
   "source": [
    "## A more complex example"
   ]
  },
  {
   "cell_type": "markdown",
   "metadata": {},
   "source": [
    "If we check in Haskell what type classes a function in general belongs to, we see it has also an instance of Applicative.\n",
    "```haskell\n",
    ":i (->)\n",
    "type (->) :: * -> * -> *\n",
    "data (->) a b\n",
    "infixr -1 ->\n",
    "instance Applicative ((->) r) \n",
    "instance Functor ((->) r) \n",
    "instance Monad ((->) r) \n",
    "instance Monoid b => Monoid (a -> b) \n",
    "instance Semigroup b => Semigroup (a -> b) \n",
    "```"
   ]
  },
  {
   "cell_type": "markdown",
   "metadata": {},
   "source": [
    "The definition of the Applicative instance for a funtion is as follows:\n",
    "```haskell\n",
    "instance Applicative ((->) r) where\n",
    "    pure = const\n",
    "    (<*>) f g x = f x (g x)\n",
    "```"
   ]
  },
  {
   "cell_type": "markdown",
   "metadata": {},
   "source": [
    "The second definition is valid only if `f` is a function that takes in two parameters and `g` is a function that takes in one parameter. \n",
    "\n",
    "Here is an example how we can use this to construct a fibonacci list with `<*>` where we also use a recursive call to the list itself."
   ]
  },
  {
   "cell_type": "code",
   "execution_count": null,
   "metadata": {},
   "outputs": [],
   "source": [
    "fibs = 0 : 1 : (zipWith (+) <*> tail) fibs\n",
    "\n",
    "print $ take 5 fibs"
   ]
  },
  {
   "cell_type": "markdown",
   "metadata": {},
   "source": [
    "## Applicative laws"
   ]
  },
  {
   "cell_type": "markdown",
   "metadata": {},
   "source": [
    "Same as for Functor the Applicative type class has also its origins in mathematics and is defined with laws."
   ]
  },
  {
   "cell_type": "markdown",
   "metadata": {},
   "source": [
    "Applicative has 4 laws. They are as follows:\n",
    "\n",
    "- Identity:<br>`pure id <*> x = x`\n",
    "\n",
    "- Composition:<br>`pure (.) <*> x1 <*> x2 <*> x3 = x1 <*> (x2 <*> x3)`\n",
    "\n",
    "- Homomorphism:<br>`pure f <*> pure x = pure (f x)`\n",
    "\n",
    "- Interchange:<br>`x1 <*> pure x2 = pure ($ x2) <*> x1`"
   ]
  },
  {
   "cell_type": "markdown",
   "metadata": {},
   "source": [
    "The identity law ensures that `<*>` should only be a mapping function and should not change anything in the applicative except for the value that it’s mapping.\n",
    "\n",
    "The composition law says that independent of which way we chose to apply our functions, we should always get the same result.\n",
    "\n",
    "The homomorphism law says that `<*>` should not be doing anything else then applying the mapping.\n",
    "\n",
    "The interchange law states that we can flip the operands of `<*>` in a predictable way."
   ]
  },
  {
   "cell_type": "markdown",
   "metadata": {},
   "source": [
    "Below is example code that proves these laws hold for the Maybe type which has an instance of Applicative."
   ]
  },
  {
   "cell_type": "code",
   "execution_count": null,
   "metadata": {},
   "outputs": [],
   "source": [
    "-- Identity law\n",
    "(pure id <*> (Just 1)) == Just 1\n",
    "(pure id <*> Nothing) == Nothing\n",
    "\n",
    "-- Composition law\n",
    "add1, mult2 :: Maybe (Integer -> Integer)\n",
    "add1 = (+) <$> (Just 1)\n",
    "mult2 = (*) <$> (Just 2)\n",
    "\n",
    "(pure (.) <*> add1 <*> mult2 <*> (Just 1)) == (add1 <*> (mult2 <*> (Just 1)))\n",
    "(pure (.) <*> Nothing <*> mult2 <*> (Just 1)) == (Nothing <*> (mult2 <*> (Just 1)))\n",
    "\n",
    "-- Homomorphism law\n",
    "add2 :: Num a => a -> a\n",
    "add2 x = x + 2\n",
    "(pure add2 <*> pure 1 :: Maybe Int) == (pure (add2 1) :: Maybe Int)\n",
    "\n",
    "-- Interchange law\n",
    "(add1 <*> pure 1) == (pure ($ 1) <*> add1)"
   ]
  },
  {
   "cell_type": "markdown",
   "metadata": {},
   "source": [
    "Let's look now at an example where we create a type and an Applicative instance for it that violates these laws."
   ]
  },
  {
   "cell_type": "code",
   "execution_count": null,
   "metadata": {},
   "outputs": [],
   "source": [
    "data NotOk a = NotOk a Bool deriving (Eq, Show)\n",
    "\n",
    "appNotOk :: NotOk (a -> b) -> NotOk a -> NotOk b\n",
    "appNotOk (NotOk f myBool1) (NotOk x myBool2) =\n",
    "    NotOk (f x) (not myBool2)\n",
    "\n",
    "pureNotOk :: a -> NotOk a \n",
    "pureNotOk x = NotOk x True\n",
    "\n",
    "instance Functor NotOk where\n",
    "    fmap f x = pure f <*> x\n",
    "\n",
    "instance Applicative NotOk where\n",
    "    pure = pureNotOk\n",
    "    (<*>) = appNotOk\n",
    "\n",
    "var1 :: NotOk Int\n",
    "var1 = NotOk 1 True\n",
    "\n",
    "add1, mult2 :: NotOk (Int -> Int)\n",
    "add1 = (+) <$> (NotOk 1 True)\n",
    "mult2 = (*) <$> (NotOk 2 True)\n",
    "\n",
    "add2 :: Num a => a -> a\n",
    "add2 x = x + 2\n",
    "\n",
    "print $ (pure id <*> var1) == var1\n",
    "print $ (pure (.) <*> add1 <*> mult2 <*> var1) == (add1 <*> (mult2 <*> var1))\n",
    "print $ (pure add2 <*> pure 1 :: NotOk Int) == (pure (add2 1) :: NotOk Int)\n",
    "print $ (add1 <*> pure 1) == (pure ($ 1) <*> add1)"
   ]
  },
  {
   "cell_type": "markdown",
   "metadata": {},
   "source": [
    "Same as for Functor it is not obligatory to follow these laws in Haskell if you create a type and make an instance of Applicative for it.\n",
    "\n",
    "It is still good practice to follow them because:\n",
    "- you can better reason about what your code is doing\n",
    "- you can make use of other functions that work with the Applicative type class"
   ]
  },
  {
   "cell_type": "markdown",
   "metadata": {},
   "source": [
    "## Recap"
   ]
  },
  {
   "cell_type": "markdown",
   "metadata": {},
   "source": [
    "In this lesson we've discussed:\n",
    "\n",
    "- the motivation for introducing Applicative type class \n",
    "\n",
    "- definition of the Applicative type class\n",
    "\n",
    "- how to use the `<*>` operator together with `<$>`\n",
    "\n",
    "- examples that show how to use the Applicative type class\n",
    "\n",
    "- laws that apply to the Applicative type class"
   ]
  }
 ],
 "metadata": {
  "kernelspec": {
   "display_name": "Haskell",
   "language": "haskell",
   "name": "haskell"
  },
  "language_info": {
   "codemirror_mode": "ihaskell",
   "file_extension": ".hs",
   "mimetype": "text/x-haskell",
   "name": "haskell",
   "pygments_lexer": "Haskell",
   "version": "8.10.7"
  }
 },
 "nbformat": 4,
 "nbformat_minor": 4
}
