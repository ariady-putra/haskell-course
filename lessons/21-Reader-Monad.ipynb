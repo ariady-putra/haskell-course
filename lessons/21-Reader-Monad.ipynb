{
 "cells": [
  {
   "cell_type": "markdown",
   "metadata": {},
   "source": [
    "# Reader Monad"
   ]
  },
  {
   "cell_type": "markdown",
   "metadata": {},
   "source": [
    "## Outline\n",
    "\n",
    "* Incentive for the Reader monad\n",
    "\n",
    "* The Reader monad\n",
    "  - Definition of the Reader monad\n",
    "\n",
    "  - Helper functions\n",
    "\n",
    "  - MonadReader type class\n",
    "\n",
    "  - Simple example\n",
    "  \n",
    "* Reader monad examples"
   ]
  },
  {
   "cell_type": "markdown",
   "metadata": {},
   "source": [
    "In this lesson, we will learn about the Reader monad type and how you can use it. First we present the reason why introducing the Reader monad. Then we show the Reader monad definition and helper functions. We also learn a new ways how to create a type class by looking at the `MonadReader` type class. In the end we show some code examples that use the Reader monad."
   ]
  },
  {
   "cell_type": "markdown",
   "metadata": {},
   "source": [
    "## Incentive for Reader monad"
   ]
  },
  {
   "cell_type": "markdown",
   "metadata": {},
   "source": [
    "Imagine we have a global environment which is represented by a variable that holds multiple data as e.g. a record syntax variable. \n",
    "\n",
    "If we have several functions that need to use part of that data and they call each other, we need to pass that variable from one to another."
   ]
  },
  {
   "cell_type": "markdown",
   "metadata": {},
   "source": [
    "Below is an example where we read 4 variables from the operating system environment and store them into a variable of type `Environment`. \n",
    "\n",
    "We process this data in 4 function calls and the last function writes the processed data to a configuration file."
   ]
  },
  {
   "cell_type": "code",
   "execution_count": null,
   "metadata": {},
   "outputs": [],
   "source": [
    "import Data.Maybe (fromMaybe)\n",
    "import System.Environment (lookupEnv)\n",
    "import qualified Data.Map as Map\n",
    "import Maybes (fromJust)\n",
    "\n",
    "type Key = String\n",
    "type Content = String\n",
    "newtype Environment = Environment\n",
    "    { parameters :: Map.Map Key Content }\n",
    "\n",
    "loadEnv :: IO Environment\n",
    "loadEnv = do\n",
    "  p1 <- lookupEnv \"PATH\"\n",
    "  p2 <- lookupEnv \"SHELL\"\n",
    "  p3 <- lookupEnv \"HOSTNAME\"\n",
    "  p4 <- lookupEnv \"HOME\"\n",
    "  return $ Environment $ Map.fromList \n",
    "    [ (\"PATH\", fromMaybe \"\" p1)\n",
    "    , (\"SHELL\", fromMaybe \"\" p2)\n",
    "    , (\"HOSTNAME\", fromMaybe \"\" p3)\n",
    "    , (\"HOME\", fromMaybe \"\" p4)]\n",
    "\n",
    "func1 :: Environment -> (Content, FilePath)\n",
    "func1 env = func2 env content\n",
    "    where content = \"System path includes: \\n\" ++ parameter ++ \"\\n\\n\"\n",
    "          parameter = fromJust $ Map.lookup \"PATH\" $ parameters env\n",
    "\n",
    "func2 :: Environment -> Content -> (Content, FilePath)\n",
    "func2 env content = func3 env updatedContent\n",
    "    where updatedContent = content ++ \"Shell used is: \\n\" ++ parameter ++ \"\\n\\n\"\n",
    "          parameter = fromJust $ Map.lookup \"SHELL\" $ parameters env\n",
    "\n",
    "func3 :: Environment -> Content -> (Content, FilePath)\n",
    "func3 env content = func4 env updatedContent\n",
    "    where updatedContent = content ++ \"Hostname is: \\n\" ++ parameter ++ \"\\n\\n\"\n",
    "          parameter = fromJust $ Map.lookup \"HOSTNAME\" $ parameters env\n",
    "\n",
    "func4 :: Environment -> Content -> (Content, FilePath)\n",
    "func4 env content = (updatedContent, filePath)\n",
    "    where updatedContent = content ++ \"Current home directory is: \\n\" ++ parameter ++ \"\\n\\n\"\n",
    "          filePath = parameter ++ \"/conf.txt\"\n",
    "          parameter = fromJust $ Map.lookup \"HOME\" $ parameters env"
   ]
  },
  {
   "cell_type": "markdown",
   "metadata": {},
   "source": [
    "We can now write the main execution of our program where we read in the environment and process the data with our 4 functions."
   ]
  },
  {
   "cell_type": "code",
   "execution_count": null,
   "metadata": {},
   "outputs": [],
   "source": [
    "main :: IO ()\n",
    "main = do\n",
    "  env <- loadEnv\n",
    "  let (updatedContent, filePath) = func1 env\n",
    "\n",
    "  print \"Writing configuration to file: conf.txt\"\n",
    "  writeFile filePath updatedContent\n",
    "\n",
    "main"
   ]
  },
  {
   "cell_type": "markdown",
   "metadata": {},
   "source": [
    "This is a simple example, but as complexity of programs increases you have to pass around a lot of data. \n",
    "\n",
    "For this reason the **Reader monad** was created which can store data in its environment variable.  \n",
    "\n",
    "The data in the environment variable can then be passed between different Reader monads in the background."
   ]
  },
  {
   "cell_type": "markdown",
   "metadata": {},
   "source": [
    "## The Reader monad"
   ]
  },
  {
   "cell_type": "markdown",
   "metadata": {},
   "source": [
    "### Definition of the Reader monad"
   ]
  },
  {
   "cell_type": "markdown",
   "metadata": {},
   "source": [
    "The Haskell definition of the `Reader` type is defined in terms of the `ReaderT` monad transformer:\n",
    "```haskell\n",
    "type Reader r = ReaderT r Identity\n",
    "```"
   ]
  },
  {
   "cell_type": "markdown",
   "metadata": {},
   "source": [
    "It is contained in the **Control.Monad.Trans.Reader** module that comes with the **transformers** package. \n",
    "\n",
    "We will learn about Monad transformers in lesson 25."
   ]
  },
  {
   "cell_type": "markdown",
   "metadata": {},
   "source": [
    "You can also define the Reader monad without using a monad transformer that works equally as the one above. \n",
    "\n",
    "We will chose this aproach in this lesson. Let's first look at the definition of the **Reader** type:\n",
    "```haskell\n",
    "newtype Reader e a = Reader { runReader :: e -> a }\n",
    "```"
   ]
  },
  {
   "cell_type": "markdown",
   "metadata": {},
   "source": [
    "We see that the `Reader` data constructor holds a function that can be accessed with the name `runReader`.\n",
    "\n",
    "It takes in a environment variable of type `e` and returns a variable of type `a`."
   ]
  },
  {
   "cell_type": "markdown",
   "metadata": {},
   "source": [
    "We can now create a Monad instance for `Reader e` and not just `Reader`.\n",
    "\n",
    "This means the type of our environment variable will remain the same after we apply the `>>=` operator.\n",
    "```haskell\n",
    "(>>=) :: Reader e a        ->\n",
    "         (a -> Reader e b) ->\n",
    "         Reader e b\n",
    "```"
   ]
  },
  {
   "cell_type": "markdown",
   "metadata": {},
   "source": [
    "The monad instance for `Reader e` is then defined as:\n",
    "```haskell\n",
    "instance Monad (Reader e) where \n",
    "  return a = Reader $ const a\n",
    "  readerMonad >>= f = Reader $ \\env -> \n",
    "    let a = runReader readerMonad env\n",
    "    in runReader (f a) env\n",
    "```"
   ]
  },
  {
   "cell_type": "markdown",
   "metadata": {},
   "source": [
    "We also need to define the Functor and Applicative instances.\n",
    "```haskell\n",
    "instance Functor (Reader e) where\n",
    "    fmap f readerFunctor = Reader $ \\env ->\n",
    "        f $ runReader readerFunctor env\n",
    "\n",
    "instance Applicative (Reader e) where\n",
    "    pure a = Reader $ const a\n",
    "    f <*> g = Reader $ \\env ->\n",
    "        let h = runReader f env\n",
    "        in h $ runReader g env\n",
    "```"
   ]
  },
  {
   "cell_type": "markdown",
   "metadata": {},
   "source": [
    "### Helper functions"
   ]
  },
  {
   "cell_type": "markdown",
   "metadata": {},
   "source": [
    "The **Control.Monad.Trans.Reader** module defines also some helper functions that work with the Reader moand. "
   ]
  },
  {
   "cell_type": "markdown",
   "metadata": {},
   "source": [
    "The `ask` function retrieves the value from the enviroment variable.\n",
    "```haskell\n",
    "ask :: Reader e e \n",
    "ask = Reader id\n",
    "```"
   ]
  },
  {
   "cell_type": "markdown",
   "metadata": {},
   "source": [
    "It is used inside a Reader Monad. To get the environment variable you also need to use the `<-` oprator that takes variables out of the monadic context.\n",
    "```haskell\n",
    "env <- ask\n",
    "```"
   ]
  },
  {
   "cell_type": "markdown",
   "metadata": {},
   "source": [
    "The `reader` function is the inverse operation of the `runReader` function. It takes in a function of type `e -> a` and produces a Reader monad `Reader e a`.\n",
    "```haskell\n",
    "reader :: (e -> a) -> Reader e a\n",
    "reader f = do\n",
    "    env <- ask\n",
    "    return (f env)\n",
    "```"
   ]
  },
  {
   "cell_type": "markdown",
   "metadata": {},
   "source": [
    "The `local` function takes in a function and a Reader moand and updates the Reader monad by applying the function to the environment variable.\n",
    "```haskell\n",
    "local :: (e -> e) -> Reader e a -> Reader e a\n",
    "local f readerM = Reader $ runReader readerM . f\n",
    "```"
   ]
  },
  {
   "cell_type": "markdown",
   "metadata": {},
   "source": [
    "It can also be used inside inside a Reader monad. Same as for `ask` function if you want to get the modified enviroment variable you need to use the `<-` operator. "
   ]
  },
  {
   "cell_type": "markdown",
   "metadata": {},
   "source": [
    "Another helper function is the `asks` function which performs the inverse operation of the `runReader` function.\n",
    "\n",
    "It takes in a function of type `e -> a` and produces a Reader monad.\n",
    "```haskell\n",
    "asks :: (e -> a) -> Reader e a\n",
    "asks f = do\n",
    "    env <- ask\n",
    "    return (f env)\n",
    "```"
   ]
  },
  {
   "cell_type": "markdown",
   "metadata": {},
   "source": [
    "The `asks` function is used inside a Reader to update the environment variable by applying the input function to it. "
   ]
  },
  {
   "cell_type": "markdown",
   "metadata": {},
   "source": [
    "### MonadReader type class"
   ]
  },
  {
   "cell_type": "markdown",
   "metadata": {},
   "source": [
    "The Reader monad and the helper functions presented in the previous two chapters can be also found in the **Control.Monad.Reader** module.\n",
    "\n",
    "This module is part of the **mtl** package that is a collection of monad classes, extending the **transformers** package."
   ]
  },
  {
   "cell_type": "markdown",
   "metadata": {},
   "source": [
    "The module defines the `MonadReader` type class that contains the functions `ask`, `local` and `reader`.\n",
    "\n",
    "They are equivalent to the functions describer in the previous chapter."
   ]
  },
  {
   "cell_type": "markdown",
   "metadata": {},
   "source": [
    "```haskell\n",
    "class Monad m => MonadReader e m | m -> e where\n",
    "    ask   :: m e\n",
    "    ask = reader id\n",
    "\n",
    "    local :: (e -> e) -> m a -> m a\n",
    "\n",
    "    reader :: (e -> a) -> m a\n",
    "    reader f = do\n",
    "      env <- ask\n",
    "      return (f env)\n",
    "    {-# MINIMAL (ask | reader), local #-}\n",
    "```"
   ]
  },
  {
   "cell_type": "markdown",
   "metadata": {},
   "source": [
    "The minimal complete definition is the `local` function and then either the `ask` or the `reader` function."
   ]
  },
  {
   "cell_type": "markdown",
   "metadata": {},
   "source": [
    "To be able to declare a type class parameterized with two types you need to use the *MultiParamTypeClasses* language pragma. \n",
    "\n",
    "If the type `m` which in reality for us will be `(Reader e)`, is defiinng the type `e` we can state this dependency with the `| m -> e` statement. \n",
    "\n",
    "To be able to use such dependency statements in type class declarations we need to include the *FunctionalDependencies* language pragma. "
   ]
  },
  {
   "cell_type": "markdown",
   "metadata": {},
   "source": [
    "For the `Reader e` monad the instance of the MonadReader type class would be:\n",
    "```haskell\n",
    "instance MonadReader e (Reader e) where\n",
    "    ask :: Reader e e\n",
    "    ask = Reader id\n",
    "    \n",
    "    local :: (e -> e) -> Reader e a -> Reader e a\n",
    "    local f readerM = Reader $ runReader readerM . f\n",
    "```"
   ]
  },
  {
   "cell_type": "markdown",
   "metadata": {},
   "source": [
    "To be able to write such an instance we would also need to include the language pragmas *FlexibleInstances* and *InstanceSigs*.\n",
    "\n",
    "The first let's you work with concrete types when creating an type class instances as e.g. if you would want to create an instance for `Maybe Int` instead of `Maybe a`.\n",
    "\n",
    "The second enables to also write out type signatures as part of typeclass instance declarations."
   ]
  },
  {
   "cell_type": "markdown",
   "metadata": {},
   "source": [
    "### Simple example"
   ]
  },
  {
   "cell_type": "markdown",
   "metadata": {},
   "source": [
    "Below is a simple Reader monad example where we use the `ask` and `runReader` functions.\n",
    "\n",
    "The programm asks the user for his age and prints out two messages with retirement information for the user."
   ]
  },
  {
   "cell_type": "code",
   "execution_count": null,
   "metadata": {},
   "outputs": [],
   "source": [
    "import Control.Monad.Reader\n",
    "\n",
    "ukInfo :: Reader Int String\n",
    "ukInfo = do\n",
    "    age <- ask\n",
    "    let yearsToRetire = 66 - age\n",
    "        msg = if yearsToRetire <= 0\n",
    "              then \"You can retire in the United Kingdom.\"\n",
    "              else \"In the United Kingdom you have to work up to \" ++ show yearsToRetire ++ \" more years.\" \n",
    "    return msg\n",
    "\n",
    "thInfo :: Reader Int String\n",
    "thInfo = do\n",
    "    age <- ask\n",
    "    let yearsToRetire = 60 - age\n",
    "        msg = if yearsToRetire <= 0\n",
    "              then \"You can retire in Thailand.\"\n",
    "              else \"In the Thailand you have to work up to \" ++ show yearsToRetire ++ \" more years.\" \n",
    "    return msg\n",
    "\n",
    "processAge :: Reader Int String\n",
    "processAge = do\n",
    "    ukMsg <- ukInfo\n",
    "    thMsg <- thInfo\n",
    "    let infoMsg = \"The retirement information for your age:\\n\" ++\n",
    "                  ukMsg ++ \"\\n\" ++ thMsg\n",
    "    return infoMsg\n",
    "\n",
    "main :: IO ()\n",
    "main = do\n",
    "    putStrLn \"Input your age:\"\n",
    "    age <- read <$> getLine\n",
    "    putStrLn $ runReader processAge age\n",
    "\n",
    "main"
   ]
  },
  {
   "cell_type": "markdown",
   "metadata": {},
   "source": [
    "When we call the `ukInformation` and `thailandInformation` Reader monads inside the `processAge` Reader monad, the environment variabe of the `processAge` Reader monad is passed onto them."
   ]
  },
  {
   "cell_type": "markdown",
   "metadata": {},
   "source": [
    "## Reader monad examples"
   ]
  },
  {
   "cell_type": "markdown",
   "metadata": {},
   "source": [
    "In our first example we update the code from the previous chapter such that we use the `local` function.\n",
    "\n",
    "We modily the environment variable of the `ukInfo` and `thInfo` Reader monads by applying the function `add2Years` that icreases the age for 2."
   ]
  },
  {
   "cell_type": "code",
   "execution_count": null,
   "metadata": {},
   "outputs": [],
   "source": [
    "processAge :: Reader Int String\n",
    "processAge = do\n",
    "    ukMsg <- local add2Years ukInfo\n",
    "    thMsg <- local add2Years thInfo\n",
    "    let infoMsg = \"The retirement information for your age in 2 years:\\n\" ++\n",
    "                  ukMsg ++ \"\\n\" ++ thMsg\n",
    "    return infoMsg\n",
    "\n",
    "add2Years :: Int -> Int\n",
    "add2Years years = years + 2\n",
    "\n",
    "main"
   ]
  },
  {
   "cell_type": "markdown",
   "metadata": {},
   "source": [
    "We see that the environment variable from the `processAge` Reader monad gets passed onto the other two Reader monads after the function `add2Years` is applied to it."
   ]
  },
  {
   "cell_type": "markdown",
   "metadata": {},
   "source": [
    "Below is another example on how to lookup variables if you have them stored in a list. It is taken and adapted from [HaskellWiki](https://wiki.haskell.org/All_About_Monads#The_Reader_monad).\n",
    "\n",
    "The list contains tuples where the first part is the variable name and the second is variable either of type `String` or of type `Template`. \n",
    "\n",
    "This example shows that you can also define a function that takes in data and returns a reader monad. It also uses the `asks` function."
   ]
  },
  {
   "cell_type": "code",
   "execution_count": null,
   "metadata": {},
   "outputs": [],
   "source": [
    "data Template = S String | V Template | T Template deriving Show\n",
    "\n",
    "data Environment = Env {templates::[(String,Template)],\n",
    "                        variables::[(String,String)]}\n",
    "\n",
    "-- lookup a variable from the environment\n",
    "lookupVar :: String -> Environment -> Maybe String\n",
    "lookupVar name env = lookup name (variables env)\n",
    "\n",
    "-- lookup a template from the environment\n",
    "lookupTemplate :: String -> Environment -> Maybe Template\n",
    "lookupTemplate name env = lookup name (templates env)\n",
    "\n",
    "-- resolve a template into a string\n",
    "resolve :: Template -> Reader Environment (String)\n",
    "resolve (S s)    = return s\n",
    "resolve (V t)    = do varName  <- resolve t\n",
    "                      varValue <- asks (lookupVar varName)\n",
    "                      return $ maybe \"\" id varValue\n",
    "resolve (T t)    = do tmplName <- resolve t\n",
    "                      body     <- asks (lookupTemplate tmplName)\n",
    "                      return $ maybe \"\" show body\n",
    "\n",
    "template1 :: Template\n",
    "template1 = V (S \"varName1\")\n",
    "\n",
    "template2 :: Template\n",
    "template2 = T (S \"varName2\")\n",
    "\n",
    "myEnv :: Environment\n",
    "myEnv = Env {\n",
    "      templates = [(\"varName1\",template1),(\"varName2\",template2)],\n",
    "      variables = [(\"varName1\",\"value1\"),(\"varName2\",\"value2\")]\n",
    "    }\n",
    "\n",
    "main :: IO ()\n",
    "main = do\n",
    "    print $ runReader (resolve template1) myEnv\n",
    "    print $ runReader (resolve template2) myEnv\n",
    "\n",
    "main"
   ]
  },
  {
   "cell_type": "markdown",
   "metadata": {},
   "source": [
    "In our last example let's implement now the code from the first chapter with the use of the **Reader monad**."
   ]
  },
  {
   "cell_type": "code",
   "execution_count": null,
   "metadata": {},
   "outputs": [],
   "source": [
    "processEnv :: Reader Environment Content\n",
    "processEnv = do\n",
    "    conf1 <- func1\n",
    "    conf2 <- func2\n",
    "    conf3 <- func3\n",
    "    conf4 <- func4\n",
    "    let conf = conf1 ++ \"\\n\\n\" ++\n",
    "               conf2 ++ \"\\n\\n\" ++\n",
    "               conf3 ++ \"\\n\\n\" ++\n",
    "               conf4 ++ \"\\n\\n\"\n",
    "    return conf\n",
    "  \n",
    "func1 :: Reader Environment Content\n",
    "func1 = do\n",
    "    env <- ask\n",
    "    let parameter = fromJust $ Map.lookup \"PATH\" $ parameters env\n",
    "        content = \"System path includes: \\n\" ++ parameter\n",
    "    return content\n",
    "\n",
    "func2 :: Reader Environment Content\n",
    "func2 = do\n",
    "    env <- ask\n",
    "    let parameter = fromJust $ Map.lookup \"SHELL\" $ parameters env\n",
    "        content = \"Shell used is: \\n\" ++ parameter\n",
    "    return content\n",
    "\n",
    "func3 :: Reader Environment Content\n",
    "func3 = do\n",
    "    env <- ask\n",
    "    let parameter = fromJust $ Map.lookup \"HOSTNAME\" $ parameters env\n",
    "        content = \"Hostname is: \\n\" ++ parameter\n",
    "    return content\n",
    "\n",
    "func4 :: Reader Environment Content\n",
    "func4 = do\n",
    "    env <- ask\n",
    "    let parameter = fromJust $ Map.lookup \"HOME\" $ parameters env\n",
    "        content = \"Current home directory is: \\n\" ++ parameter\n",
    "    return content\n",
    "\n",
    "main :: IO ()\n",
    "main = do\n",
    "    env <- loadEnv\n",
    "    let configuration = runReader processEnv env\n",
    "        pathParam = fromJust $ Map.lookup \"HOME\" $ parameters env\n",
    "        filePath = pathParam ++ \"/conf.txt\"\n",
    "    print \"Writing configuration to file: conf.txt\"\n",
    "    writeFile filePath configuration\n",
    "\n",
    "main"
   ]
  },
  {
   "cell_type": "markdown",
   "metadata": {},
   "source": [
    "The `env` variable is passed from the `processEnv` function to all the other Reader monad functions.\n",
    "\n",
    "Benefits compared to initial code: \n",
    "- you don't have to take care of passing around the environment data\n",
    "\n",
    "- the Reader monads `func1` to `func4` have a cleaner type signature as the functions in the initial example."
   ]
  },
  {
   "cell_type": "markdown",
   "metadata": {},
   "source": [
    "## Recap"
   ]
  },
  {
   "cell_type": "markdown",
   "metadata": {},
   "source": [
    "In this lesson we've discussed:\n",
    "\n",
    "- the motivation for introducing the Reader monad type \n",
    "\n",
    "- the definition of the Reader monad type\n",
    "\n",
    "- helper functions that work with the Reader monad\n",
    "\n",
    "- examples that use the Reader monad type and its helper functions"
   ]
  }
 ],
 "metadata": {
  "kernelspec": {
   "display_name": "Haskell",
   "language": "haskell",
   "name": "haskell"
  },
  "language_info": {
   "codemirror_mode": "ihaskell",
   "file_extension": ".hs",
   "mimetype": "text/x-haskell",
   "name": "haskell",
   "pygments_lexer": "Haskell",
   "version": "8.10.7"
  }
 },
 "nbformat": 4,
 "nbformat_minor": 4
}
