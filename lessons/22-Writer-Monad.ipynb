{
 "cells": [
  {
   "cell_type": "markdown",
   "metadata": {},
   "source": [
    "# Writer Monad"
   ]
  },
  {
   "cell_type": "markdown",
   "metadata": {},
   "source": [
    "## Outline\n",
    "\n",
    "* Incentive for the Writer monad\n",
    "\n",
    "* The Writer monad\n",
    "  - Definition of the Writer monad\n",
    "  \n",
    "  - Helper functions\n",
    "  \n",
    "  - MonadWriter type class\n",
    "  \n",
    "  - Simple example\n",
    "\n",
    "* Writer monad examples"
   ]
  },
  {
   "cell_type": "markdown",
   "metadata": {},
   "source": [
    "In this lesson, we will learn about the Writer monad type and how you can use it. First we present the reason why introducing the Writer monad. Then we show the Writer monad definition and helper functions. We also look at the `MonadWriter` type class and in the end show some code examples that use the Writer monad."
   ]
  },
  {
   "cell_type": "markdown",
   "metadata": {},
   "source": [
    "## Incentive for Writer monad"
   ]
  },
  {
   "cell_type": "markdown",
   "metadata": {},
   "source": [
    "In the previous lecture we learned that with the Reader monad we can more easily pass data around by accessing the environment variable of the Reader monad. \n",
    "\n",
    "But what if instead of reading that data we want to append data to our environment variable?"
   ]
  },
  {
   "cell_type": "markdown",
   "metadata": {},
   "source": [
    "Let's look at an example where we want to test 3 different list sorting algorithms. We want to know what are the counts of recursive calls for each algorithm.\n",
    "\n",
    "We choose to implement the selection, quick and merge sort algorithems. We test them on three different list that have different patterns of unsorted elements."
   ]
  },
  {
   "cell_type": "code",
   "execution_count": null,
   "metadata": {},
   "outputs": [],
   "source": [
    "type List = [Int]\n",
    "type OrderedList = [[Int]]\n",
    "\n",
    "selectionSort :: List -> OrderedList \n",
    "selectionSort []   = [] \n",
    "selectionSort list = replicate count minElem : selectionSort rest\n",
    "  where minElem = minimum list\n",
    "        count = length $ filter (== minElem) list\n",
    "        rest = filter (/= minElem) list\n",
    "\n",
    "quicksort :: List -> OrderedList \n",
    "quicksort []     = [] \n",
    "quicksort (x:xs) = quicksort lesser ++ \n",
    "                   [[x]] ++ quicksort greater\n",
    "  where \n",
    "    lesser  = filter (< x) xs \n",
    "    greater = filter (>= x) xs \n",
    "\n",
    "mergeSort :: List -> OrderedList\n",
    "mergeSort [] = []\n",
    "mergeSort [a] = [[a]]\n",
    "mergeSort xs = merge (mergeSort (firstHalf xs)) (mergeSort (secondHalf xs))\n",
    "  where merge xs [] = xs\n",
    "        merge [] ys = ys\n",
    "        merge (x:xs) (y:ys) | x <= y    = x:merge xs (y:ys)\n",
    "                            | otherwise = y:merge (x:xs) ys\n",
    "        firstHalf  xs = let { n = length xs } in take (div n 2) xs\n",
    "        secondHalf xs = let { n = length xs } in drop (div n 2) xs\n",
    "\n",
    "testSorts :: List -> IO ()\n",
    "testSorts list = do\n",
    "    let sorted1 = selectionSort list\n",
    "        sorted2 = quicksort list\n",
    "        sorted3 = mergeSort list\n",
    "    \n",
    "    putStrLn $ \"Counts of recursive calls for the list \" ++ show list\n",
    "    putStrLn $ \"Selection sort: \" ++ show (length sorted1)\n",
    "    putStrLn $ \"Quick sort: \" ++ show (length sorted2)\n",
    "    putStrLn $ \"Merge sort: \" ++ show (length sorted3)\n",
    "    putStrLn \"\"\n",
    "\n",
    "main :: IO ()\n",
    "main = do\n",
    "    let list1 = [7, 6, 5, 4, 3, 2, 1]\n",
    "        list2 = [3, 2, 1, 4, 1, 2, 3]\n",
    "        list3 = [6, 3, 4, 2, 1, 3, 5]\n",
    "        \n",
    "    testSorts list1\n",
    "    testSorts list2\n",
    "    testSorts list3\n",
    "\n",
    "main"
   ]
  },
  {
   "cell_type": "markdown",
   "metadata": {},
   "source": [
    "We could also skip computing the sorted lists and introduce the following type signature for all of the sort functions:\n",
    "```haskell\n",
    "type Count = Int\n",
    "sortFunction :: (Count, List) -> Count\n",
    "```"
   ]
  },
  {
   "cell_type": "markdown",
   "metadata": {},
   "source": [
    "Then we would need to pass on only the rest of the list and update the `Count` variable accordingly.\n",
    "\n",
    "But when looking at the original sort functions it is less work to modify them as we did in our example."
   ]
  },
  {
   "cell_type": "markdown",
   "metadata": {},
   "source": [
    "In any case an obstacle we face is that we can not directly re-use the existing online code implementations of the sort algorithms. \n",
    "\n",
    "We need to figure out a way how to adapt them such that we can get the counts of recursive calls in the end. "
   ]
  },
  {
   "cell_type": "markdown",
   "metadata": {},
   "source": [
    "The second obstacle is that for a another developer reading our code it makes it harder to understand what it does.\n",
    "\n",
    "If we would have a simple way to increase an `Int` environment variable for 1 after each recursive call, it would be easier."
   ]
  },
  {
   "cell_type": "markdown",
   "metadata": {},
   "source": [
    "For this reason the **Writer monad** was created that allows you to easily pass data between different Writer monads and write to it. "
   ]
  },
  {
   "cell_type": "markdown",
   "metadata": {},
   "source": [
    "## The Writer monad"
   ]
  },
  {
   "cell_type": "markdown",
   "metadata": {},
   "source": [
    "### Definition of the Writer monad"
   ]
  },
  {
   "cell_type": "markdown",
   "metadata": {},
   "source": [
    "The Haskell definition of the `Writer` type is defined in terms of the `WriterT` monad transformer:\n",
    "```haskell\n",
    "type Writer w = WriterT w Identity\n",
    "```"
   ]
  },
  {
   "cell_type": "markdown",
   "metadata": {},
   "source": [
    "It is contained in the **Control.Monad.Trans.Writer** module that comes with the **transformers** package. \n",
    "\n",
    "As said in the previous lesson we will learn about Monad transformers in lesson 25."
   ]
  },
  {
   "cell_type": "markdown",
   "metadata": {},
   "source": [
    "You can also define the Writer monad without using a monad transformer that works equally as the one above. \n",
    "\n",
    "Also in this lesson will chose this aproach. Let's first look at the definition of the **Writer** type:\n",
    "```haskell\n",
    "newtype Writer w a = Writer {runWriter :: (a,w)}\n",
    "```"
   ]
  },
  {
   "cell_type": "markdown",
   "metadata": {},
   "source": [
    "We see that the `Writer` data constructor holds a variable that can be accessed with the name `runWriter`.\n",
    "\n",
    "The variable is a tuple of type `(a,w)`."
   ]
  },
  {
   "cell_type": "markdown",
   "metadata": {},
   "source": [
    "We can now create a Monad instance for `Writer w` and not just `Writer`.\n",
    "\n",
    "This means the type of our writing variable will remain the same as we compose our function with `(>>=)`.\n",
    "```haskell\n",
    "(>>=) :: Writer w a        ->\n",
    "         (a -> Writer w b) ->\n",
    "         Writer w b\n",
    "```"
   ]
  },
  {
   "cell_type": "markdown",
   "metadata": {},
   "source": [
    "The monad instance for `Writer w` would be:\n",
    "```haskell\n",
    "instance (Monoid w) => Monad (Writer w) where\n",
    "    return a             = Writer (a, mempty)\n",
    "    (Writer (a,w)) >>= f = let (a',w') = runWriter $ f a \n",
    "                           in Writer (a', w `mappend` w')\n",
    "```"
   ]
  },
  {
   "cell_type": "markdown",
   "metadata": {},
   "source": [
    "We also need to define the Functor and Applicative instances.\n",
    "```haskell\n",
    "instance Functor (Writer w) where\n",
    "fmap f (Writer (a,w)) = Writer (f a, w)\n",
    "\n",
    "instance (Monoid w) => Applicative (Writer w) where\n",
    "pure a = Writer (a, mempty)\n",
    "(Writer (f,w)) <*> (Writer (a,w')) =  \n",
    "    let b = f a\n",
    "    in Writer (b, w `mappend` w')\n",
    "```"
   ]
  },
  {
   "cell_type": "markdown",
   "metadata": {},
   "source": [
    "### Helper functions"
   ]
  },
  {
   "cell_type": "markdown",
   "metadata": {},
   "source": [
    "The **Control.Monad.Trans.Writer** module also defines some helper functions for the Writer moand. \n",
    "\n",
    "You have the option to import this module as a lazy or a strict module by appending **.Lazy** or **.Strict** to the module name."
   ]
  },
  {
   "cell_type": "markdown",
   "metadata": {},
   "source": [
    "The `tell` function appends data to the writer variable. It is used inside of the Writer monad.\n",
    "```haskell\n",
    "tell :: Monoid w => w -> Writer w ()\n",
    "tell msg = Writer ((),msg)\n",
    "```"
   ]
  },
  {
   "cell_type": "markdown",
   "metadata": {},
   "source": [
    "The `writer` function does the oposite as the `runWriter` function. It takes a tuple and creates a Writer monad.\n",
    "```haskell\n",
    "writer :: Monoid w => (a,w) -> Writer w a\n",
    "writer ~(a, w) = do\n",
    "    tell w\n",
    "    return a\n",
    "```"
   ]
  },
  {
   "cell_type": "markdown",
   "metadata": {},
   "source": [
    "The `listen` function retrieves the writer variable and the variable of type `a` from the Writer monad.\n",
    "```haskell\n",
    "listen :: Monoid w => Writer w a -> Writer w (a, w)\n",
    "listen (Writer (a,w)) = Writer ((a,w),w)\n",
    "```"
   ]
  },
  {
   "cell_type": "markdown",
   "metadata": {},
   "source": [
    "It can be used inside or outside of a Writer Monad. To get both variable you also need to use the `<-` oprator that takes variables out of the monadic context.\n",
    "```haskell\n",
    "(a,w) <- listen writerMonad\n",
    "```"
   ]
  },
  {
   "cell_type": "markdown",
   "metadata": {},
   "source": [
    "The `pass` function takes in a Writer monad that holds a function which then gets applied to the writer variable and the updated Writer monad is returned. \n",
    "```haskell\n",
    "pass :: Monoid w => Writer (a, w -> w) -> Writer w a\n",
    "pass (Writer ((a,f),w)) = Writer (a,f w)\n",
    "```"
   ]
  },
  {
   "cell_type": "markdown",
   "metadata": {},
   "source": [
    "It can be used inside our outside or a Writer monad. "
   ]
  },
  {
   "cell_type": "markdown",
   "metadata": {},
   "source": [
    "The `listens` function takes in a function and a writer monad. Then it applies the function to the writer variable and returns the updated writer monad.\n",
    "```haskell\n",
    "listens :: Monoid w => (w -> b) -> Writer w a -> Writer w (a, b)\n",
    "listens f writerMonad = do\n",
    "    ~(a, w) <- listen writerMonad\n",
    "    return (a, f w)\n",
    "```"
   ]
  },
  {
   "cell_type": "markdown",
   "metadata": {},
   "source": [
    "The tilde `~` sign in this expression means ... TODO"
   ]
  },
  {
   "cell_type": "markdown",
   "metadata": {},
   "source": [
    "The `censor` function takes in a function and a writer monad and applies this function to the writer variable to update the writer monad.\n",
    "```haskell\n",
    "censor :: Monoid w => (w -> w) -> Writer w a -> Writer w a\n",
    "censor f writerMonad = pass $ do\n",
    "    a <- writerMonad\n",
    "    return (a, f)\n",
    "```"
   ]
  },
  {
   "cell_type": "markdown",
   "metadata": {},
   "source": [
    "### MonadWriter type class"
   ]
  },
  {
   "cell_type": "markdown",
   "metadata": {},
   "source": [
    "The Writer monad and the helper functions presented in the previous two chapters can be also found in the **Control.Monad.Writer** module.\n",
    "\n",
    "This module is part of the **mtl** package that as said in the previous chapter is extending the **transformers** package."
   ]
  },
  {
   "cell_type": "markdown",
   "metadata": {},
   "source": [
    "The module defines the `MonadWriter` type class that contains the functions `writer`, `tell`, `listen` and `pass`.\n",
    "\n",
    "They are equivalent to the functions describer in the previous chapter."
   ]
  },
  {
   "cell_type": "markdown",
   "metadata": {},
   "source": [
    "```haskell\n",
    "class (Monoid w, Monad m) => MonadWriter w m | m -> w where\n",
    "    writer :: (a,w) -> m a\n",
    "    writer ~(a, w) = do\n",
    "      tell w\n",
    "      return a\n",
    "\n",
    "    tell   :: w -> m ()\n",
    "    tell w = writer ((),w)\n",
    "\n",
    "    listen :: m a -> m (a, w)\n",
    "\n",
    "    pass   :: m (a, w -> w) -> m a\n",
    "    {-# MINIMAL (writer | tell), listen, pass #-}\n",
    "```"
   ]
  },
  {
   "cell_type": "markdown",
   "metadata": {},
   "source": [
    "The minimal complete definition are the `listen`, `pass` and either `writer` or `tell` functions. \n",
    "\n",
    "Same as for the `MonadReader` type classes you need to use also here the *MultiParamTypeClasses* and *FunctionalDependencies* language pragma."
   ]
  },
  {
   "cell_type": "markdown",
   "metadata": {},
   "source": [
    "For our Writer monad we could write an instance of the `MonadWriter` type class as:\n",
    "```haskell\n",
    "instance (Monoid w) => MonadWriter w (Writer w) where\n",
    "    pass :: Monoid w => Writer w (a, w -> w) -> Writer w a\n",
    "    pass (Writer ((a,f),w)) = Writer (a,f w)\n",
    "\n",
    "    listen :: Monoid w => Writer w a -> Writer w (a, w)\n",
    "    listen (Writer (a,w)) = Writer ((a,w),w)\n",
    "    \n",
    "    tell :: Monoid w => w -> Writer w ()\n",
    "    tell msg = Writer ((),msg)\n",
    "```"
   ]
  },
  {
   "cell_type": "markdown",
   "metadata": {},
   "source": [
    "Also here you would need to include the language pragmas *FlexibleInstances* and *InstanceSigs*.\n",
    "\n",
    "What all four language pragmas do was already explained in the Reader monad lesson. "
   ]
  },
  {
   "cell_type": "markdown",
   "metadata": {},
   "source": [
    "### Simple example"
   ]
  },
  {
   "cell_type": "markdown",
   "metadata": {},
   "source": [
    "Let's say you have a friend that has a million EUR and he has no idea about cryptocurrecies. \n",
    "\n",
    "You know a crypto currency project where you can stake your money and get 1% interest rate annually. "
   ]
  },
  {
   "cell_type": "markdown",
   "metadata": {},
   "source": [
    "The good thing is the cryptocurrency is a fully colaterized stable coin pedged to the value of 1 EUR and does not change over time.\n",
    "\n",
    "You friend says that he would lend you his money for investing with a 2% annual interest rate that is calculated same way as if you take a credit in a bank."
   ]
  },
  {
   "cell_type": "markdown",
   "metadata": {},
   "source": [
    "For a bank credit the customer pays each year a portion of the credit back and the interest rate is applied to the drecreased amout still owed.\n",
    "\n",
    "You agree and make a deal with him under the condition that he gets his money back including interest rates at the very end of the lending period."
   ]
  },
  {
   "cell_type": "markdown",
   "metadata": {},
   "source": [
    "The formula for calculating the final amount your friend gets back including interest rates is:\n",
    "```\n",
    "1.000.000 EUR * (1 + 0.02 * (years + 1) / 2)\n",
    "```"
   ]
  },
  {
   "cell_type": "markdown",
   "metadata": {},
   "source": [
    "We write now a program that lets us calculate for a number of staking years what will be our profit in the end if we put this money up for staking.\n",
    "\n",
    "The profit you get is the staking profit minus the interest payments your friend will get because he decided to give you the money for staking. "
   ]
  },
  {
   "cell_type": "markdown",
   "metadata": {},
   "source": [
    "The formula for calculating the final amount you get including the staking rewards:\n",
    "```\n",
    "1.000.000 EUR * (1 + 0.01) ** years\n",
    "```"
   ]
  },
  {
   "cell_type": "markdown",
   "metadata": {},
   "source": [
    "We will write this code with help of two Writer monads, that have a writer variable of type `[String]` and are parameterized by `Int` that represents the final amount.\n",
    "\n",
    "These monads that calculate the final credit costs and staking amount, depend on the number of staking years, so they will take an `Int` parameter as input."
   ]
  },
  {
   "cell_type": "code",
   "execution_count": null,
   "metadata": {},
   "outputs": [],
   "source": [
    "import Control.Monad.Writer (runWriter, MonadWriter(tell), Writer)\n",
    "\n",
    "type Years = Int\n",
    "type Messages = [String]\n",
    "type Costs = Int\n",
    "type Reward = Int\n",
    "\n",
    "capital = 1000000\n",
    "interestRate = 0.02\n",
    "rewardRate = 0.01 \n",
    "\n",
    "creditCosts :: Years -> Writer Messages Costs\n",
    "creditCosts years = do\n",
    "    let costs = (round $ capital * interestRate*(fromIntegral years + 1)/2) :: Int\n",
    "    tell [\"Your credit cost in \" ++ show years ++ \" years will be: \" ++ show costs]\n",
    "    return costs\n",
    "\n",
    "stakingRewards :: Years -> Writer Messages Reward\n",
    "stakingRewards years = do\n",
    "    let reward = (round $ capital * ((1 + rewardRate) ** fromIntegral years - 1)) :: Int\n",
    "    tell [\"Your final staked amount in \" ++ show years ++ \" years will be: \" ++ show reward]\n",
    "    return reward\n",
    "\n",
    "analyzeProfit :: Years -> Writer Messages ()\n",
    "analyzeProfit years = do  \n",
    "    cost <- creditCosts years  \n",
    "    reward <- stakingRewards years\n",
    "    let profit = reward - cost\n",
    "    tell [\"The profit you make after \" ++ show years ++ \" years is: \" ++ show profit ++ \" EUR.\"]\n",
    "    return ()\n",
    "\n",
    "main :: IO ()\n",
    "main = do\n",
    "    putStrLn \"Input number of years you can afford to take the credit: \"\n",
    "    years <- read <$> getLine :: IO Int\n",
    "    let (_, messages) = runWriter $ analyzeProfit years\n",
    "    printList messages\n",
    "\n",
    "printList :: [String] -> IO ()\n",
    "printList [] = return ()\n",
    "printList (x:xs) = do\n",
    "    putStrLn x \n",
    "    printList xs\n",
    "\n",
    "main"
   ]
  },
  {
   "cell_type": "markdown",
   "metadata": {},
   "source": [
    "When we use the `tell` function the message gets appended to the writer variable of the `creditCosts` and `stakingRewards` monads. \n",
    "\n",
    "When we call them in the `analyzeProfit` Writer monad, its writer variable gets update with the writer variables from those Writer monads. "
   ]
  },
  {
   "cell_type": "markdown",
   "metadata": {},
   "source": [
    "The type of the writer parameter which is in our case a list of strings, has to have an instance of the **Monoid** type class, that lists have."
   ]
  },
  {
   "cell_type": "markdown",
   "metadata": {},
   "source": [
    "## Writer monad examples"
   ]
  },
  {
   "cell_type": "markdown",
   "metadata": {},
   "source": [
    "Let's look at a simple example where we use also the `listen` function that enables us to retrieve the logs from the Writer monad.\n",
    "\n",
    "We input an integer number, pass it on to a Writer monad, do some computation on it and log messages."
   ]
  },
  {
   "cell_type": "code",
   "execution_count": null,
   "metadata": {},
   "outputs": [],
   "source": [
    "import Control.Monad.Writer (runWriter, MonadWriter(listen, tell), Writer)\n",
    "\n",
    "type Result = Int\n",
    "type Logs a = Writer [String] a\n",
    "\n",
    "logMsg :: String -> Logs ()\n",
    "logMsg msg = tell [msg]\n",
    "\n",
    "add1 :: Int -> Logs Result\n",
    "add1 x = do\n",
    "    logMsg \"Starting add1.\"\n",
    "    let y = x + 1\n",
    "    logMsg $ \"Computed result: \" ++ show y\n",
    "    return y\n",
    "\n",
    "start :: Int -> Logs Result\n",
    "start x = do\n",
    "    (n, logs) <- listen $ add1 x\n",
    "    let logLines = length logs\n",
    "    logMsg $ \"add1 logged \" ++ show logLines ++ \" lines\"\n",
    "    return n\n",
    "\n",
    "main :: IO ()\n",
    "main = do\n",
    "    print \"Input an integer number:\"\n",
    "    n <- (read <$> getLine) :: IO Int\n",
    "    let (result, logs) = runWriter $ start n\n",
    "    print $ \"Result is: \" ++ show result\n",
    "    putStrLn \"Logs are: \"\n",
    "    printList logs\n",
    "\n",
    "main"
   ]
  },
  {
   "cell_type": "markdown",
   "metadata": {},
   "source": [
    "This is a simple example but imagine in another example you have to call 10 connected functions where each on average can make up to 3 logs.\n",
    "\n",
    "And in the last function you call, there is a condition statement that checks weather more then 5 WARNING messages have been logged. "
   ]
  },
  {
   "cell_type": "markdown",
   "metadata": {},
   "source": [
    "Let us re-write the example above such that in the `start` function we use the `listens` function instead of `listen`."
   ]
  },
  {
   "cell_type": "code",
   "execution_count": null,
   "metadata": {},
   "outputs": [],
   "source": [
    "import Control.Monad.Writer (listens, runWriter, MonadWriter(tell), Writer)\n",
    "\n",
    "start :: Int -> Logs Result\n",
    "start x = do\n",
    "    (n, logLines) <- listens length $ add1 x\n",
    "    logMsg $ \"add1 logged \" ++ show logLines ++ \" lines\"\n",
    "    return n\n",
    "\n",
    "main"
   ]
  },
  {
   "cell_type": "markdown",
   "metadata": {},
   "source": [
    "In our next example we demonstrate how the `pass` function works. We write a simple program that adds up to prices and logs messages.\n",
    "\n",
    "The `pass` function is then used when applying the `transform` function to the logs of the Writer monads. "
   ]
  },
  {
   "cell_type": "code",
   "execution_count": null,
   "metadata": {},
   "outputs": [],
   "source": [
    "import Control.Monad.Writer (runWriter, MonadWriter(pass, tell), Writer)\n",
    "\n",
    "logCost :: Double -> Writer [String] Double  \n",
    "logCost x = do\n",
    "    tell [\"Cost is: \" ++ show x ++ \" EUR\"]\n",
    "    return x            \n",
    "      \n",
    "sumCosts :: Writer [String] (Double, [String] -> [String])\n",
    "sumCosts = do  \n",
    "    a <- logCost 7.99 \n",
    "    b <- logCost 11.99\n",
    "    tell [\"Summed costs are: \" ++ show (a + b) ++ \" EUR\"]\n",
    "    return (a + b,transform)\n",
    "\n",
    "process :: Writer [String] Double\n",
    "process = do\n",
    "    pass sumCosts\n",
    "\n",
    "transform :: [String] -> [String]\n",
    "transform list = map (\"NOTE: \" ++) list\n",
    "\n",
    "main :: IO ()\n",
    "main = do\n",
    "    let (_, messages) = runWriter process\n",
    "    printList messages\n",
    "    \n",
    "main"
   ]
  },
  {
   "cell_type": "markdown",
   "metadata": {},
   "source": [
    "Let us re-write the example above such that we use in the `sumCosts` function `censor` instead of the `pass` function. \n",
    "\n",
    "Notice how the type signatures of the function `sumCosts` gets simplified. "
   ]
  },
  {
   "cell_type": "code",
   "execution_count": null,
   "metadata": {},
   "outputs": [],
   "source": [
    "import Control.Monad.Writer (censor, runWriter, MonadWriter(tell), Writer)    \n",
    "      \n",
    "sumCosts :: Writer [String] Double\n",
    "sumCosts = do  \n",
    "    a <- logCost 7.99 \n",
    "    b <- logCost 11.99\n",
    "    tell [\"Summed costs are: \" ++ show (a + b) ++ \" EUR\"]\n",
    "    return $ a + b\n",
    "\n",
    "process :: Writer [String] Double\n",
    "process = do\n",
    "    censor transform sumCosts\n",
    "\n",
    "main"
   ]
  },
  {
   "cell_type": "markdown",
   "metadata": {},
   "source": [
    "We can now look at our initial example for the sort functions. Let's re-write it with the use of the Writer monad."
   ]
  },
  {
   "cell_type": "code",
   "execution_count": null,
   "metadata": {},
   "outputs": [],
   "source": [
    "import Control.Monad.Writer (runWriter, MonadWriter(tell), Writer)\n",
    "\n",
    "instance Semigroup Int where\n",
    "  (<>) = (+)\n",
    "\n",
    "instance Monoid Int where\n",
    "  mempty = 0\n",
    "  mappend = (<>)\n",
    "\n",
    "type List = [Int]\n",
    "\n",
    "selectionSort :: List -> Writer Int ()\n",
    "selectionSort []   = return ()\n",
    "selectionSort list = do\n",
    "    tell 1\n",
    "    selectionSort rest\n",
    "  where rest = filter (/= minimum list) list\n",
    "\n",
    "quicksort :: List -> Writer Int ()\n",
    "quicksort []     = return () \n",
    "quicksort (x:xs) = do\n",
    "    tell 1\n",
    "    quicksort lesser \n",
    "    quicksort greater\n",
    "  where \n",
    "    lesser  = filter (< x) xs \n",
    "    greater = filter (>= x) xs \n",
    "\n",
    "mergeSort :: List -> Writer Int List\n",
    "mergeSort []  = return []\n",
    "mergeSort [x] = return [x]\n",
    "mergeSort xs = do\n",
    "    tell 1\n",
    "    xs1 <- mergeSort (firstHalf xs) \n",
    "    xs2 <- mergeSort (secondHalf xs)\n",
    "    return $ merge xs1 xs2\n",
    "  where merge xs [] = xs\n",
    "        merge [] ys = ys\n",
    "        merge (x:xs) (y:ys) | x <= y    = x:merge xs (y:ys)\n",
    "                            | otherwise = y:merge (x:xs) ys\n",
    "        firstHalf  xs = let { n = length xs } in take (div n 2) xs\n",
    "        secondHalf xs = let { n = length xs } in drop (div n 2) xs\n",
    "\n",
    "testSorts :: [Int] -> IO ()\n",
    "testSorts list = do\n",
    "    let (_, count1) = runWriter $ selectionSort list\n",
    "        (_, count2) = runWriter $ quicksort list\n",
    "        (_, count3) = runWriter $ mergeSort list \n",
    "    \n",
    "    putStrLn $ \"Operation count results for the list \" ++ show list\n",
    "    putStrLn $ \"Selection sort: \" ++ show count1\n",
    "    putStrLn $ \"Quick sort: \" ++ show count2\n",
    "    putStrLn $ \"Merge sort: \" ++ show (count3 + 1)\n",
    "    putStrLn \"\"\n",
    "\n",
    "main :: IO ()\n",
    "main = do\n",
    "    let list1 = [7, 6, 5, 4, 3, 2, 1]\n",
    "        list2 = [3, 2, 1, 4, 1, 2, 3]\n",
    "        list3 = [6, 3, 4, 2, 1, 3, 5]\n",
    "        \n",
    "    testSorts list1\n",
    "    testSorts list2\n",
    "    testSorts list3\n",
    "\n",
    "main"
   ]
  },
  {
   "cell_type": "markdown",
   "metadata": {},
   "source": [
    "First we create a Monoid instance for the `Int` type that allows us to keep track of recursive calls.\n",
    "\n",
    "The first two sort functions `selectionSort` and `quicksort`, we can implement without passing on the sorted list.\n",
    "\n",
    "The last `mergeSort` function has to return a sorted list because the algorithm structure demans this when making recursive calls."
   ]
  },
  {
   "cell_type": "markdown",
   "metadata": {},
   "source": [
    "Altogether we see that the code for the first two functions becomes more cleaner than in the intial example.\n",
    "\n",
    "Also a developer that reads our code can easier reason about what it does."
   ]
  },
  {
   "cell_type": "markdown",
   "metadata": {},
   "source": [
    "## Recap"
   ]
  },
  {
   "cell_type": "markdown",
   "metadata": {},
   "source": [
    "In this lesson we've discussed:\n",
    "\n",
    "- the motivation for introducing the Writer monad \n",
    "\n",
    "- the definition of the Writer monad type\n",
    "\n",
    "- helper functions that work with the Writer monad\n",
    "\n",
    "- examples that use the Writer monad type and its helper functions"
   ]
  }
 ],
 "metadata": {
  "kernelspec": {
   "display_name": "Haskell",
   "language": "haskell",
   "name": "haskell"
  },
  "language_info": {
   "codemirror_mode": "ihaskell",
   "file_extension": ".hs",
   "mimetype": "text/x-haskell",
   "name": "haskell",
   "pygments_lexer": "Haskell",
   "version": "8.10.7"
  }
 },
 "nbformat": 4,
 "nbformat_minor": 4
}
