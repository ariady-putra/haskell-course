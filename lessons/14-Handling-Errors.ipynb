{
 "cells": [
  {
   "cell_type": "markdown",
   "metadata": {},
   "source": [
    "# Maybe and Either"
   ]
  },
  {
   "cell_type": "markdown",
   "metadata": {},
   "source": [
    "## Outline\n",
    "\n",
    "* Missing values in Haskell\n",
    "\n",
    "* The Maybe type\n",
    "\n",
    "* The Either type\n",
    "\n",
    "* A practical example\n",
    "\n",
    "In this lesson, we will learn how to handle possible missing values in Haskell. We will introduce the types `Maybe` and `Either` and finish the lesson with some practical examples."
   ]
  },
  {
   "cell_type": "markdown",
   "metadata": {},
   "source": [
    "## Missing values in Haskell"
   ]
  },
  {
   "cell_type": "markdown",
   "metadata": {},
   "source": [
    "Dealing with real life data in computer programs always opens up the question how to handle the data if some of it is missing. \n",
    "\n",
    "You have learned now how input output works in Haskell and imagine when reading a file from disk, some data you might expect is missing. \n",
    "\n",
    "Another example would be fetching data from a web server, e.g. a REST API and getting an error response. Of course a JSON string that the API returns can always contain an error description. "
   ]
  },
  {
   "cell_type": "markdown",
   "metadata": {},
   "source": [
    "But how to represent this in Haskell when you need to have an error type that also contains a string for the error description?\n",
    "\n",
    "The answer to this is of course **parameterized types**. In many other programming languages a missing value is represented by the null value. \n",
    "\n",
    "The Haskell types that are used for this are called **Maybe** and **Either**. They are not just used by incentive of the programmer but are sometimes also returned by other Haskell functions. "
   ]
  },
  {
   "cell_type": "markdown",
   "metadata": {},
   "source": [
    "## The Maybe type"
   ]
  },
  {
   "cell_type": "markdown",
   "metadata": {},
   "source": [
    "The Maybe type in Haskell is used when to represent data that is missing, but no other information is attached to the missing value as for example an error message. \n",
    "\n",
    "In Haskell the Maybe type allows you to write safer code because potential missing values are caught. "
   ]
  },
  {
   "cell_type": "markdown",
   "metadata": {},
   "source": [
    "The Maybe type structure is:\n",
    "```haskell\n",
    "data Maybe a = Nothing | Just a\n",
    "```\n",
    "\n",
    "Below are two variable declarations:"
   ]
  },
  {
   "cell_type": "code",
   "execution_count": 21,
   "metadata": {},
   "outputs": [
    {
     "data": {
      "text/plain": [
       "Nothing"
      ]
     },
     "metadata": {},
     "output_type": "display_data"
    },
    {
     "data": {
      "text/plain": [
       "Just 7"
      ]
     },
     "metadata": {},
     "output_type": "display_data"
    }
   ],
   "source": [
    "var1, var2 :: Maybe Int\n",
    "var1 = Nothing\n",
    "var2 = Just 7\n",
    "\n",
    "var1\n",
    "var2"
   ]
  },
  {
   "cell_type": "markdown",
   "metadata": {},
   "source": [
    "If a value is missing the Maybe type returns a Nothing and if the value is present it returns for instance a Just 7. \n",
    "\n",
    "Below you can see an example of how Maybe values are used by the Map data structure that holds key and value pairs.\n",
    "\n",
    "NOTE: We will learn more in depth about the **Data.Map** module in the next lesson."
   ]
  },
  {
   "cell_type": "code",
   "execution_count": 3,
   "metadata": {},
   "outputs": [
    {
     "data": {},
     "metadata": {},
     "output_type": "display_data"
    },
    {
     "data": {},
     "metadata": {},
     "output_type": "display_data"
    },
    {
     "data": {
      "text/plain": [
       "Just \"one\""
      ]
     },
     "metadata": {},
     "output_type": "display_data"
    },
    {
     "data": {
      "text/plain": [
       "Nothing"
      ]
     },
     "metadata": {},
     "output_type": "display_data"
    },
    {
     "data": {
      "text/html": [
       "<div style='background: rgb(247, 247, 247);'><form><textarea id='code'>Map.lookup :: Ord k => k -> Map.Map k a -> Maybe a \t-- Defined in ‘Data.Map.Internal’\n",
       "</textarea></form></div><script>CodeMirror.fromTextArea(document.getElementById('code'), {mode: 'haskell', readOnly: 'nocursor'});</script>"
      ],
      "text/plain": [
       "Map.lookup :: Ord k => k -> Map.Map k a -> Maybe a \t-- Defined in ‘Data.Map.Internal’"
      ]
     },
     "metadata": {},
     "output_type": "display_data"
    }
   ],
   "source": [
    "import qualified Data.Map as Map\n",
    "\n",
    "-- The Map functions we will use\n",
    ":i Map.fromList\n",
    ":i Map.lookup\n",
    "\n",
    "values :: [Int]\n",
    "values = [1,3,5]\n",
    "\n",
    "strings :: [String]\n",
    "strings = [\"one\",\"three\",\"five\"]\n",
    "\n",
    "pairs :: [(Int, String)]\n",
    "pairs = zip values strings\n",
    "\n",
    "myMap :: Map.Map Int String\n",
    "myMap = Map.fromList pairs\n",
    "\n",
    "lookup1, lookup2 :: Maybe String\n",
    "lookup1 = Map.lookup 1 myMap\n",
    "lookup2 = Map.lookup 2 myMap\n",
    "\n",
    "print lookup1\n",
    "print lookup2"
   ]
  },
  {
   "cell_type": "markdown",
   "metadata": {},
   "source": [
    "Once you have a Map object you can also transform it back to a list with the function `toList`. You can also store your own defined object types in a Map. \n",
    "\n",
    "Another pair of useful functions are `isJust` and `isNothing` which check on a Maybe value wether it is of a Just type or a Nothing type and return a Bool."
   ]
  },
  {
   "cell_type": "code",
   "execution_count": 5,
   "metadata": {},
   "outputs": [
    {
     "data": {
      "text/plain": [
       "(1,One)"
      ]
     },
     "metadata": {},
     "output_type": "display_data"
    },
    {
     "data": {
      "text/plain": [
       "True"
      ]
     },
     "metadata": {},
     "output_type": "display_data"
    },
    {
     "data": {
      "text/plain": [
       "False"
      ]
     },
     "metadata": {},
     "output_type": "display_data"
    }
   ],
   "source": [
    "import qualified Data.Map as Map\n",
    "import Data.Maybe (isJust, isNothing)\n",
    "\n",
    "data Numbers = One | Two deriving (Show)\n",
    "\n",
    "simpleMap :: Map.Map Int Numbers\n",
    "simpleMap = Map.fromList [(1,One),(2,Two)]\n",
    "\n",
    "listFromMap :: [(Int, Numbers)]\n",
    "listFromMap = Map.toList simpleMap\n",
    "\n",
    "print $ head listFromMap\n",
    "print $ isJust $ Map.lookup 1 simpleMap\n",
    "print $ isJust $ Map.lookup 3 simpleMap"
   ]
  },
  {
   "cell_type": "markdown",
   "metadata": {},
   "source": [
    "In the last example we show how we can combine some of the things we learned. We will iterate through a Map and filter out only the existing values. \n",
    "\n",
    "We pretend that we do not know in advance which are the existing values. Another function we will use here is `fromJust` that takes a Just value and extracts the contained value from it. "
   ]
  },
  {
   "cell_type": "code",
   "execution_count": 22,
   "metadata": {},
   "outputs": [
    {
     "data": {
      "text/html": [
       "<style>/* Styles used for the Hoogle display in the pager */\n",
       ".hoogle-doc {\n",
       "display: block;\n",
       "padding-bottom: 1.3em;\n",
       "padding-left: 0.4em;\n",
       "}\n",
       ".hoogle-code {\n",
       "display: block;\n",
       "font-family: monospace;\n",
       "white-space: pre;\n",
       "}\n",
       ".hoogle-text {\n",
       "display: block;\n",
       "}\n",
       ".hoogle-name {\n",
       "color: green;\n",
       "font-weight: bold;\n",
       "}\n",
       ".hoogle-head {\n",
       "font-weight: bold;\n",
       "}\n",
       ".hoogle-sub {\n",
       "display: block;\n",
       "margin-left: 0.4em;\n",
       "}\n",
       ".hoogle-package {\n",
       "font-weight: bold;\n",
       "font-style: italic;\n",
       "}\n",
       ".hoogle-module {\n",
       "font-weight: bold;\n",
       "}\n",
       ".hoogle-class {\n",
       "font-weight: bold;\n",
       "}\n",
       ".get-type {\n",
       "color: green;\n",
       "font-weight: bold;\n",
       "font-family: monospace;\n",
       "display: block;\n",
       "white-space: pre-wrap;\n",
       "}\n",
       ".show-type {\n",
       "color: green;\n",
       "font-weight: bold;\n",
       "font-family: monospace;\n",
       "margin-left: 1em;\n",
       "}\n",
       ".mono {\n",
       "font-family: monospace;\n",
       "display: block;\n",
       "}\n",
       ".err-msg {\n",
       "color: red;\n",
       "font-style: italic;\n",
       "font-family: monospace;\n",
       "white-space: pre;\n",
       "display: block;\n",
       "}\n",
       "#unshowable {\n",
       "color: red;\n",
       "font-weight: bold;\n",
       "}\n",
       ".err-msg.in.collapse {\n",
       "padding-top: 0.7em;\n",
       "}\n",
       ".highlight-code {\n",
       "white-space: pre;\n",
       "font-family: monospace;\n",
       "}\n",
       ".suggestion-warning { \n",
       "font-weight: bold;\n",
       "color: rgb(200, 130, 0);\n",
       "}\n",
       ".suggestion-error { \n",
       "font-weight: bold;\n",
       "color: red;\n",
       "}\n",
       ".suggestion-name {\n",
       "font-weight: bold;\n",
       "}\n",
       "</style><div class=\"suggestion-name\" style=\"clear:both;\">Use catMaybes</div><div class=\"suggestion-row\" style=\"float: left;\"><div class=\"suggestion-warning\">Found:</div><div class=\"highlight-code\" id=\"haskell\">map fromJust $ filter isJust $ map getContents ids</div></div><div class=\"suggestion-row\" style=\"float: left;\"><div class=\"suggestion-warning\">Why Not:</div><div class=\"highlight-code\" id=\"haskell\">Data.Maybe.catMaybes (map getContents ids)</div></div><div class=\"suggestion-name\" style=\"clear:both;\">Avoid lambda using `infix`</div><div class=\"suggestion-row\" style=\"float: left;\"><div class=\"suggestion-warning\">Found:</div><div class=\"highlight-code\" id=\"haskell\">\\ id -> Map.lookup id boxes</div></div><div class=\"suggestion-row\" style=\"float: left;\"><div class=\"suggestion-warning\">Why Not:</div><div class=\"highlight-code\" id=\"haskell\">(`Map.lookup` boxes)</div></div>"
      ],
      "text/plain": [
       "Line 10: Use catMaybes\n",
       "Found:\n",
       "map fromJust $ filter isJust $ map getContents ids\n",
       "Why not:\n",
       "Data.Maybe.catMaybes (map getContents ids)Line 11: Avoid lambda using `infix`\n",
       "Found:\n",
       "\\ id -> Map.lookup id boxes\n",
       "Why not:\n",
       "(`Map.lookup` boxes)"
      ]
     },
     "metadata": {},
     "output_type": "display_data"
    },
    {
     "data": {
      "text/plain": [
       "[\"toy\",\"watch\",\"book\"]"
      ]
     },
     "metadata": {},
     "output_type": "display_data"
    }
   ],
   "source": [
    "import qualified Data.Map as Map\n",
    "import Data.Maybe (isJust, fromJust)\n",
    "\n",
    "boxes :: Map.Map Int String\n",
    "boxes = Map.fromList [(1,\"toy\"),(3,\"watch\"),(5,\"book\")]\n",
    "\n",
    "boxesToCheck = [1..5]\n",
    "\n",
    "getBoxContents :: [Int] -> Map.Map Int String -> [String]\n",
    "getBoxContents ids catalog = map fromJust $ filter isJust $ map getContents ids\n",
    " where getContents = \\id -> Map.lookup id boxes\n",
    " \n",
    "print $ getBoxContents boxesToCheck boxes"
   ]
  },
  {
   "cell_type": "markdown",
   "metadata": {},
   "source": [
    "## The Either type\n",
    "The Either type in Haskell is used when to represent data that is missing and we want to return another value, as for example an error message. \n",
    "\n",
    "This is used instead of Maybe for instance when the reasons for a missing value are important and you want to share it with the user. \n",
    "\n",
    "Another possibility would be that you want to return a default value when the real one is missing."
   ]
  },
  {
   "cell_type": "markdown",
   "metadata": {},
   "source": [
    "This is the Either type structure:\n",
    "```haskell\n",
    "data Either a b = Left a | Right b\n",
    "```\n",
    "\n",
    "Below you can see two variable declarations. For missing values we ussually use the Left data constructor."
   ]
  },
  {
   "cell_type": "code",
   "execution_count": 23,
   "metadata": {},
   "outputs": [
    {
     "data": {
      "text/plain": [
       "Left \"Error: Value is missing.\""
      ]
     },
     "metadata": {},
     "output_type": "display_data"
    },
    {
     "data": {
      "text/plain": [
       "Right 7"
      ]
     },
     "metadata": {},
     "output_type": "display_data"
    }
   ],
   "source": [
    "var1, var2 :: Either String Int\n",
    "var1 = Left \"Error: Value is missing.\"\n",
    "var2 = Right 7\n",
    "\n",
    "var1\n",
    "var2"
   ]
  },
  {
   "cell_type": "markdown",
   "metadata": {},
   "source": [
    "Lets look at an example where the user has to input a number up to 100 and that is checked weather it is prime. \n",
    "\n",
    "We now have the option to return an error message that explains why a certain number is not a valid input."
   ]
  },
  {
   "cell_type": "code",
   "execution_count": 24,
   "metadata": {},
   "outputs": [
    {
     "data": {
      "text/plain": [
       "\"Enter a number for testing up to 100:\"\n",
       "Right True"
      ]
     },
     "metadata": {},
     "output_type": "display_data"
    }
   ],
   "source": [
    "-- Function for generating prime numbers\n",
    "primeNumbers :: Int -> [Int]\n",
    "primeNumbers n = getPrimes [2..]\n",
    "  where getPrimes list@(x:xs) = if x > n \n",
    "                                then [] \n",
    "                                else filterPrimes list\n",
    "        filterPrimes (x:xs) = x : getPrimes (filter ((/= 0) . (`mod` x)) xs)\n",
    "\n",
    "-- Function that checks if a number is valid and prime\n",
    "isNumberPrime :: Int -> Either String Bool\n",
    "isNumberPrime n\n",
    "  | n < 2 = Left \"Prime numbers are larger than 1.\"\n",
    "  | n > 100 = Left \"Number is to large for testing.\"\n",
    "  | otherwise = Right (n `elem` primeNumbers n)\n",
    "\n",
    "main :: IO ()\n",
    "main = do\n",
    "  print \"Enter a number for testing up to 100:\"\n",
    "  input <- getLine\n",
    "  let p = read input\n",
    "      result = isNumberPrime p\n",
    "  print result\n",
    "\n",
    "main"
   ]
  },
  {
   "cell_type": "markdown",
   "metadata": {},
   "source": [
    "An example of a build-in Haskell function that returns a Either type is `eitherDecode` that comes with the **Aeson** library. \n",
    "\n",
    "It is used to parse a JSON file and returns either an object of type a, or a string that contains an error message of the parsing. \n",
    "\n",
    "The type signature of the function you can see below. You will learn about the Aeson module in lesson 18.\n",
    "```haskell\n",
    "eitherDecode :: FromJSON a => ByteString -> Either String a\n",
    "```"
   ]
  },
  {
   "cell_type": "markdown",
   "metadata": {},
   "source": [
    "## A practical example"
   ]
  },
  {
   "cell_type": "markdown",
   "metadata": {},
   "source": [
    "Lets look now at an example where we define a type for handling errors on our own. We will call it `Path` and the constructors will be `Success` and `Failure`.\n",
    "\n",
    "We will write a program that askes the user to provide some data to create a user account. "
   ]
  },
  {
   "cell_type": "markdown",
   "metadata": {},
   "source": [
    "The program performs some simple checks on the data and lets the user know weather the data passed the checks or not. \n",
    " \n",
    "The concept of checks follows the paradigm of Railway oriented programming where your checks can put you on a success or failure track. "
   ]
  },
  {
   "cell_type": "code",
   "execution_count": 27,
   "metadata": {},
   "outputs": [
    {
     "data": {
      "text/plain": [
       "\"What is your name?\"\n",
       "\"What is your password?\"\n",
       "\"In which year where you born?\"\n",
       "The data has passed all the checks."
      ]
     },
     "metadata": {},
     "output_type": "display_data"
    }
   ],
   "source": [
    "\n",
    "-- Here we define our error type and make it an instance of Show\n",
    "data Path a b = Success a | Failure b\n",
    "type StringPath = Path [String] String\n",
    "\n",
    "instance Show b => Show (Path a b) where\n",
    "  show (Success _) = \"The data has passed all the checks.\"\n",
    "  show (Failure msg) = show msg\n",
    "\n",
    "-- The main function of the programm\n",
    "main :: IO ()\n",
    "main = do\n",
    "      name <- getInput \"What is your name?\"\n",
    "      password <- getInput \"What is your password?\"\n",
    "      answer <- getInput \"In which year where you born?\"\n",
    "      \n",
    "      let userData = Success [name, password, answer] :: Path [String] String\n",
    "      let result = checkYear . checkPassword . checkName $ userData\n",
    "      print result\n",
    "\n",
    "-- Helper functions\n",
    "getInput :: String -> IO String\n",
    "getInput question = do\n",
    "      print question\n",
    "      getLine\n",
    "\n",
    "process :: StringPath -> (String -> StringPath) -> Int -> StringPath\n",
    "process userData checkFunction index = \n",
    "  case userData of\n",
    "      Success xs -> checkFunction $ xs !! index\n",
    "      Failure msg -> Failure msg\n",
    "\n",
    "-- Functions that make a certain check for the user data\n",
    "checkName :: StringPath -> StringPath\n",
    "checkName userData = process userData check 0\n",
    "  where check input = if length (words input) > 1\n",
    "                      then userData\n",
    "                      else Failure \"Name has to contain at least 2 parts.\"\n",
    "\n",
    "checkPassword :: StringPath -> StringPath\n",
    "checkPassword userData = process userData check 1\n",
    "  where check input = if length input > 5\n",
    "                      then userData\n",
    "                      else Failure \"Password has less than 6 characters.\"\n",
    "\n",
    "checkYear :: StringPath -> StringPath\n",
    "checkYear userData = process userData check 2\n",
    "  where check input = if read input > 1900 && read input < 2020 \n",
    "                      then userData\n",
    "                      else Failure \"Birth year has to be between 1900 and 2020.\"\n",
    "                      \n",
    "main"
   ]
  },
  {
   "cell_type": "markdown",
   "metadata": {},
   "source": [
    "## Recap"
   ]
  },
  {
   "cell_type": "markdown",
   "metadata": {},
   "source": [
    "In this lecture, we have introduced the handling of missing data and errors in Haskell. \n",
    "\n",
    "- Haskell has two types for missing data called Maybe and Either. \n",
    "- Maybe can be used when the reason for the missing data is not important.\n",
    "- Either can be used when the reason for the missing data is important or when you want to return a default value.\n",
    "- You can also define your own type for handling errors and can use Railway oriented programming for error handling."
   ]
  }
 ],
 "metadata": {
  "kernelspec": {
   "display_name": "Haskell",
   "language": "haskell",
   "name": "haskell"
  },
  "language_info": {
   "codemirror_mode": "ihaskell",
   "file_extension": ".hs",
   "mimetype": "text/x-haskell",
   "name": "haskell",
   "pygments_lexer": "Haskell",
   "version": "8.10.7"
  }
 },
 "nbformat": 4,
 "nbformat_minor": 4
}
