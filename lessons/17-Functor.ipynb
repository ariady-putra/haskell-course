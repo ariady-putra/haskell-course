{
 "cells": [
  {
   "cell_type": "markdown",
   "metadata": {},
   "source": [
    "# Functor"
   ]
  },
  {
   "cell_type": "markdown",
   "metadata": {},
   "source": [
    "## Outline\n",
    "\n",
    "* Incentive for Functor\n",
    "\n",
    "* Definition of Functor\n",
    "\n",
    "* Functor examples\n",
    "\n",
    "* Functor laws\n",
    "\n",
    "In this lesson, we will learn about the Functor type classe and how you can use it."
   ]
  },
  {
   "cell_type": "markdown",
   "metadata": {},
   "source": [
    "## Incentive for Functor"
   ]
  },
  {
   "cell_type": "markdown",
   "metadata": {},
   "source": [
    "Imagine you have a function `add1 :: Num a => a -> a` that adds 1 to an variable that has an instance of the Num type class. \n",
    "\n",
    "But your input data is of type `Maybe a`. How to solve this? Let's look at an example."
   ]
  },
  {
   "cell_type": "code",
   "execution_count": null,
   "metadata": {},
   "outputs": [],
   "source": [
    "add1 :: Num a => a -> a\n",
    "add1 n = n + 1\n",
    "\n",
    "var1, var2 :: Maybe Int\n",
    "var1 = Just 1\n",
    "var2 = Nothing\n",
    "\n",
    "applyFuncToMaybe :: (a -> a) -> Maybe a -> Maybe a\n",
    "applyFuncToMaybe f Nothing = Nothing\n",
    "applyFuncToMaybe f (Just n) = Just (f n)\n",
    "\n",
    "print $ applyFuncToMaybe add1 var1\n",
    "print $ applyFuncToMaybe add1 var2"
   ]
  },
  {
   "cell_type": "markdown",
   "metadata": {},
   "source": [
    "We could also have a custom data type:\n",
    "```haskell\n",
    "data Wrapper a = Empty | Wrapper a deriving Show\n",
    "```\n",
    "We solve it similar as the previous example."
   ]
  },
  {
   "cell_type": "code",
   "execution_count": null,
   "metadata": {},
   "outputs": [],
   "source": [
    "data Wrapper a = Empty | Wrapper a deriving Show\n",
    "\n",
    "wrapperData :: [Wrapper Int]\n",
    "wrapperData = [Wrapper 3, Empty, Wrapper 2, Wrapper 1, Empty]\n",
    "\n",
    "applyFuncToWrapper :: (a -> a) -> Wrapper a -> Wrapper a\n",
    "applyFuncToWrapper f Empty = Empty\n",
    "applyFuncToWrapper f (Wrapper n) = Wrapper (f n) \n",
    "\n",
    "print $ map (applyFuncToWrapper add1) wrapperData"
   ]
  },
  {
   "cell_type": "markdown",
   "metadata": {},
   "source": [
    "A concern we have now is that for every data type that puts a variable into a context, if we want to perform similiar operations we need to define such a helper function.\n",
    "\n",
    "This is where the Functor type class comes to help to solve this problem."
   ]
  },
  {
   "cell_type": "markdown",
   "metadata": {},
   "source": [
    "## Definition of functor"
   ]
  },
  {
   "cell_type": "markdown",
   "metadata": {},
   "source": [
    "The definition of the Functor type class is as follows:\n",
    "```haskell\n",
    "class Functor f where\n",
    "  fmap :: (a -> b) -> f a -> f b\n",
    "  (<$) :: a -> f b -> f a\n",
    "  {-# MINIMAL fmap #-}\n",
    "```"
   ]
  },
  {
   "cell_type": "markdown",
   "metadata": {},
   "source": [
    "Let's see how the `fmap` function can help us to avoid using helper functions for transformations. \n",
    "\n",
    "We look at an example with the Maybe data type that has an instance of Functor."
   ]
  },
  {
   "cell_type": "code",
   "execution_count": null,
   "metadata": {},
   "outputs": [],
   "source": [
    "add1 :: Int -> Int\n",
    "add1 n = n + 1\n",
    "\n",
    "add1ToMaybe :: Maybe Int\n",
    "add1ToMaybe n = fmap add1 n\n",
    "\n",
    "print $ add1ToMaybe (Just 1)\n",
    "print $ add1ToMaybe Nothing\n",
    "\n",
    "maybeData :: [Maybe Int]\n",
    "maybeData = [Just 3, Nothing, Just 2, Just 1, Nothing]\n",
    "\n",
    "print $ map add1ToMaybe maybeData"
   ]
  },
  {
   "cell_type": "markdown",
   "metadata": {},
   "source": [
    "Another way you can use the `fmap` function is in its infix form where the operator `<$>` is just a synonim for `fmap` in infix form."
   ]
  },
  {
   "cell_type": "code",
   "execution_count": null,
   "metadata": {},
   "outputs": [],
   "source": [
    "print $ add1 `fmap` (Just 1 :: Maybe Int)\n",
    "print $ add1 <$> (Just 1 :: Maybe Int)"
   ]
  },
  {
   "cell_type": "markdown",
   "metadata": {},
   "source": [
    "Also lists have an instance of Functor type class. Imagine that a list is just a context as Maybe, where in the case of Maybe a value might be missing and in the case of lists the are many possible values. \n",
    "\n",
    "For lists it turns out that `fmap` is just `map` so you could re-write the previous Wrapper print statement to:"
   ]
  },
  {
   "cell_type": "code",
   "execution_count": null,
   "metadata": {},
   "outputs": [],
   "source": [
    "print $ fmap (applyFuncToWrapper add1) wrapperData"
   ]
  },
  {
   "cell_type": "markdown",
   "metadata": {},
   "source": [
    "## Functor examples"
   ]
  },
  {
   "cell_type": "markdown",
   "metadata": {},
   "source": [
    "Lets try now to use the Wrapper code example by making the Wrapper type an instance of the Functor type class."
   ]
  },
  {
   "cell_type": "code",
   "execution_count": null,
   "metadata": {},
   "outputs": [],
   "source": [
    "instance Functor Wrapper where\n",
    "    (fmap) f Empty = Empty\n",
    "    (fmap) f (Wrapper n) = Wrapper (f n)\n",
    "\n",
    "print $ map (fmap add1) wrapperData"
   ]
  },
  {
   "cell_type": "markdown",
   "metadata": {},
   "source": [
    "We get the exact same result as before. A curious reader may say that we only switched 3 lines of code for the `applyFuncForWrapper` function to another 3 lines of code for the `instance` declaration. \n",
    "\n",
    "But you do not have to come up with names for a transformation function every time you creare a new type, which makes it also easier to refactor code. And you also get the `<$` operator for free. \n",
    "\n",
    "Another benifit you have is that for Haskell types that have an instance of Functor the `<$>` operator works out of the box."
   ]
  },
  {
   "cell_type": "markdown",
   "metadata": {},
   "source": [
    "Here is an example where we use the `<$` operator, where we want to set all elements in a list or a Map to a single value."
   ]
  },
  {
   "cell_type": "code",
   "execution_count": null,
   "metadata": {},
   "outputs": [],
   "source": [
    "import qualified Data.Map as Map\n",
    "\n",
    "myList = [1..5]\n",
    "myMap = Map.fromList (zip ['a'..'c'] [1..3])\n",
    "\n",
    "setAllTo3 :: Functor f => f Int -> f Int\n",
    "setAllTo3 var = (<$) 3 var\n",
    "\n",
    "print $ setAllTo3 myList\n",
    "print $ setAllTo3 myMap"
   ]
  },
  {
   "cell_type": "markdown",
   "metadata": {},
   "source": [
    "Lets look at another example how you can use the `<$>` operator on a Map which has also an instance of Functor. \n",
    "\n",
    "We will define a data structure with record syntax called Book that contains some book details. \n",
    "\n",
    "Then we will create a Map for 3 books and use the function `describe` on the Map to get a list of book descriptions."
   ]
  },
  {
   "cell_type": "code",
   "execution_count": null,
   "metadata": {},
   "outputs": [],
   "source": [
    "data Book = Book {\n",
    "    price :: Int , \n",
    "    yearPublished :: Int ,\n",
    "    title :: String\n",
    "} deriving Show\n",
    "\n",
    "book1 = Book {\n",
    "    price = 15 ,\n",
    "    yearPublished = 1997 ,\n",
    "    title = \"Harry Potter and the Philosopher's Stone\"\n",
    "}\n",
    "\n",
    "book2 = Book {\n",
    "    price = 17 ,\n",
    "    yearPublished = 1998 ,\n",
    "    title = \"Harry Potter and the Chamber of Secrets\"\n",
    "}\n",
    "\n",
    "book3 = Book {\n",
    "    price = 19 ,\n",
    "    yearPublished = 1999 ,\n",
    "    title = \"Harry Potter and the Prisoner of Azkaban\"\n",
    "}\n",
    "\n",
    "books :: Map.Map Int Book\n",
    "books = Map.fromList $ zip [1..3] [book1, book2, book3]\n",
    "\n",
    "describe :: Book -> String\n",
    "describe myBook = \"The book \" ++ title myBook ++\n",
    "                   \" was published in \" ++ show (yearPublished myBook) ++\n",
    "                   \" and costs \" ++ show (price myBook) ++ \"$.\"\n",
    "\n",
    "printDescriptions :: Int -> IO ()\n",
    "printDescriptions x = if x < length descriptions\n",
    "                      then do\n",
    "                        print $ descriptions !! x\n",
    "                        printDescriptions (x + 1)\n",
    "                      else putStrLn \"Finished.\"\n",
    "\n",
    "descriptions :: [String]\n",
    "descriptions = map snd $ Map.toList $ describe <$> books\n",
    "\n",
    "printDescriptions 0"
   ]
  },
  {
   "cell_type": "markdown",
   "metadata": {},
   "source": [
    "We see that the `<$>` operator by default applies a function to the values of the Map and not its keys."
   ]
  },
  {
   "cell_type": "markdown",
   "metadata": {},
   "source": [
    "## Functor laws"
   ]
  },
  {
   "cell_type": "markdown",
   "metadata": {},
   "source": [
    "Haskell functors are more than just the functions given by their typeclasses. The typeclass also come with a set of laws.\n",
    "\n",
    "The reason for this is that the term Functor comes from mathematics and is defined by these laws."
   ]
  },
  {
   "cell_type": "markdown",
   "metadata": {},
   "source": [
    "Functor has 2 laws. They are as follows:\n",
    "\n",
    "- Identity:<br>`fmap id = id`\n",
    "\n",
    "- Composition:<br>`fmap (f . g) = fmap f . fmap g`"
   ]
  },
  {
   "cell_type": "markdown",
   "metadata": {},
   "source": [
    "The identity law ensures that `fmap` should only be a mapping function and should not change anything in the functor except for the value that it’s mapping.\n",
    "\n",
    "The composition law says it should not matter whether we compose `fmap` applied functions, or we `fmap` a composed function.\n",
    "\n",
    "In Haskell the role of these two laws is to guarantee `fmap` behaves the way it was intended and performs only a mapping operation."
   ]
  },
  {
   "cell_type": "markdown",
   "metadata": {},
   "source": [
    "Let's look how to test this on the Maybe type that has a correct implementation of Functor."
   ]
  },
  {
   "cell_type": "code",
   "execution_count": null,
   "metadata": {},
   "outputs": [],
   "source": [
    "fmap id (Just 1) == id (Just 1)\n",
    "\n",
    "fmap ((+1) . (*2)) (Just 1) == (fmap (+1) . fmap (*2)) (Just 1)"
   ]
  },
  {
   "cell_type": "markdown",
   "metadata": {},
   "source": [
    "Since they both return `True` we see that Functor is properly implemented for the Maybe type.\n",
    "\n",
    "Let's create a type and an instance of Functor for it, that violates these laws."
   ]
  },
  {
   "cell_type": "code",
   "execution_count": null,
   "metadata": {},
   "outputs": [],
   "source": [
    "data NotOk a = NotOk a Bool deriving Eq\n",
    "\n",
    "instance Functor NotOk where\n",
    "  fmap f (NotOk val check) = NotOk (f val) check'\n",
    "    where check' = not check\n",
    "\n",
    "var :: NotOk Int\n",
    "var = NotOk 1 True\n",
    "\n",
    "print $ fmap id var == id var\n",
    "print $ fmap ((+1) . (*2)) var == (fmap (+1) . fmap (*2)) var"
   ]
  },
  {
   "cell_type": "markdown",
   "metadata": {},
   "source": [
    "Haskell does not enforce this rules and the above code still compiles. So they are more like guidelines.\n",
    "\n",
    "Still you should follow them because:\n",
    "- you can better reason about what your code is doing\n",
    "- you can make use of other functions that work with the Functor type class"
   ]
  },
  {
   "cell_type": "markdown",
   "metadata": {},
   "source": [
    "## Recap"
   ]
  },
  {
   "cell_type": "markdown",
   "metadata": {},
   "source": [
    "In this lesson we've discussed:\n",
    "\n",
    "- the motivation for introducing the Functor type class\n",
    "\n",
    "- definition of the Functor type class\n",
    "\n",
    "- examples that show how to use the Functor type class\n",
    "\n",
    "- Functor laws and examples"
   ]
  }
 ],
 "metadata": {
  "kernelspec": {
   "display_name": "Haskell",
   "language": "haskell",
   "name": "haskell"
  },
  "language_info": {
   "codemirror_mode": "ihaskell",
   "file_extension": ".hs",
   "mimetype": "text/x-haskell",
   "name": "haskell",
   "pygments_lexer": "Haskell",
   "version": "8.10.7"
  }
 },
 "nbformat": 4,
 "nbformat_minor": 4
}
