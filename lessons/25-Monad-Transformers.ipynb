{
 "cells": [
  {
   "cell_type": "markdown",
   "metadata": {},
   "source": [
    "# Monad transformers"
   ]
  },
  {
   "cell_type": "markdown",
   "metadata": {},
   "source": [
    "## Outline\n",
    "\n",
    "* Incentive for the Monad transformers\n",
    "\n",
    "* The MonadIO type class\n",
    "\n",
    "* Monad Transformers\n",
    "\n",
    "In this lesson, we will learn about Monad transformers and how you can use them."
   ]
  },
  {
   "cell_type": "markdown",
   "metadata": {},
   "source": [
    "## Incentive for Monad transformers"
   ]
  },
  {
   "cell_type": "markdown",
   "metadata": {},
   "source": [
    "When we learned about the State monad we showed how you can implement the Tic-Tac-Toe with using the State monad. \n",
    "\n",
    "A curious student might ask how to implement this game with the State monads by geting the input from the user instead of the random funtion.\n",
    "\n",
    "Or in other words, is it possible to perform IO actions within a user defined State monad? The answer is yes."
   ]
  },
  {
   "cell_type": "markdown",
   "metadata": {},
   "source": [
    "With the knowledge that we have so far we can create a custom State monad that we will call `StateIO`.\n",
    "\n",
    "The idea is that the result of the `runState` function will have to be wrapped in IO.\n",
    "\n",
    "Below is the code that implements our costum `StateIO` state monad that returns the result in IO context."
   ]
  },
  {
   "cell_type": "code",
   "execution_count": null,
   "metadata": {},
   "outputs": [],
   "source": [
    "{-# LANGUAGE MultiParamTypeClasses #-}\n",
    "{-# LANGUAGE FlexibleInstances #-} \n",
    "\n",
    "import Control.Monad.Trans\n",
    "import Control.Monad (ap, liftM)\n",
    "import Control.Monad.State.Class (MonadState(get, put))\n",
    "\n",
    "newtype StateIO s a = StateIO {runStateIO :: s -> IO (a, s)}\n",
    "\n",
    "instance Functor (StateIO s) where\n",
    "    fmap = liftM\n",
    "\n",
    "instance Applicative (StateIO s) where\n",
    "    pure = return\n",
    "    (<*>) = ap\n",
    "\n",
    "instance Monad (StateIO s) where\n",
    "    return a = StateIO $ \\s -> return (a, s)\n",
    "    n >>= k = StateIO $ \\s -> do (a, s') <- runStateIO n s\n",
    "                                 runStateIO (k a) s'\n",
    "\n",
    "instance MonadState s (StateIO s) where\n",
    "    get = StateIO $ \\st -> return (st,st)\n",
    "    put st = StateIO $ const $ return ((),st)"
   ]
  },
  {
   "cell_type": "markdown",
   "metadata": {},
   "source": [
    "We see that the `StateIO` type is defined similar as the `State` type just that it returns `IO (a,s)` instead of `(a,s)`.\n",
    "\n",
    "But if we try now and create a state IO monad and try to perform some IO action in it, the code will not work."
   ]
  },
  {
   "cell_type": "code",
   "execution_count": null,
   "metadata": {},
   "outputs": [],
   "source": [
    "myStateIO :: StateIO [Int] ()\n",
    "myStateIO = do\n",
    "    st <- get\n",
    "    print $ head st -- causes compilation error\n",
    "    return ()\n",
    "\n",
    "main :: IO ()\n",
    "main = do\n",
    "    (_, st) <- runStateIO myStateIO [1..3]\n",
    "    putStrLn \"Finished.\"\n",
    "\n",
    "main"
   ]
  },
  {
   "cell_type": "markdown",
   "metadata": {},
   "source": [
    "The reason for this is how the bind operator for the `StateIO` is defined. \n",
    "```haskell\n",
    "(>>=) :: StateIO s a -> (a -> StateIO s b) -> StateIO s b\n",
    "```"
   ]
  },
  {
   "cell_type": "markdown",
   "metadata": {},
   "source": [
    "It can not take in a non `StateIO` variable variable or a function that would not return a `StateIO` variable. \n",
    "\n",
    "And the `print` function returns only `IO ()` and not `StateIO () a`, so the bind operator can not be applied to it."
   ]
  },
  {
   "cell_type": "markdown",
   "metadata": {},
   "source": [
    "The solution to this is defining a function that takes an IO action and lifts it to a `StateIO` monad."
   ]
  },
  {
   "cell_type": "code",
   "execution_count": null,
   "metadata": {},
   "outputs": [],
   "source": [
    "liftIOtoStateIO :: IO a -> StateIO s a\n",
    "liftIOtoStateIO io = StateIO $ \\st -> do x <- io\n",
    "                                         return (x, st)"
   ]
  },
  {
   "cell_type": "markdown",
   "metadata": {},
   "source": [
    "Now we can write again our code and it will compile correctly."
   ]
  },
  {
   "cell_type": "code",
   "execution_count": null,
   "metadata": {},
   "outputs": [],
   "source": [
    "myStateIO :: StateIO [Int] ()\n",
    "myStateIO = do\n",
    "    st <- get\n",
    "    liftIOtoStateIO $ print $ head st\n",
    "    return ()\n",
    "\n",
    "main :: IO ()\n",
    "main = do\n",
    "    (_, st) <- runStateIO myStateIO [1..3]\n",
    "    putStrLn \"Finished.\"\n",
    "\n",
    "main"
   ]
  },
  {
   "cell_type": "markdown",
   "metadata": {},
   "source": [
    "We created now a State monad that works in IO context and found a way how to perform IO actions inside of such a monad. \n",
    "\n",
    "Of course you could do the same and create a State monad that returns the result in a Maybe context or as a list of tuples."
   ]
  },
  {
   "cell_type": "markdown",
   "metadata": {},
   "source": [
    "Such transformations make code more practical. For this reason Haskell provides build in solutions for them."
   ]
  },
  {
   "cell_type": "markdown",
   "metadata": {},
   "source": [
    "## The MonadIO type class"
   ]
  },
  {
   "cell_type": "markdown",
   "metadata": {},
   "source": [
    "Because lifting a type wraped inside IO to another monad is very usefull, Haskell handles this with the `MonadIO` type class.\n",
    "\n",
    "It defines the `liftIO` function that generalizes the type signature of our `liftIOtoStateIO` function.\n",
    "```haskell\n",
    "class Monad m => MonadIO m where\n",
    "    liftIO :: IO a -> m a \n",
    "```"
   ]
  },
  {
   "cell_type": "markdown",
   "metadata": {},
   "source": [
    "The `MonadIO` type class is defined in the **Control.Monad.IO.Class** module which is part of the **base** package.\n",
    "\n",
    "So insted of defining a custom function for lifting we can import this module and create an instance of `MonadIO` for the `StateIO s` type."
   ]
  },
  {
   "cell_type": "code",
   "execution_count": null,
   "metadata": {},
   "outputs": [],
   "source": [
    "import Control.Monad.IO.Class\n",
    "\n",
    "instance MonadIO (StateIO s) where\n",
    "    liftIO io = StateIO $ \\st -> do x <- io\n",
    "                                    return (x, st)\n",
    "\n",
    "myStateIO :: StateIO [Int] ()\n",
    "myStateIO = do\n",
    "    st <- get\n",
    "    liftIO $ print $ head st\n",
    "    return ()"
   ]
  },
  {
   "cell_type": "markdown",
   "metadata": {},
   "source": [
    "## Monad Transformers"
   ]
  },
  {
   "cell_type": "markdown",
   "metadata": {},
   "source": [
    "Next we ask ourselfs how to generalize wrapping the result of the State monad function into a monadic context.\n",
    "\n",
    "When trying to wrap an existing monad into another monad we call the function that does this a **monad transformer**."
   ]
  },
  {
   "cell_type": "markdown",
   "metadata": {},
   "source": [
    "There are many transformers already defined in various modules. For the State monad we can use the `StateT` monad transformer. \n",
    "\n",
    "It is defined similar as the State monad type and is provided in the **Control.Monad.Trans.State.Lazy** module that comes with the **transformers** package."
   ]
  },
  {
   "cell_type": "markdown",
   "metadata": {},
   "source": [
    "```haskell\n",
    "newtype StateT s m a = StateT { runStateT :: s -> m (a,s) }\n",
    "\n",
    "instance Monad m => Monad (StateT s m) where\n",
    "    return a = StateT $ \\ s -> return (a, s)\n",
    "    m >>= k  = StateT $ \\ s -> do\n",
    "        ~(a, s') <- runStateT m s\n",
    "        runStateT (k a) s'\n",
    "```"
   ]
  },
  {
   "cell_type": "markdown",
   "metadata": {},
   "source": [
    "The `~` operator is used for ..."
   ]
  },
  {
   "cell_type": "markdown",
   "metadata": {},
   "source": [
    "When defining an Functor and Applicative instance for this type we also need to add the Monad type constraint.\n",
    "```haskell\n",
    "instance Monad m => Functor (StateT s m) where\n",
    "    fmap = liftM \n",
    "\n",
    "instance Monad m => Applicative (StateT s m) where\n",
    "    pure = return\n",
    "    (<*>) = ap\n",
    "```"
   ]
  },
  {
   "cell_type": "markdown",
   "metadata": {},
   "source": [
    "Now we can re-write the previous code example with the `StateIO` monad in this way:"
   ]
  },
  {
   "cell_type": "code",
   "execution_count": null,
   "metadata": {},
   "outputs": [],
   "source": [
    "import Control.Monad.Trans.State.Lazy\n",
    "\n"
   ]
  },
  {
   "cell_type": "markdown",
   "metadata": {},
   "source": [
    "## Recap"
   ]
  },
  {
   "cell_type": "markdown",
   "metadata": {},
   "source": [
    "In this lesson we've discussed:\n",
    "\n",
    "- the motivation for introducing Monad transformers\n",
    "\n",
    "- The MonadIO type class\n",
    "\n",
    "- Monad Transformers"
   ]
  }
 ],
 "metadata": {
  "kernelspec": {
   "display_name": "Haskell",
   "language": "haskell",
   "name": "haskell"
  },
  "language_info": {
   "codemirror_mode": "ihaskell",
   "file_extension": ".hs",
   "mimetype": "text/x-haskell",
   "name": "haskell",
   "pygments_lexer": "Haskell",
   "version": "8.10.7"
  }
 },
 "nbformat": 4,
 "nbformat_minor": 4
}
