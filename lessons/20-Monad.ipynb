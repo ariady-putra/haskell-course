{
 "cells": [
  {
   "cell_type": "markdown",
   "metadata": {},
   "source": [
    "# Monad"
   ]
  },
  {
   "cell_type": "markdown",
   "metadata": {},
   "source": [
    "## Outline\n",
    "\n",
    "* Incentive for Monad\n",
    "\n",
    "* Definition of Monad type class\n",
    "\n",
    "* Monads and do-notation\n",
    "  - Revisiting do-notation in IO\n",
    "\n",
    "  - Generalizing do-notation\n",
    "\n",
    "* Monad examples\n",
    "\n",
    "* Monad laws\n",
    "\n",
    "In this lesson, we will learn about the Monad type classe and how you can use it. We will first show what kind of basic problem does the Monad type class solve. Then we will re-visit do-notation, show again how it works and generalize it for all type that have a Monad instance. We will show how you can create a Monad of your own and explain Monad laws. "
   ]
  },
  {
   "cell_type": "markdown",
   "metadata": {},
   "source": [
    "## Incentive for Monad"
   ]
  },
  {
   "cell_type": "markdown",
   "metadata": {},
   "source": [
    "We covered until now two cases where the Functor and Applicative type class functions can help us. "
   ]
  },
  {
   "cell_type": "markdown",
   "metadata": {},
   "source": [
    "If your input data is in a `Maybe` cotext and you have the following functions:\n",
    "```haskell\n",
    "f1 :: a -> b\n",
    "f2 :: Maybe (a -> b) \n",
    "```\n",
    "then you can use the `<$>` and `<*>` operators to apply them to your data of type `Maybe a` and get data of type `Maybe b` returned. "
   ]
  },
  {
   "cell_type": "markdown",
   "metadata": {},
   "source": [
    "This works for the `Maybe` type because it has an instance of Functor and Applicative. \n",
    "\n",
    "You can also define your custom type and make it an instance of Functor and Applicative."
   ]
  },
  {
   "cell_type": "markdown",
   "metadata": {},
   "source": [
    "To describe it in a more general way: \n",
    "- we use Functors to solve the problem of mapping a function over a value inside a context\n",
    "\n",
    "- we use Applicative to solve the problem of how to apply a function that is also inside the context."
   ]
  },
  {
   "cell_type": "markdown",
   "metadata": {},
   "source": [
    "But what if we have a value with a context `m a` and a funciton that takes a value without the context and returns it back again with the context: `f :: (a -> m b)`? \n",
    "\n",
    "Let's take an example for the Maybe type that provides the context for missing values:\n",
    "```haskell\n",
    "f3 :: a -> Maybe b\n",
    "```"
   ]
  },
  {
   "cell_type": "markdown",
   "metadata": {},
   "source": [
    "Below is an example with `Map` objects. We define book codes that map to book IDs. Then we define book prices that map to book codes.\n",
    "\n",
    "We write a function that takes a book ID and returns a Maybe book prices. We use the `fromJust` and `isJust` functions from the **Data.Maybe** module."
   ]
  },
  {
   "cell_type": "code",
   "execution_count": null,
   "metadata": {},
   "outputs": [],
   "source": [
    "import Data.Maybe (fromJust, isJust)\n",
    "import qualified Data.Map as Map\n",
    "\n",
    "bookCodes :: Map.Map Int Int\n",
    "bookCodes = Map.fromList $ zip [1,2,3] [2869, 7435, 1423]\n",
    "\n",
    "bookPrices :: Map.Map Int String\n",
    "bookPrices = Map.fromList $ zip [2869, 7435, 1423] [\"15EUR\",\"20USD\",\"18JPY\"]\n",
    "\n",
    "getPriceFromID :: Int -> Maybe String\n",
    "getPriceFromID n \n",
    "    | isJust bookID = Map.lookup (fromJust bookID) bookPrices\n",
    "    | otherwise = Nothing\n",
    "    where bookID = Map.lookup n bookCodes\n",
    "\n",
    "print $ getPriceFromID 1"
   ]
  },
  {
   "cell_type": "markdown",
   "metadata": {},
   "source": [
    "As stated in the previous lessons for functor and applicative, creating a manual solution for every type that represents a context is tedious.\n",
    "\n",
    "The Monad type class provides a solution for solving the described problem above."
   ]
  },
  {
   "cell_type": "markdown",
   "metadata": {},
   "source": [
    "## Definition of the Monad type class"
   ]
  },
  {
   "cell_type": "markdown",
   "metadata": {},
   "source": [
    "The definition of Monad type class is the following:\n",
    "```haskell\n",
    "class Applicative m => Monad m where\n",
    "  (>>=) :: m a -> (a -> m b) -> m b\n",
    "  (>>) :: m a -> m b -> m b\n",
    "  return :: a -> m a\n",
    "  {-# MINIMAL (>>=) #-}\n",
    "```"
   ]
  },
  {
   "cell_type": "markdown",
   "metadata": {},
   "source": [
    "We see that Applicative is a superclass of Monad. The minimal complete definition requires just the bind operator `>>=`. "
   ]
  },
  {
   "cell_type": "markdown",
   "metadata": {},
   "source": [
    "The bind operator has exactly the type signature we were looking at in our previous example.\n",
    "\n",
    "What it does is that it extracts the value from the context applies the function to it and returns the result."
   ]
  },
  {
   "cell_type": "markdown",
   "metadata": {},
   "source": [
    "The sequncing operator `>>` takes two values in a context and returns the second one. \n",
    "\n",
    "That makes sense when your values are IO actions that have side effects. Then you can chain those actions together. "
   ]
  },
  {
   "cell_type": "markdown",
   "metadata": {},
   "source": [
    "We notice that the `return` function does the same as the `pure` function from Applicative. It puts a value inside a context.\n",
    "\n",
    "Because Applicative is a superclass of Monad you also need to define and instance for it when creating a monad instance. \n",
    "\n",
    "In the Monad instance you can then say `return = pure`. This is how the `return` function is defined in Haskell source code."
   ]
  },
  {
   "cell_type": "markdown",
   "metadata": {},
   "source": [
    "But you can also define `return` in the Monad type class and then when defining the Applicative type you say `pure = return`. \n",
    "\n",
    "The reason why the Monad type class contains `return` is because the Monad type class predates the Applicative type class."
   ]
  },
  {
   "cell_type": "markdown",
   "metadata": {},
   "source": [
    "### Simple example"
   ]
  },
  {
   "cell_type": "markdown",
   "metadata": {},
   "source": [
    "The Maybe type has also an instance of Monad type class. Let's see how we can use the bind operator to rewrite the previous code example. \n",
    "\n",
    "We will use the `flip` function that reverses the order of input parameters for a function that takes in only two parameters.\n",
    "```haskell\n",
    "flip :: (a -> b -> c) -> b -> a -> c\n",
    "```"
   ]
  },
  {
   "cell_type": "code",
   "execution_count": null,
   "metadata": {},
   "outputs": [],
   "source": [
    "getPriceFromIDBind :: Int -> Maybe String\n",
    "getPriceFromIDBind n = bookID >>= flip Map.lookup bookPrices\n",
    "    where bookID = Map.lookup n bookIDs\n",
    "\n",
    "print $ getPriceFromIDBind 1"
   ]
  },
  {
   "cell_type": "markdown",
   "metadata": {},
   "source": [
    "The reason why to use the bind operator compared to our previous approach is that it's easier to read the code because it's generic. \n",
    "\n",
    "The same symbol serves the same purpose for all Monads. And some of Haskell existing type already have a Monad instance as Maybe, IO and lists.\n",
    "\n",
    "So you get the monad operators which can work with those types for free."
   ]
  },
  {
   "cell_type": "markdown",
   "metadata": {},
   "source": [
    "In the next chapter we will show exaples how the sequencing operator and the return function work."
   ]
  },
  {
   "cell_type": "markdown",
   "metadata": {},
   "source": [
    "## Monads and do-notation"
   ]
  },
  {
   "cell_type": "markdown",
   "metadata": {},
   "source": [
    "### Revisiting do-notation in IO"
   ]
  },
  {
   "cell_type": "markdown",
   "metadata": {},
   "source": [
    "We have already explained how do-notation works on simple examples in lesson 11 that was about IO."
   ]
  },
  {
   "cell_type": "markdown",
   "metadata": {},
   "source": [
    "Let's first remember how the operators from the Monad type class work in the backgroup for do-notation in IO Monads.\n",
    "\n",
    "Below a simple program that asks a user for his name and then prints back a greeting. Both functions do the same."
   ]
  },
  {
   "cell_type": "code",
   "execution_count": null,
   "metadata": {},
   "outputs": [],
   "source": [
    "hello :: IO () \n",
    "hello = \n",
    "  print \"What is your name?\" >> \n",
    "  getLine >>= \n",
    "  (\\name -> return (\"Hello \" ++ name)) >>= \n",
    "  print\n",
    "\n",
    "hello' :: IO () \n",
    "hello' = do \n",
    "  print \"What is your name?\" \n",
    "  name <- getLine \n",
    "  print (\"Hello \" ++ name) \n",
    "\n",
    "hello"
   ]
  },
  {
   "cell_type": "markdown",
   "metadata": {},
   "source": [
    "As said in lesson 11 the `do` notation is just a syntactic sugar (a nicer way of writing the same thing) for the code that uses `>>` and `>>=` operators."
   ]
  },
  {
   "cell_type": "markdown",
   "metadata": {},
   "source": [
    "If you compare the code you see that the `<-` arrow is used to assign a variable that comes in a context to a variable without that context. \n",
    "\n",
    "In our case the `getLine` function returns an `IO String` and the variable `name` is just of type `String`. The statements are then chained together with the `>>` and `>>=` operators."
   ]
  },
  {
   "cell_type": "markdown",
   "metadata": {},
   "source": [
    "As you may remember you can also declare some variables inside a `do` block with a `let`. \n",
    "\n",
    "Below is the code that shows the `do` notation code and the desugared code that uses lambda functions and the Monad operators.\n",
    "\n",
    "The functions `monadExample` and `monadExample'` do the same thing."
   ]
  },
  {
   "cell_type": "code",
   "execution_count": null,
   "metadata": {},
   "outputs": [],
   "source": [
    "monadExample :: IO Int \n",
    "monadExample = do \n",
    "  let a = return 1 :: IO Int \n",
    "      func var = return (var + 1) :: IO Int \n",
    "  a >>= func\n",
    "\n",
    "monadExample' :: IO Int \n",
    "monadExample' = \n",
    "  (\\a -> \n",
    "    a >>= \n",
    "      (\\var -> \n",
    "        return (var + 1) :: IO Int \n",
    "      ) \n",
    "  ) (return 1 :: IO Int)\n",
    "\n",
    "main :: IO ()\n",
    "main = do\n",
    "    var1 <- monadExample\n",
    "    var2 <- monadExample'\n",
    "    print var1\n",
    "    print var2\n",
    "\n",
    "main"
   ]
  },
  {
   "cell_type": "markdown",
   "metadata": {},
   "source": [
    "The declaration of variables with the `let` operator is translated by using lambda functions in the background."
   ]
  },
  {
   "cell_type": "markdown",
   "metadata": {},
   "source": [
    "The `let` and `<-` statements are both used to assign values to variables.\n",
    "\n",
    " The diference is that the `<-` operator takes variables out of the context and stores them as a plain type. "
   ]
  },
  {
   "cell_type": "markdown",
   "metadata": {},
   "source": [
    "### Generalizing do-notation"
   ]
  },
  {
   "cell_type": "markdown",
   "metadata": {},
   "source": [
    "Because the operators `>>` and `>>=` belong to the Monad type class, do-notation can be used for any type that has an instance of it.\n",
    "\n",
    "Let's look at an example for the `Maybe` type that also had an instance of Monad."
   ]
  },
  {
   "cell_type": "code",
   "execution_count": null,
   "metadata": {},
   "outputs": [],
   "source": [
    "add1Maybe :: Num a => Maybe a -> Maybe a\n",
    "add1Maybe maybeNum = do\n",
    "    element <- maybeNum\n",
    "    return $ element + 1\n",
    "\n",
    "print $ add1Maybe $ Just 1\n",
    "print $ add1Maybe Nothing"
   ]
  },
  {
   "cell_type": "markdown",
   "metadata": {},
   "source": [
    "We see that even though we wrote `element + 1` this is handled correctly in case that `element` has the value Nothing.\n",
    "\n",
    "You can use the same concept for the list data type that has also an instance of Monad type class. "
   ]
  },
  {
   "cell_type": "code",
   "execution_count": null,
   "metadata": {},
   "outputs": [],
   "source": [
    "add1List :: Num a => [a] -> [a]\n",
    "add1List myList = do\n",
    "    element <- myList\n",
    "    return $ element + 1\n",
    "\n",
    "print $ add1List [1..3]\n",
    "print $ add1List []"
   ]
  },
  {
   "cell_type": "markdown",
   "metadata": {},
   "source": [
    "When you run the code above you see that even though you perform the (+ 1) operation on a signle element you get a list returned. \n",
    "\n",
    "This is because you can view lists also as a context where the context means there are multiple possible values for a single tpye."
   ]
  },
  {
   "cell_type": "markdown",
   "metadata": {},
   "source": [
    "Now let's generalize these two functions by using the Monad type constraint in the type signature. "
   ]
  },
  {
   "cell_type": "code",
   "execution_count": null,
   "metadata": {},
   "outputs": [],
   "source": [
    "add1Monad :: (Num a, Monad m) => m a -> m a\n",
    "add1Monad var = do\n",
    "    raw <- var\n",
    "    return $ raw + 1\n",
    "\n",
    "print $ add1Monad [1..3]\n",
    "print $ add1Monad $ Just 1"
   ]
  },
  {
   "cell_type": "markdown",
   "metadata": {},
   "source": [
    "It works now for lists, maybe and other types that have an instance of the Monad type class."
   ]
  },
  {
   "cell_type": "markdown",
   "metadata": {},
   "source": [
    "## Monad examples"
   ]
  },
  {
   "cell_type": "markdown",
   "metadata": {},
   "source": [
    "Another example of Monads is **list comprehension** which is an elegant way to create a list by specifying the element conditions inside the list. Here is a example:"
   ]
  },
  {
   "cell_type": "code",
   "execution_count": null,
   "metadata": {},
   "outputs": [],
   "source": [
    "import Control.Monad ( guard )\n",
    "\n",
    "list1 = [0 .. 9 :: Int]\n",
    "\n",
    "add1Even :: [Int] -> [Int]\n",
    "add1Even myList = do\n",
    "  n <- myList\n",
    "  let k = n + 1\n",
    "  guard(even k)\n",
    "  return k\n",
    "  \n",
    "add1Even' :: [Int] -> [Int]\n",
    "add1Even' myList = [k | n <- myList, let k = n + 1, even k] \n",
    "\n",
    "print $ add1Even list1\n",
    "print $ add1Even' list1"
   ]
  },
  {
   "cell_type": "markdown",
   "metadata": {},
   "source": [
    "The `guard` function is basically a filter that passes only values of `k` which give `True` fot the expression inside the brackets. \n",
    "\n",
    "The function `add1Even` is just a desugared version of the function `add1Even'` and they work the same. "
   ]
  },
  {
   "cell_type": "markdown",
   "metadata": {},
   "source": [
    "In the next example lets define a function that returns a list of all prime numbers.\n",
    "\n",
    "We can use now list comprehension together with recursion to define such a function."
   ]
  },
  {
   "cell_type": "code",
   "execution_count": null,
   "metadata": {},
   "outputs": [],
   "source": [
    "primeNumbers :: [Int]\n",
    "primeNumbers = filterPrime [2..]\n",
    "  where filterPrime (p:xs) =\n",
    "          p : filterPrime [x | x <- xs, x `mod` p /= 0]"
   ]
  },
  {
   "cell_type": "markdown",
   "metadata": {},
   "source": [
    "For our last example we create a parameterized type that we call `Writer`.\n",
    "```haskell\n",
    "data Writer a = Writer a String deriving Show\n",
    "```\n",
    "The parameter `a` can be for instance a numeric type as `Int` which we then use to do some computation with it. "
   ]
  },
  {
   "cell_type": "markdown",
   "metadata": {},
   "source": [
    "The idea of the Writer type is that while we do some computation to the numeric type we can log messages to the `String` parameter.\n",
    "\n",
    "We will define the Monad instance for our Writer type in a way that will enable the concatenation of log messages."
   ]
  },
  {
   "cell_type": "markdown",
   "metadata": {},
   "source": [
    "<div class=\"alert alert-block alert-info\">\n",
    "    In later lessons we will learn about some new build-in Haskell types that also have a Monad instance. One of them is the build in `Writer` type that will be a generalized version of the `Writer` type that we create in this lesson.\n",
    "</div>"
   ]
  },
  {
   "cell_type": "markdown",
   "metadata": {},
   "source": [
    "When we deine the Monad instance we also need to declare instances for Functor and Applicative type classes. \n",
    "\n",
    "This needs to be done because Applicative is a superclass of Monad and Functor is a superclass of Applicative. "
   ]
  },
  {
   "cell_type": "code",
   "execution_count": null,
   "metadata": {},
   "outputs": [],
   "source": [
    "data Writer a = Writer a String\n",
    "    deriving Show\n",
    "\n",
    "bindWriter :: Writer a -> (a -> Writer b) -> Writer b\n",
    "bindWriter (Writer a xs) f =\n",
    "  let\n",
    "    Writer b ys = f a\n",
    "  in\n",
    "    Writer b $ xs ++ ys\n",
    "\n",
    "instance Functor Writer where  \n",
    "    fmap f (Writer a xs) = Writer (f a) xs\n",
    "\n",
    "instance Applicative Writer where\n",
    "    pure a = Writer a []\n",
    "    (Writer f xs) <*> (Writer a ys) =  \n",
    "        let b = f a\n",
    "        in Writer b (xs ++ ys)\n",
    "\n",
    "instance Monad Writer where\n",
    "    return a = Writer a \"\"\n",
    "    (>>=) = bindWriter"
   ]
  },
  {
   "cell_type": "markdown",
   "metadata": {},
   "source": [
    "We can now write a function that takes in three `Writer` variables, summs the numbers together and cocatenates the messages.\n",
    "\n",
    "Also we create a `tell` function that just creates a Writer with the input message and an empty value."
   ]
  },
  {
   "cell_type": "code",
   "execution_count": null,
   "metadata": {},
   "outputs": [],
   "source": [
    "tell :: String -> Writer ()\n",
    "tell msg = Writer () msg\n",
    "\n",
    "tellAndSum :: Writer Int -> Writer Int -> Writer Int -> Writer Int\n",
    "tellAndSum x y z = do\n",
    "    tell \"Sumed numbers: \" \n",
    "    sumInts x y z\n",
    "\n",
    "sumInts :: Monad m => m Int -> m Int -> m Int -> m Int\n",
    "sumInts mx my mz = do\n",
    "    k <- mx\n",
    "    l <- my\n",
    "    m <- mz\n",
    "    let s = k + l + m\n",
    "    return s\n",
    "\n",
    "print $ tellAndSum (Writer 1 \"1 \") (Writer 2 \"2 \") (Writer 3 \"3\")"
   ]
  },
  {
   "cell_type": "markdown",
   "metadata": {},
   "source": [
    "You might ask yourself how does this code work when it concatenates the messages? You have to look at the definition of the `>>` operator which is expressed with `>>=`. \n",
    "\n",
    "If you type `:i (>>)` you will see the comment `-- Defined in ‘GHC.Base’` which means it's defined in the source code of GHC [(1)](https://github.com/ghc/ghc/blob/master/libraries/base/GHC/Base.hs). "
   ]
  },
  {
   "cell_type": "markdown",
   "metadata": {},
   "source": [
    "As we said the minimal complete definition for Monad is only `>>=` so the `>>` operator is expressed by using `>>=`. \n",
    "\n",
    "Here is the `>>` definition from the source code:\n",
    "```haskell\n",
    "(>>) :: forall a b. m a -> m b -> m b\n",
    "m >> k = m >>= \\_ -> k\n",
    "{-# INLINE (>>) #-}\n",
    "```"
   ]
  },
  {
   "cell_type": "markdown",
   "metadata": {},
   "source": [
    "In our Writer example we defined `>>=` (which represents `bindWriter`) in such a way that the message from `Writer a` gets concatenated with the message from `Writer b`. \n",
    "\n",
    "So when using the `>>` operator which actually uses the `>>=` operator, this concatenation of messages also happens:\n",
    "```haskell\n",
    "(Writer 1 \"1 \") >> (Writer 2 \"and 2\") \n",
    "-- returns Writer 2 \"1 and 2\"\n",
    "```"
   ]
  },
  {
   "cell_type": "markdown",
   "metadata": {},
   "source": [
    "## More complex examples"
   ]
  },
  {
   "cell_type": "markdown",
   "metadata": {},
   "source": [
    "As stated in the applicative lesson functions in general have also an instance of Monad type class. \n",
    "\n",
    "So you can re-write the fibonacci example using the bind operator."
   ]
  },
  {
   "cell_type": "code",
   "execution_count": null,
   "metadata": {},
   "outputs": [],
   "source": [
    "fibs = 0:1:(tail >>= zipWith (+)) fibs\n",
    "\n",
    "print $ take 5 fibs"
   ]
  },
  {
   "cell_type": "markdown",
   "metadata": {},
   "source": [
    "With the Monad operators it is possible also to express the operators for Functor and Applicative."
   ]
  },
  {
   "cell_type": "code",
   "execution_count": null,
   "metadata": {},
   "outputs": [],
   "source": [
    "fmapM :: Monad m => (a -> b) -> m a -> m b\n",
    "fmapM func val = val >>= (\\x -> return (func x))\n",
    "\n",
    "appM :: Monad m => m (a -> b) -> m a -> m b\n",
    "appM func val = func >>= (\\f -> val >>= (\\x -> return (f x)))\n",
    "\n",
    "print $ fmapM (+1) $ Just 1\n",
    "print $ appM (fmapM (+) $ Just 1) (Just 1)"
   ]
  },
  {
   "cell_type": "markdown",
   "metadata": {},
   "source": [
    "This can be done also more elegantly with use of do-notation."
   ]
  },
  {
   "cell_type": "code",
   "execution_count": null,
   "metadata": {},
   "outputs": [],
   "source": [
    "fmapM :: (Monad m) => (a -> b) -> m a -> m b\n",
    "fmapM f m1 = do \n",
    "    x1 <- m1\n",
    "    return (f x1)\n",
    "\n",
    "appM :: (Monad m) => m (a -> b) -> m a -> m b\n",
    "appM m1 m2 = do \n",
    "    f <- m1\n",
    "    x2 <- m2\n",
    "    return (f x2) \n",
    "\n",
    "print $ fmapM (+1) $ Just 1\n",
    "print $ appM (fmapM (+) $ Just 1) (Just 1)"
   ]
  },
  {
   "cell_type": "markdown",
   "metadata": {},
   "source": [
    "Because of this, once you declare a monad instance for a type as we did for our `Writer` type, the functor and applicative instances are pre-defined.\n",
    "\n",
    "In a later lesson about monad functions we well introduce the module **Control.Monad** that contains the functions `ap` and `liftM` which are defined as we defined `appM` and `fmapM`."
   ]
  },
  {
   "cell_type": "markdown",
   "metadata": {},
   "source": [
    "You still have to be careful when you define applicative and functor instances manually. Haskell does not check if they are the same as the actual definition with use of monad operators.\n",
    "\n",
    "You could define for example the applicative instance such that it does not concatenate messages. Which is different as the definition we introduced in the previous chapter. "
   ]
  },
  {
   "cell_type": "markdown",
   "metadata": {},
   "source": [
    "```haskell\n",
    "instance Applicative Writer where\n",
    "    pure a = Writer a []\n",
    "    (Writer f xs) <*> (Writer a ys) =  \n",
    "        let b = f a\n",
    "        in Writer b ys\n",
    "```"
   ]
  },
  {
   "cell_type": "markdown",
   "metadata": {},
   "source": [
    "This code would still compile but it is bad practice to define you applicative or functor instances such they work differently as the definitions with the use of monad operators."
   ]
  },
  {
   "cell_type": "markdown",
   "metadata": {},
   "source": [
    "## Monad laws"
   ]
  },
  {
   "cell_type": "markdown",
   "metadata": {},
   "source": [
    "As for Functor and Applicative also the Monad type class has also its origins in mathematics and is defined with laws."
   ]
  },
  {
   "cell_type": "markdown",
   "metadata": {},
   "source": [
    "Monad has 3 laws. They are as follows:\n",
    "\n",
    "- Identity (left):<br>`return a >>= f = f a`\n",
    "\n",
    "- Identity (right):<br>`m >>= return = m`\n",
    "\n",
    "- Associativity:<br>`(a >>= b) >>= c = a >>= (\\x -> b x >>= c)`"
   ]
  },
  {
   "cell_type": "markdown",
   "metadata": {},
   "source": [
    "The left identity law ensures that the bind operator `>>=` does nothing else as just take the input argument out of the context and apply the function to it.\n",
    "\n",
    "The right identity law ensures that when using the return function it should not change anything except put the data back into context.\n",
    "\n",
    "The associativity law ensures that the way we group the monadic actions doesn’t matter because `>>=` ensures that they’ll be evaluated in a consistent order."
   ]
  },
  {
   "cell_type": "markdown",
   "metadata": {},
   "source": [
    "Below is example code that proves these laws hold for the Maybe type which has an instance of Monad."
   ]
  },
  {
   "cell_type": "code",
   "execution_count": null,
   "metadata": {},
   "outputs": [],
   "source": [
    "-- Left identity law\n",
    "((return 1 :: Maybe Int) >>= (\\x -> return (x + 1) :: Maybe Int)) == (\\x -> return (x + 1) :: Maybe Int) 1\n",
    "\n",
    "-- Right identity law\n",
    "((Just 1) >>= return) == Just 1\n",
    "\n",
    "-- Associativity law\n",
    "var1 :: Maybe Int\n",
    "var1 = Just 1\n",
    "\n",
    "add1, mult2 :: Int -> Maybe Int\n",
    "add1 x = return (x + 1)\n",
    "mult2 x = return (2 * x)\n",
    "\n",
    "((var1 >>= add1) >>= mult2) == (var1 >>= (\\x -> add1 x >>= mult2))"
   ]
  },
  {
   "cell_type": "markdown",
   "metadata": {},
   "source": [
    "Let's look now at an example where we create a type and an monad instance for it that violates these laws."
   ]
  },
  {
   "cell_type": "code",
   "execution_count": null,
   "metadata": {},
   "outputs": [],
   "source": [
    "import Control.Monad (ap, liftM)\n",
    "\n",
    "data NotOk a = NotOk a Bool deriving (Eq, Show)\n",
    "\n",
    "bindNotOk :: NotOk a -> (a -> NotOk b) -> NotOk b\n",
    "bindNotOk (NotOk a myBool) f =\n",
    "  let\n",
    "    NotOk b myBool' = f a\n",
    "  in\n",
    "    NotOk b $ not myBool\n",
    "\n",
    "instance Functor NotOk where\n",
    "    fmap = liftM\n",
    "\n",
    "instance Applicative NotOk where\n",
    "    pure = return\n",
    "    (<*>) = ap\n",
    "\n",
    "instance Monad NotOk where\n",
    "  (>>=) = bindNotOk\n",
    "  return a = NotOk a True\n",
    "\n",
    "var1 :: NotOk Int\n",
    "var1 = NotOk 1 True\n",
    "\n",
    "add1, mult2 :: Int -> NotOk Int\n",
    "add1 x = NotOk (x + 1) True\n",
    "mult2 x = NotOk (2 * x) True\n",
    "\n",
    "print $ ((return 1 :: NotOk Int) >>= add1) == add1 1\n",
    "print $ (var1 >>= return) == var1\n",
    "print $ ((var1 >>= add1) >>= mult2) == (var1 >>= (\\x -> add1 x >>= mult2))"
   ]
  },
  {
   "cell_type": "markdown",
   "metadata": {},
   "source": [
    "Same as for Functor and Applicative it is not obligatory to follow these laws in Haskell if you create a type and make an instance of Monad for it.\n",
    "\n",
    "It is still good practice to follow them because:\n",
    "- you can better reason about what your code is doing\n",
    "\n",
    "- you can make use of other functions that work with the Monad type class"
   ]
  },
  {
   "cell_type": "markdown",
   "metadata": {},
   "source": [
    "## Recap"
   ]
  },
  {
   "cell_type": "markdown",
   "metadata": {},
   "source": [
    "In this lesson we've discussed:\n",
    "\n",
    "- the motivation for introducing the Monad type \n",
    "\n",
    "- definition of the Monad type class\n",
    "\n",
    "- the Monad operators and do-notation\n",
    "\n",
    "- examples that show how to use the Monad type class\n",
    "\n",
    "- laws that apply to the Monad type class"
   ]
  }
 ],
 "metadata": {
  "kernelspec": {
   "display_name": "Haskell",
   "language": "haskell",
   "name": "haskell"
  },
  "language_info": {
   "codemirror_mode": "ihaskell",
   "file_extension": ".hs",
   "mimetype": "text/x-haskell",
   "name": "haskell",
   "pygments_lexer": "Haskell",
   "version": "8.10.7"
  }
 },
 "nbformat": 4,
 "nbformat_minor": 4
}
