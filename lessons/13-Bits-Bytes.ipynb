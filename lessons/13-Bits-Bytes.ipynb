{
 "cells": [
  {
   "cell_type": "markdown",
   "id": "f8e0a496-df69-4ef8-b9c1-22c3cba2ca71",
   "metadata": {
    "tags": []
   },
   "source": [
    "# Bits and Bytes"
   ]
  },
  {
   "cell_type": "markdown",
   "id": "3a62640e-4a5d-4be4-9857-c02fc12936bb",
   "metadata": {
    "tags": []
   },
   "source": [
    "## Outline\n",
    "\n",
    "* Grouping bits and bytes\n",
    "\n",
    "* Haskell and bytes\n",
    "\n",
    "* Lazy byte strings\n",
    "\n",
    "* Example\n",
    "\n",
    "In this lesson we will highlight a fundamental type that is frequently used in Haskell, the Byte String type. \n",
    "\n",
    "The lesson will have the above structure and will work towards an example on why we like to use byte strings."
   ]
  },
  {
   "cell_type": "markdown",
   "id": "c930a7a3",
   "metadata": {},
   "source": [
    "## Grouping bits and bytes"
   ]
  },
  {
   "cell_type": "markdown",
   "id": "548ee5a7-09c2-4c62-92a5-d0a7f5b08719",
   "metadata": {},
   "source": [
    "At its core computers only handle the binary object 1 and 0. This unit is also known as a **bit**. \n",
    "\n",
    "To make sense of these bits and extract meaningful context from them, different kinds of grouping have been made over the years to represent structure. \n",
    "\n",
    "For an extensive list see [(1)](https://en.wikipedia.org/wiki/Binary-to-text_encoding). On the top of the list you will find the very popular ASCII grouping."
   ]
  },
  {
   "cell_type": "markdown",
   "id": "a4aec7e6",
   "metadata": {},
   "source": [
    "These groupings are called **encodings** and map the grouping of bits to a more meaningful/readable form. \n",
    "\n",
    "Another advantage of this mapping is that the length of a list of bits can be reduced significantly to be readable. Below we will look at two of them."
   ]
  },
  {
   "cell_type": "markdown",
   "id": "5c7b083e",
   "metadata": {},
   "source": [
    "One useful binary conversion is the hexadecimal encoding of bits, also abbreviated to hex. This changes the number of symbols from base 2 (binary) to base 16. \n",
    "\n",
    "So, the conversion will group 4 bits together to one symbol. Each symbol in the hex system thus has 16 possibilities, these are in the range of 0-9 and A - F. "
   ]
  },
  {
   "cell_type": "markdown",
   "id": "0123e333",
   "metadata": {},
   "source": [
    "This results in the conversion table. \n",
    "\n",
    "| Binary | Hex | Binary| Hex |  \n",
    "|--------|---|--------| - |\n",
    "| `0000` | 0 | `1000` | 8 |\n",
    "| `0001` | 1 | `1001` | 9 |\n",
    "| `0010` | 2 | `1010` | A |\n",
    "| `0011` | 3 | `1011` | B |\n",
    "| `0100` | 4 | `1100` | C | \n",
    "| `0101` | 5 | `1101` | D |\n",
    "| `0110` | 6 | `1110` | E |\n",
    "| `0111` | 7 | `1111` | F |"
   ]
  },
  {
   "cell_type": "markdown",
   "id": "5833e6e3-8b3e-4da6-9be5-6f03cd0890e3",
   "metadata": {},
   "source": [
    "In its turn, the hexadecimal encoded bits often get grouped together in pairs to represent 8 bits. The grouping of 8 bits is also called a **byte** and is more commonly used than bits. \n",
    "\n",
    "The result is that the range of these two grouped hex symbols are between `00000000` and `11111111` in binary. In total, these represent the decimal number from 0 to 255. "
   ]
  },
  {
   "cell_type": "markdown",
   "id": "4e6770b6",
   "metadata": {},
   "source": [
    "Below is an example how to use hex and binary from the decimal system. We can use it to check the table above."
   ]
  },
  {
   "cell_type": "code",
   "execution_count": null,
   "id": "3ff27de0-fee4-4c06-a93d-ba6ea9dab90f",
   "metadata": {},
   "outputs": [],
   "source": [
    "import Numeric (showHex, showIntAtBase)\n",
    "import Data.Char (intToDigit)\n",
    "\n",
    "printHex n = Prelude.putStrLn $ showHex n \"\"\n",
    "printBaseTwo n = Prelude.putStrLn $ showIntAtBase 2 intToDigit n \"\" \n",
    "\n",
    "printHex 10 \n",
    "printBaseTwo 10"
   ]
  },
  {
   "cell_type": "markdown",
   "id": "e6b90487-3d2b-4dcb-baef-2bfbec406b86",
   "metadata": {},
   "source": [
    "Another important encoding that connects computer bits with text and is widely used, is the 8-bit Unicode Transformation Format (UTF-8). \n",
    "\n",
    "This standard represents Unicode characters in 1 to 4 bytes, depending on the character."
   ]
  },
  {
   "cell_type": "markdown",
   "id": "a86eb840",
   "metadata": {},
   "source": [
    "The reason why this encoding uses a variable length of bytes to represent its characters, is because not every character is used that often. \n",
    "\n",
    "To optimize for data transmissions times and storage space, only the most used characters are represented with one byte. \n",
    "\n",
    "The next most used characters are then represented with 2 bytes etc."
   ]
  },
  {
   "cell_type": "markdown",
   "id": "5a18ab69",
   "metadata": {},
   "source": [
    "## Haskell bytes and encodings"
   ]
  },
  {
   "cell_type": "markdown",
   "id": "34139067",
   "metadata": {},
   "source": [
    "### Bytestring in Haskell"
   ]
  },
  {
   "cell_type": "markdown",
   "id": "92cb7a7d-c936-4937-93c6-e05e2f65ef6a",
   "metadata": {},
   "source": [
    "In Haskell, we have several types that capture the encoding of characters and their representation as bytes. We will introduce a few below that are of importance. \n",
    "\n",
    "We start with the lowest structure that has no encoding, the type `ByteString`. This is a list of bytes that, given context, can be viewed as multiple things. "
   ]
  },
  {
   "cell_type": "markdown",
   "id": "bbf7dae0",
   "metadata": {},
   "source": [
    "We will look at two common ways: \n",
    "\n",
    "|a ByteString as  |info|\n",
    "|---|----|\n",
    "| a list of type `Word8`| This type is the standard way of representing a byte in Haskell. It offers no extra structure to the byte string.|\n",
    "| a list of type `Char` | This type tries to decode the list of bytes as 1 byte Unicode character.\n",
    "\n",
    "These type of bytestrings are strict by default."
   ]
  },
  {
   "cell_type": "markdown",
   "id": "91395186",
   "metadata": {},
   "source": [
    "To convert a string to a byte string and back, we can use the functions `pack` and `unpack` in the `Data.ByteString` module. \n",
    "```haskell\n",
    "pack :: [GHC.Word.Word8] -> ByteString\n",
    "unpack :: ByteString -> [GHC.Word.Word8]\n",
    "```"
   ]
  },
  {
   "cell_type": "markdown",
   "id": "530e0ea5",
   "metadata": {},
   "source": [
    "If we would like to convert to and from `[Char]` type we need to use the **Data.ByteString.Char8** module.\n",
    "\n",
    "As an example, consider the two ways of representing a byte string below and how they are printed to standard output. "
   ]
  },
  {
   "cell_type": "code",
   "execution_count": null,
   "id": "9c205566-6bd4-4e99-83bf-ee1da177534c",
   "metadata": {},
   "outputs": [],
   "source": [
    "import qualified Data.ByteString as BS\n",
    "import qualified Data.ByteString.Char8 as BC\n",
    "import GHC.Word (Word8)\n",
    "\n",
    "bytestring :: BC.ByteString\n",
    "bytestring = BC.pack \"Hello world\"\n",
    "\n",
    "asBytes :: [Word8]\n",
    "asBytes = BS.unpack bytestring\n",
    "asChars :: [Char]\n",
    "asChars = BC.unpack bytestring\n",
    "\n",
    "print asBytes\n",
    "print asChars"
   ]
  },
  {
   "cell_type": "markdown",
   "id": "7501e7d5",
   "metadata": {},
   "source": [
    "First, we convert a string to a byte string using the `pack` function. Then we `unpack` this byte string as a list of bytes and as a list of characters with `unpack` functions. \n",
    "\n",
    "Lastly, we print the object of these lists to the output. We do a qualified imported of both modules because both contain clashing named functions, like the two `unpack` functions used. "
   ]
  },
  {
   "cell_type": "markdown",
   "id": "2ae3ed4e",
   "metadata": {},
   "source": [
    "If you would add in the beginning of the code the language pragma `{-# LANGUAGE OverloadedStrings #-}` then you could define the bytestring variable without the `pack` function."
   ]
  },
  {
   "cell_type": "code",
   "execution_count": null,
   "id": "968f21b0",
   "metadata": {},
   "outputs": [],
   "source": [
    "{-# LANGUAGE OverloadedStrings #-}\n",
    "\n",
    "bytestring :: BC.ByteString\n",
    "bytestring = \"Hello world\""
   ]
  },
  {
   "cell_type": "markdown",
   "id": "53e8b9e2",
   "metadata": {},
   "source": [
    "### Data.Text module"
   ]
  },
  {
   "cell_type": "markdown",
   "id": "56ad8d0e",
   "metadata": {},
   "source": [
    "There is another type for representing strings in Haskell that is called `Text`. It is part of the **Data.Text** module.\n",
    "\n",
    "In contrast to the type `String`, the `Text` type is implemented as an array internaly in Haskell, which makes it more efficient."
   ]
  },
  {
   "cell_type": "markdown",
   "id": "4c1251c1",
   "metadata": {},
   "source": [
    "`Text` also uses strict evaluation by default. If you want a lazy version you can use the **Data.Text.Lazy** module.\n",
    "\n",
    "This type contains similar as the Bystring type the `pack` and `upack` helper functions for conversion with the `String` type.\n",
    "```haskell\n",
    "pack :: String -> T.Text\n",
    "unpack :: T.Text -> String\n",
    "```"
   ]
  },
  {
   "cell_type": "markdown",
   "id": "41b71276",
   "metadata": {},
   "source": [
    "Same as for `Bytestring` you can add the *OverloadedStrings* language pragma to your code and then define Text type variables without the `pack` function."
   ]
  },
  {
   "cell_type": "code",
   "execution_count": null,
   "id": "5b7e8da7",
   "metadata": {},
   "outputs": [],
   "source": [
    "{-# LANGUAGE OverloadedStrings #-}\n",
    "import qualified Data.Text as T\n",
    "\n",
    "text :: T.Text\n",
    "text = \"Some text\"\n",
    "\n",
    "string :: String\n",
    "string = T.unpack text"
   ]
  },
  {
   "cell_type": "markdown",
   "id": "34e8dd8f",
   "metadata": {},
   "source": [
    "The **Data.Text** module has many equivalent functions that are contained in Prelude for processing `String` type variables.\n",
    "\n",
    "Among them are `words`, `lines`, `splitOn` and `intercalate`."
   ]
  },
  {
   "cell_type": "markdown",
   "id": "2a4479c5",
   "metadata": {},
   "source": [
    "The `Text` type can also easily handle any Unicode characters. To be able to print `Text` type variables you need to import the **Data.Text.IO** module."
   ]
  },
  {
   "cell_type": "code",
   "execution_count": null,
   "id": "4d213077",
   "metadata": {},
   "outputs": [],
   "source": [
    "import qualified Data.Text.IO as TIO\n",
    "\n",
    "thaiText :: T.Text\n",
    "thaiText = \"ประเทศไทย มีชื่ออย่างเป็นทางการว่า ราชอาณาจักรไทย\"\n",
    "\n",
    "TIO.putStrLn thaiText"
   ]
  },
  {
   "cell_type": "markdown",
   "id": "6b5e721c",
   "metadata": {},
   "source": [
    "### Text encoding"
   ]
  },
  {
   "cell_type": "markdown",
   "id": "227cc041",
   "metadata": {},
   "source": [
    "If you want safely conver back and forth between the `Text` and `Bytestring` type you need to use the **Data.Text.Encoding** module.\n",
    "\n",
    "It contains two useful functions for conversion of `Bytestring` from the the **Data.ByteString.Char8** module.\n",
    "```haskell\n",
    "encodeUtf8 :: T.Text -> BC.ByteString\n",
    "decodeUtf8 :: BC.ByteString -> T.Text\n",
    "```"
   ]
  },
  {
   "cell_type": "code",
   "execution_count": null,
   "id": "d256183b",
   "metadata": {},
   "outputs": [],
   "source": [
    "import qualified Data.Text.Encoding as TE\n",
    "\n",
    "thaiTextSafe :: BC.ByteString\n",
    "thaiTextSafe = TE.encodeUtf8 thaiText\n",
    "\n",
    "TIO.putStrLn (TE.decodeUtf8 thaiTextSafe)"
   ]
  },
  {
   "cell_type": "markdown",
   "id": "e0d7383c-8498-49e2-966e-0659cfdb79f2",
   "metadata": {},
   "source": [
    "Interpreting each byte of a byte string as an `Char` means that not all possible Unicode encoded text in a byte string is correctly interpreted. \n",
    "\n",
    "We mentioned that Unicode can encode characters in up to 4 bytes, so characters with two bytes or more will not be correctly displayed this way. "
   ]
  },
  {
   "cell_type": "markdown",
   "id": "8f2d89a4",
   "metadata": {},
   "source": [
    "To highlight this, we encode the character \"ǿ\", which is encoded into the two bytes `[199,191]`. \n",
    "\n",
    "We use the `Data.Text.Encoding` module for a more general way of Unicode encoding. This module implements the general encoding of Unicode in Haskell."
   ]
  },
  {
   "cell_type": "code",
   "execution_count": null,
   "id": "d76a939b-f31c-4ec7-9560-5195d0511597",
   "metadata": {},
   "outputs": [],
   "source": [
    "import qualified Data.Text as T\n",
    "import qualified Data.Text.Encoding as TE\n",
    "import qualified Data.ByteString.Char8 as BC\n",
    "import qualified Data.ByteString as BS\n",
    "\n",
    "-- Wroking with BS.Bystring gives us Unicode numbers\n",
    "bytestring :: BS.ByteString\n",
    "bytestring = TE.encodeUtf8 $ T.pack \"ǿ\"\n",
    "\n",
    "print $ BS.unpack bytestring -- prints both bytes\n",
    "(print . BS.unpack . BS.singleton . BS.head) bytestring -- prints only first byte\n",
    "\n",
    "-- Wroking with BC.Bystring gives us actual characters\n",
    "bytestringChar :: BC.ByteString\n",
    "bytestringChar = TE.encodeUtf8 $ T.pack \"ǿ\"\n",
    "\n",
    "putStrLn $ BC.unpack bytestringChar -- prints characters for both bytes\n",
    "(putStrLn . BC.unpack . BC.singleton . BC.head) bytestringChar -- prints character for first byte"
   ]
  },
  {
   "cell_type": "markdown",
   "id": "3e1c623e-5aba-43ab-a927-842d4632383b",
   "metadata": {},
   "source": [
    "The \"ǿ\" character had to be packed with the **Data.Text** module in order to use the `encodeUtf8` function on it.\n",
    "\n",
    "Here the function `Text.pack` converts the string into the type `Text` and the function `encodeUtf8` correctly converts this into the corresponding `ByteString`.\n",
    "\n",
    "We see we can convert it to a `BS.ByteString` or a `BC.ByteString`. The difference is that when printing `BS.ByteString` we seen only Unicode numbers."
   ]
  },
  {
   "cell_type": "markdown",
   "id": "abe258d2",
   "metadata": {},
   "source": [
    "When we try to view the bytestrings as a list of types `Char`, we see that it prints two characters which corespond to the two Unicode numbers. \n",
    "\n",
    "So as a conclusion, most common characters are only encoded by one byte in Unicode, here the `Data.ByteString.Char8` module suffices. \n",
    "\n",
    "But if more characters are involved, consider using the `Data.Text` and `Data.Text.Encoding` module."
   ]
  },
  {
   "cell_type": "markdown",
   "id": "085a4905",
   "metadata": {},
   "source": [
    "## Lazy byte strings"
   ]
  },
  {
   "cell_type": "markdown",
   "id": "33e3f7ff-4890-49d4-aba8-978596b03ea4",
   "metadata": {},
   "source": [
    "Besides the module `Data.ByteStrings` Haskell also has a lazy variant of byte strings. \n",
    "\n",
    "These kinds of byte strings work the same, but have the advantage that they are only evaluated if they are used."
   ]
  },
  {
   "cell_type": "markdown",
   "id": "3a36fc6c",
   "metadata": {},
   "source": [
    "This is especially useful when processing large amounts of data that does not need to be read into memory all at once. \n",
    "\n",
    "The module that contains these lazy byte strings is `Data.ByteString.Lazy`. It is used similarly as strict bytestring."
   ]
  },
  {
   "cell_type": "code",
   "execution_count": null,
   "id": "f4a2de62-9a17-40f2-87cb-38ffbaa195f3",
   "metadata": {},
   "outputs": [],
   "source": [
    "import qualified Data.ByteString.Lazy as BL\n",
    "import qualified Data.ByteString.Lazy.Char8 as BLC\n",
    "import qualified GHC.Word\n",
    "\n",
    "bytestring :: BLC.ByteString\n",
    "bytestring = BLC.pack \"Hello world\"\n",
    "\n",
    "asBytes :: [GHC.Word.Word8]\n",
    "asBytes = BL.unpack bytestring\n",
    "\n",
    "asChars :: [Char]\n",
    "asChars = BLC.unpack bytestring \n",
    "\n",
    "print $ Prelude.head asBytes\n",
    "print $ Prelude.head asChars"
   ]
  },
  {
   "cell_type": "markdown",
   "id": "9dc79265-8677-4053-b31a-229335b47703",
   "metadata": {},
   "source": [
    "Haskell also lets you switch between lazy and strict byte strings."
   ]
  },
  {
   "cell_type": "code",
   "execution_count": null,
   "id": "aa364fea-f4d9-4239-b218-1bf093112380",
   "metadata": {},
   "outputs": [],
   "source": [
    "import qualified Data.ByteString as BS\n",
    "import qualified Data.ByteString.Char8 as BC\n",
    "\n",
    "import qualified Data.ByteString.Lazy as BL\n",
    "import qualified Data.ByteString.Lazy.Char8 as BLC\n",
    "\n",
    "lazyByteString :: BLC.ByteString\n",
    "lazyByteString = BLC.pack \"Hello world\"\n",
    "\n",
    "strictByteString :: BC.ByteString\n",
    "strictByteString = BL.toStrict lazyByteString\n",
    "\n",
    "lazyByteStringAgain :: BLC.ByteString\n",
    "lazyByteStringAgain = BL.fromStrict strictByteString\n",
    "\n",
    "BC.putStrLn strictByteString\n",
    "BLC.putStrLn lazyByteStringAgain"
   ]
  },
  {
   "cell_type": "markdown",
   "id": "055d5f1e-cce8-4681-b9db-c9a540bf98b3",
   "metadata": {},
   "source": [
    "Here, we first create a lazy byte string with encoded text `Hello world`. \n",
    "\n",
    "Then we convert this lazy byte string to a strictly evaluated byte string using the function `toStrict` from the lazy module. \n",
    "\n",
    "Lastly, we convert that strict byte string back again to a lazy byte string."
   ]
  },
  {
   "cell_type": "markdown",
   "id": "e7c63fc9",
   "metadata": {},
   "source": [
    "## Example"
   ]
  },
  {
   "cell_type": "markdown",
   "id": "a40d6e84-98c8-4ee0-a8a5-fef3cf063d4f",
   "metadata": {},
   "source": [
    "In this section will compare the use of byte strings opposed to strings and their impact on computational time. \n",
    "\n",
    "We time the calculations by fetching the CPU time before and after the computation is performed."
   ]
  },
  {
   "cell_type": "markdown",
   "id": "7227e0d8",
   "metadata": {},
   "source": [
    "This is captured in the `time` function that can time a general IO action. \n",
    "\n",
    "To highlight the performance gain if byte strings are used, we will make use of a sizable file (16 MB).\n",
    "\n",
    "It is available if you run this notebook in a binder with the Haskell kernel enabled."
   ]
  },
  {
   "cell_type": "markdown",
   "id": "4f847bac",
   "metadata": {},
   "source": [
    "This file will be read as a string and as a byte string, then the last line of the file will be printed. \n",
    "\n",
    "First, we will read it as a string with the function `readFile :: FilePath -> IO String`,"
   ]
  },
  {
   "cell_type": "code",
   "execution_count": null,
   "id": "700c4206-b157-4739-893c-40e715bce61f",
   "metadata": {},
   "outputs": [],
   "source": [
    "import System.IO \n",
    "import System.CPUTime\n",
    "import Text.Printf \n",
    "\n",
    "time :: IO t -> IO t\n",
    "time a = do\n",
    "    start <- getCPUTime\n",
    "    v <- a\n",
    "    end   <- getCPUTime\n",
    "    let diff = fromIntegral (end - start) / (10^12)\n",
    "    printf \"Computation time: %0.3f sec\\n\" (diff :: Double)\n",
    "    return v\n",
    "\n",
    "main :: IO ()\n",
    "main = do\n",
    "    fileContent <- readFile \"/home/jovyan/ihaskell_examples/ihaskell-hvega/hvega-frames-and-gaia.ipynb\" \n",
    "    (putStrLn . Prelude.last . Prelude.lines) fileContent\n",
    "    \n",
    "time main"
   ]
  },
  {
   "cell_type": "markdown",
   "id": "b2f65d21-d8ee-48e3-98c8-ecc79a610034",
   "metadata": {},
   "source": [
    "Now we will read the same file, but as a byte string with `BS.readFile :: FilePath -> IO ByteString`. We will see an big improvement in the calculated time. "
   ]
  },
  {
   "cell_type": "code",
   "execution_count": null,
   "id": "46fa0058-0bc3-47fc-afe5-2fc0e7bb1138",
   "metadata": {},
   "outputs": [],
   "source": [
    "import qualified Data.ByteString as BS      \n",
    "import qualified Data.ByteString.Char8 as BC  \n",
    "\n",
    "main :: IO ()\n",
    "main = do\n",
    "    fileContent <- BS.readFile \"/home/jovyan/ihaskell_examples/ihaskell-hvega/hvega-frames-and-gaia.ipynb\" \n",
    "    (BC.putStr . Prelude.last . BC.lines) fileContent\n",
    "\n",
    "time main"
   ]
  },
  {
   "cell_type": "markdown",
   "id": "2b907651",
   "metadata": {},
   "source": [
    "## Recap"
   ]
  },
  {
   "cell_type": "markdown",
   "metadata": {},
   "source": [
    "In this lesson, we have discussed:\n",
    "- various bit and byte encodings\n",
    "\n",
    "- Haskell representations of bits and bytes\n",
    "\n",
    "- the Text type and text encodings\n",
    "\n",
    "- the lazy bystring type\n",
    "\n",
    "- example which shows performance benifits"
   ]
  }
 ],
 "metadata": {
  "kernelspec": {
   "display_name": "Haskell",
   "language": "haskell",
   "name": "haskell"
  },
  "language_info": {
   "codemirror_mode": "ihaskell",
   "file_extension": ".hs",
   "mimetype": "text/x-haskell",
   "name": "haskell",
   "pygments_lexer": "Haskell",
   "version": "8.10.7"
  }
 },
 "nbformat": 4,
 "nbformat_minor": 5
}
