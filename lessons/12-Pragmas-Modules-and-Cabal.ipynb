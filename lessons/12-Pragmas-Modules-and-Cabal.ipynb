{
 "cells": [
  {
   "cell_type": "markdown",
   "metadata": {},
   "source": [
    "# Modules, pragmas and cabal"
   ]
  },
  {
   "cell_type": "markdown",
   "metadata": {},
   "source": [
    "## Outline\n",
    "\n",
    "* Modules\n",
    "  - Prelude module\n",
    "\n",
    "  - Working with base modules \n",
    "\n",
    "  - Creating our own modules\n",
    "\n",
    "  - Compiling Haskell programs\n",
    "\n",
    "* Language pragmas\n",
    "\n",
    "* Using Cabal\n",
    "  - Installation of packages with cabal\n",
    "  \n",
    "  - Building a project with cabal"
   ]
  },
  {
   "cell_type": "markdown",
   "metadata": {},
   "source": [
    "In this lesson, we will learn how you can work with Haskell modules, pragmas and Cabal. These are the tools necessary to build a full-fledged Haskell application so that we can finally build a complete project. We will see that modules will allow us to manage code better and let us reuse code that others have built! Pragmas will let us tweak the behavior of Haskell and how it should work. Lastly, Cabal will help us manage a complete project and all its possible dependencies!"
   ]
  },
  {
   "cell_type": "markdown",
   "metadata": {},
   "source": [
    "## Modules\n",
    "\n",
    "**What are they?**"
   ]
  },
  {
   "cell_type": "markdown",
   "metadata": {},
   "source": [
    "In any programming language, the code that we write can get quite complex. In these case, we need ways to manage our code, in Haskell we do this with modules."
   ]
  },
  {
   "cell_type": "markdown",
   "metadata": {},
   "source": [
    "At its core, a Haskell module is just a collection of functions, types and type classes defined in a file that can be imported and used in other Haskell files."
   ]
  },
  {
   "cell_type": "markdown",
   "metadata": {},
   "source": [
    "As an example, in the design of a card game program, it is good practice to strictly separate the code that defines the game logic and the code that renders the game. In Haskell, this is achieved with making a module for each of these two functionalities."
   ]
  },
  {
   "cell_type": "markdown",
   "metadata": {},
   "source": [
    "The logic module of this game might contain types of the cards and function that define a valid card action. This, while the module that renders the game contains functions and types that capture the state and the transition of a game."
   ]
  },
  {
   "cell_type": "markdown",
   "metadata": {},
   "source": [
    "Here the two modules working together create the application, and by separating the code we also gain improved readability and the prevention of spaghetti code!"
   ]
  },
  {
   "cell_type": "markdown",
   "metadata": {},
   "source": [
    "This separation of the two also allows code to be reused. If we later want to make another dice game, we could reuse the module that renders the game, saving use a precious time."
   ]
  },
  {
   "cell_type": "markdown",
   "metadata": {},
   "source": [
    "<div class=\"alert alert-block alert-info\">\n",
    "    Notice that the reuse and compossibility of modules is aligned with the virtues of the functional programming paradigm! Similar to functions, modules are also piecewise defined. Moreover, as with function, modules allow us to hide complexity and only expose the user of the module with the necessary types and functions. This means that helper functions that are necessary for the functionality of the module, but not the usage, can be hidden!\n",
    "</div>"
   ]
  },
  {
   "cell_type": "markdown",
   "metadata": {},
   "source": [
    "**How to use them?**\n",
    "\n",
    "Actually, you already know how to use modules! In some of the previous lessons, we secretly have been using them already."
   ]
  },
  {
   "cell_type": "markdown",
   "metadata": {},
   "source": [
    "For example, in the previous lesson, we import the function `listDirectory` from the module `System.Directory` via the line\n",
    "```haskell\n",
    "import System.Directory (listDirectory)\n",
    "```"
   ]
  },
  {
   "cell_type": "markdown",
   "metadata": {},
   "source": [
    "Here, the dot separates the module `Directory` as a submodule from the parent module `System`. The `System` module exposes more submodules, for example `System.FilePath`. This naming convention with dots organizes and categorizes modules so that they are easier to find.\n",
    "\n",
    "If we deconstruct this line, we see that it consists of 3 parts. \n",
    "\n",
    "- The first is the syntax `import` that declares that an import will follow.\n",
    "- Next is the specific module by its name `System.Directory`.\n",
    "- And lastly, we specify that we only want to import the function `listDirectory` from this module in brackets."
   ]
  },
  {
   "cell_type": "markdown",
   "metadata": {},
   "source": [
    "But this is not everything you can do. Instead of only importing that function, we could have import every function and type it exposes by omitting the brackets and its content completely"
   ]
  },
  {
   "cell_type": "markdown",
   "metadata": {},
   "source": [
    "Besides these three markers for import, there are two more. The first extra thing we can add to an `import` is qualifying the import. This means that the usage of that import and its imported function and types can exclusively be used by specifically mentioning the import at usage. This is especially handy if modules export function that have the same name! Then the compiler may need some help to decide which function from which module it needs. For example,"
   ]
  },
  {
   "cell_type": "markdown",
   "metadata": {},
   "source": [
    "```haskell\n",
    "import qualified System.Directory (listDirectory)\n",
    "\n",
    "getFiles :: IO [FilePath]\n",
    "getFiles = System.Directory.listDirectory \".\" \n",
    "```"
   ]
  },
  {
   "cell_type": "markdown",
   "metadata": {},
   "source": [
    "Now, some modules may have a long name or are embedded as multiple submodules (for example `System.Posix.Directory`). To make things easier while coding, we can import these modules and rename them. For example,"
   ]
  },
  {
   "cell_type": "markdown",
   "metadata": {},
   "source": [
    "```haskell\n",
    "import qualified System.Directory (listDirectory) as SysDir\n",
    "\n",
    "getFiles :: IO [FilePath]\n",
    "getFiles = SysDir.listDirectory \".\" \n",
    "```"
   ]
  },
  {
   "cell_type": "markdown",
   "metadata": {},
   "source": [
    "<div class=\"alert alert-block alert-warning\">\n",
    "    Notice that module names are capitalized, if you are renaming them, this new name has to be capitalized as well!\n",
    "</div>"
   ]
  },
  {
   "cell_type": "markdown",
   "metadata": {},
   "source": [
    "To reiterate, modules are just Haskell files. To indicate this, a `.hs` file has a module definition statement at the beginning of the file, followed by some Haskell code. For example, a Haskell file might start with the line\n",
    "\n",
    "```haskell\n",
    "module Tree where\n",
    "\n",
    "-- the rest of the haskell code here\n",
    "```"
   ]
  },
  {
   "cell_type": "markdown",
   "metadata": {},
   "source": [
    "If we dissect this line of code, it consists again of three things\n",
    "\n",
    "- The first is the syntax `module` that declares that this is a module.\n",
    "- Next is the specific name that this module will use.\n",
    "- And lastly, we end the module declaration with a `where` that indicates that the rest that follows is code of the module"
   ]
  },
  {
   "cell_type": "markdown",
   "metadata": {},
   "source": [
    "It is also good practice to name the Haskell file after the name of the module. "
   ]
  },
  {
   "cell_type": "markdown",
   "metadata": {},
   "source": [
    "This module can now be imported into other Haskell files. If done so, all the code from the module `Tree` becomes available to the other Haskell file. \n",
    "\n",
    "This is because currently the above module declaration does not specify its exports, so by default it exposes all its code. "
   ]
  },
  {
   "cell_type": "markdown",
   "metadata": {},
   "source": [
    "In case you want to restrict access to some functionality, you can specify what is exported by making it explicit as\n",
    "\n",
    "```haskell\n",
    "module Tree (function1, function2, myDataType) where\n",
    "```"
   ]
  },
  {
   "cell_type": "markdown",
   "metadata": {},
   "source": [
    "<div class=\"alert alert-block alert-info\">\n",
    "    To discover what a module exposes, you can either look at the source code or test it out in GHCi. In GHCi import the module with a new name, for example <code>import System.Directory as SD</code>. To explore what `SD` exposed, you can now type <code>SD.</code> inline and press tab to autocomplete to discover all possibilities. In lesson 15 (learning on your own) we will explain how you can look up these things in a streamlined way.\n",
    "</div>"
   ]
  },
  {
   "cell_type": "markdown",
   "metadata": {},
   "source": [
    "### The Prelude module"
   ]
  },
  {
   "cell_type": "markdown",
   "metadata": {},
   "source": [
    "When working in GHCi or writing your own Haskell code, some functions are available by default, for instance `head`, `sum` and `length`.\n",
    "\n",
    "This means you had to do nothing to have these imported or installed for them to be used."
   ]
  },
  {
   "cell_type": "markdown",
   "metadata": {},
   "source": [
    "This is because those functions are part of the standard Haskell module called **Prelude** that is imported by default. \n",
    "\n",
    "The word prelude means an introduction to something more important, which is the code and modules you will write.\n",
    "\n",
    "You can find a list of all the functions contained in **Prelude** on **Hackage** [(1)](https://hackage.haskell.org/package/base-4.17.0.0/docs/Prelude.html). We will explain in lesson 15 what Hackage is and how you can use it in general."
   ]
  },
  {
   "cell_type": "markdown",
   "metadata": {},
   "source": [
    "On the Hackage link of the prelude module provided above, you will also find the type signatures of all these functions and more."
   ]
  },
  {
   "cell_type": "markdown",
   "metadata": {},
   "source": [
    "<div class=\"alert alert-block alert-info\">\n",
    "    To view all the imported modules in a current GHCi session, use <code>:show imports</code>. GHCi will also list the current imported modules in the promt, for example the basic <code>Prelude></code> promt. If this promt gets too cluttered due to lots of import, you can change it with <code>:set promt NEW_PROMT_HERE</code>.\n",
    "</div>"
   ]
  },
  {
   "cell_type": "markdown",
   "metadata": {},
   "source": [
    "### Working with Base modules"
   ]
  },
  {
   "cell_type": "markdown",
   "metadata": {},
   "source": [
    "Some functions in Haskell need to be imported via modules that are already locally available, besides the standard **Prelude** module. \n",
    "\n",
    "We call the combination of all these already locally available modules the **Base** modules (of which the prelude is one). Haskell contains many convenient modules for you to try out!\n",
    "\n",
    "For an overview of what the Base consists of, take a look at the following foldable list [(2)](https://hackage.haskell.org/package/base-4.17.0.0/docs/index.html)."
   ]
  },
  {
   "cell_type": "markdown",
   "metadata": {},
   "source": [
    "As this is an introduction to Haskell, the most important modules in this list right now are \n",
    "\n",
    "* Data\n",
    "* Numeric\n",
    "* Prelude\n",
    "* System\n",
    "* Text"
   ]
  },
  {
   "cell_type": "markdown",
   "metadata": {},
   "source": [
    "Let's say you want to run a Haskell program that executed something from the command line by giving it some input parameters and then read them from the program. \n",
    "\n",
    "This is a common pattern, and it is available in the Base module `System`.\n",
    "\n",
    "More precise, you can do this with the function `getArgs` that is part of the `System.Environment` module. For more info on this module, you can take a look at its Hackage page [(2)](https://hackage.haskell.org/package/base-4.17.0.0/docs/System-Environment.html)."
   ]
  },
  {
   "cell_type": "markdown",
   "metadata": {},
   "source": [
    "```haskell\n",
    "import System.Environment \n",
    "\n",
    "main :: IO ()\n",
    "main = do\n",
    "  args <- getArgs\n",
    "  print $ head args\n",
    "```"
   ]
  },
  {
   "cell_type": "markdown",
   "metadata": {},
   "source": [
    "<div class=\"alert alert-block alert-warning\">\n",
    "The above code will not properly work in this Jupyter Notebook. This is because the <code>getArgs</code> function looks for arguments from a command line! At the end of the lesson, you will be able to execute this code locally with cabal or GHC.  \n",
    "</div>"
   ]
  },
  {
   "cell_type": "markdown",
   "metadata": {},
   "source": [
    "When we import a module as above, all of its types and functions that it exposes get imported. We can also specify precisely which functions and types we want to import.\n",
    "\n",
    "For the example above, we could have imported only the function `getArgs` with the following statement instead of the whole module\n",
    "```haskell\n",
    "import System.Environment (getArgs)\n",
    "```\n",
    "If there are more functions and types we wish to import, we separate them with a comma. "
   ]
  },
  {
   "cell_type": "markdown",
   "metadata": {},
   "source": [
    "Now you might be asking yourself how to know which module to import and which function to use? The best answer is always googling what you want to achieve. \n",
    "\n",
    "For our example of the `getArgs` function, you could for instance write into google: `haskell get command line arguments`."
   ]
  },
  {
   "cell_type": "markdown",
   "metadata": {},
   "source": [
    "Once you find a module or function that fits your needs, you can further use Google to find a good explanation and example. \n",
    "\n",
    "You can also use the Haskell web services **Hackage** and **Hoogle** to learn more about them. Again, we will discuss these web services in detail in lesson 15."
   ]
  },
  {
   "cell_type": "markdown",
   "metadata": {},
   "source": [
    "### Base modules Data.Char, Data.List and Data.Bool"
   ]
  },
  {
   "cell_type": "markdown",
   "metadata": {},
   "source": [
    "As an example, we will go through three often used modules that are also locally available for you to use in Haskell. We will briefly discuss what these might be used for to provide some insight in their structure."
   ]
  },
  {
   "cell_type": "markdown",
   "metadata": {},
   "source": [
    "The **Data.Char** module defines functions that deal with characters. Some of the often used functions are:\n",
    "\n",
    "- `isDigit` (checks if a character is a digit)\n",
    "\n",
    "- `isPunctuation` (checks if a character is a punctuation mark)\n",
    "\n",
    "- `toUpper` and `toLower` (converts a lower case character to upper or vice versa)\n",
    "\n",
    "- `ord` and `chr` (convert a character to ASCII code number and vice versa)"
   ]
  },
  {
   "cell_type": "markdown",
   "metadata": {},
   "source": [
    "For some example code, we could have"
   ]
  },
  {
   "cell_type": "code",
   "execution_count": null,
   "metadata": {},
   "outputs": [],
   "source": [
    "import Data.Char\n",
    "\n",
    "isDigit '1'\n",
    "isPunctuation '.'\n",
    "toUpper 'a'\n",
    "ord 'a'"
   ]
  },
  {
   "cell_type": "markdown",
   "metadata": {},
   "source": [
    "This module is great for parsing characters and changing them."
   ]
  },
  {
   "cell_type": "markdown",
   "metadata": {},
   "source": [
    "The **Data.List** module defines functions that deal with lists. Some of the functions we have not covered yet are:\n",
    "\n",
    "- `sort` (sorts a list from lower to upper values, if the variables can be compared to each other)\n",
    "\n",
    "- `splitAt` (splits a list into a tuple of two lists, where the user defines the length of the first list)\n",
    "\n",
    "- `scanl` (is similar to foldl, but it shows the value of the accumulator on each iteration instead of the result)\n",
    "\n",
    "- `scanr` (is the right-to-left dual of scanl. The order of parameters on the accumulating function are reversed compared to scanl.)"
   ]
  },
  {
   "cell_type": "markdown",
   "metadata": {},
   "source": [
    "For some example code, we could have"
   ]
  },
  {
   "cell_type": "code",
   "execution_count": null,
   "metadata": {},
   "outputs": [],
   "source": [
    "import Data.List (sort)\n",
    "\n",
    "myList = [4,2,1,5,3]\n",
    "\n",
    "sort myList\n",
    "splitAt 3 myList\n",
    "\n",
    "scanl (-) 5 [1..4]\n",
    "scanr (-) 5 [1..4]\n",
    "foldr (-) 5 [1..4]"
   ]
  },
  {
   "cell_type": "markdown",
   "metadata": {},
   "source": [
    "<div class=\"alert alert-block alert-info\">\n",
    "    The scan functions are similar to the fold functions. The difference is that the fold functions are focused on the result of the fold (a single return value). While the scan functions tell you how that result was achieved by showing its intermediate values (a list of values). So, the last element of a <code>scanl</code> list is the result of a <code>foldl</code>, and the first element of <code>scanr</code> is the same as <code>foldr</code> over the same arguments.\n",
    "</div>"
   ]
  },
  {
   "cell_type": "markdown",
   "metadata": {},
   "source": [
    "Besides functions, the `Data` module in Base also contains the definition of the Booleans in Haskell in `Data.Bool` [(3)](https://hackage.haskell.org/package/base-4.17.0.0/docs/Data-Bool.html). Here, a `Bool` is simply defined as a data type of either True or False\n",
    "```haskell\n",
    "data Bool = True | False\n",
    "```"
   ]
  },
  {
   "cell_type": "markdown",
   "metadata": {},
   "source": [
    "Here we can also see which basic operators are available to use on the `Bool` type, for example the `(&&)` and `(||)` functions. But also note that here the `otherwise` that we use in guards is defined as simply `True`! Remember that when using guards you are testing against conditions that are reduced as bool values where the `otherwise` statement cached all the other cases! For example,"
   ]
  },
  {
   "cell_type": "code",
   "execution_count": null,
   "metadata": {},
   "outputs": [],
   "source": [
    "myGuardFunct :: Integer -> Integer\n",
    "myGuardFunct x\n",
    "            | x < 0     = -x\n",
    "            | otherwise = x\n",
    "myGuardFunct (-10)"
   ]
  },
  {
   "cell_type": "markdown",
   "metadata": {},
   "source": [
    "### Creating your own module"
   ]
  },
  {
   "cell_type": "markdown",
   "metadata": {},
   "source": [
    "Since modules are just plain Haskell files that can be imported in other Haskell files, it is easy to create a module on your own. \n",
    "\n",
    "In the following section, we will show you how to set up a module."
   ]
  },
  {
   "cell_type": "markdown",
   "metadata": {},
   "source": [
    "Let's say we want another version of the Prelude function `sum` that returns an error for the input of the empty list, instead of the value 0 that the Prelude `sum` returns."
   ]
  },
  {
   "cell_type": "markdown",
   "metadata": {},
   "source": [
    "To create a module that exposes such a module, we first create a Haskell file that we call `Sum.hs`. At the top of this file, we write a module statement like\n",
    "```haskell\n",
    "module Sum where\n",
    "```"
   ]
  },
  {
   "cell_type": "markdown",
   "metadata": {},
   "source": [
    "With this statement, we defined the name of our module as `Sum`, which again should start with an upper case letter.\n",
    "\n",
    "It is good practice that the name of the module is the same as the name of the file, though this is not mandatory."
   ]
  },
  {
   "cell_type": "markdown",
   "metadata": {},
   "source": [
    "<div class=\"alert alert-block alert-warning\">\n",
    "    In the case of submodules like <code>import System.Directory as SD</code>, the module declaration is the same as the import (<code> module System.Directory where</code>), while the name of the file does not contain the string <code>\"System</code>. It is common that the directory that contains the submodule <code>.hs</code> file is names after the parent module (<code>System</code>).\n",
    "</div>"
   ]
  },
  {
   "cell_type": "markdown",
   "metadata": {},
   "source": [
    "Then we define our own parameterized type `MyData` that can be used for displaying an error message. \n",
    "\n",
    "We will learn more about proper error handling in lesson 14. After that, we define our `sum` function."
   ]
  },
  {
   "cell_type": "markdown",
   "metadata": {},
   "source": [
    "```haskell\n",
    "module Sum where\n",
    "\n",
    "import qualified Prelude\n",
    "\n",
    "data MyData a b = Error a | Result b deriving Prelude.Show\n",
    "\n",
    "sum :: Prelude.Num a => [a] -> MyData Prelude.String a\n",
    "sum [] = Error \"List is empty\"\n",
    "sum xs = Result (Prelude.sum xs)\n",
    "\n",
    "```"
   ]
  },
  {
   "cell_type": "markdown",
   "metadata": {},
   "source": [
    "Notice that in the definition of our `sum` function, we use the prelude version of `sum` that we access by `Prelude.sum` to prevent name collision of our sum.\n",
    "\n",
    "Now, if we were in another Haskell file and wanted to import our `Sum` module, we should use qualified import to avoid name collision with the Prelude."
   ]
  },
  {
   "cell_type": "markdown",
   "metadata": {},
   "source": [
    "```haskell\n",
    "import qualified Sum (sum)\n",
    "import qualified Prelude\n",
    "\n",
    "Prelude.sum []       -- 0\n",
    "Prelude.sum [1..3]   -- 6\n",
    "\n",
    "Sum.sum []     -- Error \"List is empty\" \n",
    "Sum.sum [1..3] -- Result 6\n",
    "```"
   ]
  },
  {
   "cell_type": "markdown",
   "metadata": {},
   "source": [
    "If you defined your `sum` function with another name that would not match any default function name from Prelude, you could use a simple import statement as `import Sum`. \n",
    "\n",
    "This would work if our function name would be e.g. `sum1`. Then you could use the function names directly. "
   ]
  },
  {
   "cell_type": "markdown",
   "metadata": {},
   "source": [
    "```haskell\n",
    "import Sum\n",
    "\n",
    "sum []      -- 0\n",
    "sum [1..3]  -- 6\n",
    "\n",
    "sum1 []     -- Error \"List is empty\" \n",
    "sum1 [1..3] -- Result 6\n",
    "```"
   ]
  },
  {
   "cell_type": "markdown",
   "metadata": {},
   "source": [
    "In contrasts to imports restriction like above where we only imported `sum` from the module `Sum`, Haskell also gives you control over exports. That is, what does a module expose to the outside world?\n",
    "\n",
    "In the above example, our module `Sum` exports all that is declared in its file. To take control over what the `Sum` module exports, we declare the things we want to export in the module declaration."
   ]
  },
  {
   "cell_type": "markdown",
   "metadata": {},
   "source": [
    "```haskell\n",
    "module Sum (sum) where\n",
    "\n",
    "import qualified Prelude\n",
    "\n",
    "data MyData a b = Error a | Result b deriving Prelude.Show\n",
    "\n",
    "sum :: Prelude.Num a => [a] -> MyData Prelude.String a\n",
    "sum [] = Error \"List is empty\"\n",
    "sum xs = Result (Prelude.sum xs)\n",
    "```"
   ]
  },
  {
   "cell_type": "markdown",
   "metadata": {},
   "source": [
    "This means that when importing the module `Sum`, we no longer have access to the data type `MyData` and its constructors `Error` and `Result`! Things like\n",
    "```haskell\n",
    "import Sum \n",
    "\n",
    "willNotWork :: MyData String Integer\n",
    "willNotWork = Result 10\n",
    "```\n",
    "will fail with an error `Not in scope: type constructor or class ‘MyData’`."
   ]
  },
  {
   "cell_type": "markdown",
   "metadata": {},
   "source": [
    "If we did want to export this data type explicitly, we should have used\n",
    "```haskell\n",
    "module Sum (\n",
    "  sum\n",
    ", MyData(Error, Result) \n",
    "  ) where\n",
    "```"
   ]
  },
  {
   "cell_type": "markdown",
   "metadata": {},
   "source": [
    "<div class=\"alert alert-block alert-info\">\n",
    "   It is common practice to separate multiple exports by adding them to a new line.\n",
    "</div>"
   ]
  },
  {
   "cell_type": "markdown",
   "metadata": {},
   "source": [
    "Notice that we also added some brackets to the export of the data type `MyData` to also export its type constructors! If you do not want to make this explicit, but want to export all its constructors, you can also use `(..)` to export "
   ]
  },
  {
   "cell_type": "markdown",
   "metadata": {},
   "source": [
    "### Using modules to your advantage"
   ]
  },
  {
   "cell_type": "markdown",
   "metadata": {},
   "source": [
    "We mentioned that modules gives you control over what is exposed in the module and that it can hide complexity. In this example, we will use this trick to enforce some extra constraints on a type.\n",
    "\n",
    "To achieve this we will use *smart constructors*, this is a common Haskell pattern in a module that hides the constructors of a data type and instead expose a function with similar but constrained functionality!"
   ]
  },
  {
   "cell_type": "markdown",
   "metadata": {},
   "source": [
    "In this example we want to implement a natural number type, these are integers larger than zero. A naive way would be to implement this as\n",
    "```haskell\n",
    "module Naturals where\n",
    "\n",
    "newtype Nat = Nat Integer deriving Show\n",
    "```"
   ]
  },
  {
   "cell_type": "markdown",
   "metadata": {},
   "source": [
    "This indeed creates the namespace and a type for a `Nat` but it does not ensure that the integer is bigger than zero! \n",
    "\n",
    "Remember that the `Nat` after the `=` sign acts as the constructor of this type. Each object that we create of type `Nat` is initiated with this constructor. For example,"
   ]
  },
  {
   "cell_type": "code",
   "execution_count": null,
   "metadata": {},
   "outputs": [],
   "source": [
    "newtype Nat = Nat Integer deriving Show\n",
    "\n",
    "aNatural1 = Nat 10\n",
    "aNatural2 = Nat (-10)\n",
    "\n",
    "print $ show aNatural1\n",
    "print $ show aNatural2"
   ]
  },
  {
   "cell_type": "markdown",
   "metadata": {},
   "source": [
    "When deciding what to export in your module, we can choose to hide this `Nat` constructor while still exposing the type `Nat`.\n",
    "\n",
    "But if we do this, another module that uses our `Naturals` module can never construct a `Nat` type since the constructor is hidden, so we must give an alternative."
   ]
  },
  {
   "cell_type": "markdown",
   "metadata": {},
   "source": [
    "This is where the *smart* constructor comes in. This is a function that has the same name as the constructor, but without a capital at the beginning.\n",
    "\n",
    "In addition, this function creates a `Nat` with its proper constraint of being strictly bigger than zero!"
   ]
  },
  {
   "cell_type": "markdown",
   "metadata": {},
   "source": [
    "```haskell\n",
    "module Naturals (\n",
    "  Nat\n",
    ", nat\n",
    ") where\n",
    "\n",
    "newtype Nat = Nat Integer deriving Show\n",
    "\n",
    "nat :: Integer -> Nat\n",
    "nat n = Nat (abs n)\n",
    "```"
   ]
  },
  {
   "cell_type": "markdown",
   "metadata": {},
   "source": [
    "We see here that instead of exposing the full type via `Nat (Nat)` in the exports, we have access to the creation of such a type via the function `nat`."
   ]
  },
  {
   "cell_type": "markdown",
   "metadata": {},
   "source": [
    "<div class=\"alert alert-block alert-info\">\n",
    "    Notice that the type of the constructor <code>Nat</code> given by <code>Nat :: Integer -> Nat</code> is the same as the function <code>nat</code>!\n",
    "</div>"
   ]
  },
  {
   "cell_type": "code",
   "execution_count": null,
   "metadata": {},
   "outputs": [],
   "source": [
    "module Naturals (\n",
    "  Nat\n",
    ", nat\n",
    ") where\n",
    "\n",
    "newtype Nat = Nat Integer deriving Show\n",
    "\n",
    "nat :: Integer -> Nat\n",
    "nat n = Nat (abs n)"
   ]
  },
  {
   "cell_type": "code",
   "execution_count": null,
   "metadata": {},
   "outputs": [],
   "source": [
    "import Naturals\n",
    "\n",
    "correctNatural = nat (-10)\n",
    "print $ show correctNatural"
   ]
  },
  {
   "cell_type": "markdown",
   "metadata": {},
   "source": [
    "### Compiling Haskell programs"
   ]
  },
  {
   "cell_type": "markdown",
   "metadata": {},
   "source": [
    "In this section, we will show how you can compile simple Haskell files, later we will show how you can compile a more complex project using Cabal."
   ]
  },
  {
   "cell_type": "markdown",
   "metadata": {},
   "source": [
    "When compiling a Haskell program we want it to perform some IO action to be useful, in general, an executable that is compiled is impure as it performs some useful action on the operating system!\n",
    "\n",
    "This is why all executables that we will build in Haskell have an entry point of their logic that is marked as a function of type `IO ()`."
   ]
  },
  {
   "cell_type": "markdown",
   "metadata": {},
   "source": [
    "This function has no inputs and produces no outputs, but it does create a side effect."
   ]
  },
  {
   "cell_type": "markdown",
   "metadata": {},
   "source": [
    "You can compile any Haskell module using GHC. The compiler GHC will then convert the functions and the structure of the module (what it exposes) into at least two files.\n",
    "\n",
    "These two files have the suffix `.hi` and `.o`. Here, the latter is just a C's object file. This contains all the function but compiled into a lower form that is machine understandable.\n",
    "\n",
    "The former `.hi` is an interface file, it tells GHC how the `.o` file can be used if the module were to be used by another Haskell file. In this way, GHC can reuse and compile modules only when they change! This save precious compiling time!"
   ]
  },
  {
   "cell_type": "markdown",
   "metadata": {},
   "source": [
    "To compile a basic Haskell file like our above `Sum.hs` module, we use in a shell\n",
    "```bash\n",
    "ghc Sum.hs\n",
    "```\n",
    "with results in the artifacts\n",
    "```bash\n",
    "ls\n",
    "Sum.hi  Sum.hs  Sum.o\n",
    "```"
   ]
  },
  {
   "cell_type": "markdown",
   "metadata": {},
   "source": [
    "As we mentioned, most useful programs have side effects and produce an executable that we call its binary, the machine code that executes the actions.\n",
    "\n",
    "You can compile such a Haskell program, that is a Haskell file with your main logic, also using GHC. This file can import other Haskell files that define modules as well (like our `Sum` module).\n",
    "\n",
    "To compile an executable with GHC, your main file must have the name `Main.hs` and it must contain a `main :: IO ()` function which is the entry point for the compiler. "
   ]
  },
  {
   "cell_type": "markdown",
   "metadata": {},
   "source": [
    "When the executable is run, this is the function that will be evaluated at runtime. For example, consider the file `Main.hs`\n",
    "```haskell\n",
    "module Main where\n",
    "\n",
    "import qualified\n",
    "\n",
    "main :: IO ()\n",
    "main = do print . show $ Sum.sum []\n",
    "```"
   ]
  },
  {
   "cell_type": "markdown",
   "metadata": {},
   "source": [
    "You compile your program from the command line like this:\n",
    "```\n",
    "ghc Main.hs\n",
    "```"
   ]
  },
  {
   "cell_type": "markdown",
   "metadata": {},
   "source": [
    "This will create three new files instead of two!\n",
    "```bash\n",
    "ls \n",
    "Main  Main.hi  Main.hs  Main.o  Sum.hi  Sum.hs  Sum.o\n",
    "```"
   ]
  },
  {
   "cell_type": "markdown",
   "metadata": {},
   "source": [
    "<div class=\"alert alert-block alert-warning\">\n",
    "    Notice that the output of this command does not recompile the <code>Sum.hs</code> module, rather it uses the already existing <code>Sum.hi</code> and <code>Sum.o</code> files. Try removing all the build artifacts like the <code>Main</code> and the <code>.o/.hi</code> files.\n",
    "</div>"
   ]
  },
  {
   "cell_type": "markdown",
   "metadata": {},
   "source": [
    "Here the first is the executable that we can run, on a Unix system, this can be done via the command `./Main`. \n",
    "\n",
    "The rest of the files are similar to the compilation of any other module."
   ]
  },
  {
   "cell_type": "markdown",
   "metadata": {},
   "source": [
    "The code from the additional Haskell files is included automatically if the files are sitting in the same directory as the Main.hs file.\n",
    "\n",
    "Also, all the files have to have module declaration statements and the Main.hs file has to import them for them to be included in the compile process."
   ]
  },
  {
   "cell_type": "markdown",
   "metadata": {},
   "source": [
    "<div class=\"alert alert-block alert-info\">\n",
    "    GHCi the Haskell REPL allows you to load a Haskell file with the <code>:l</code> command. There, it is not relevant whether the file has a main function or not. Once the file is loaded into GHCi you can call any of the functions or types defined in the file and test them if they work as you expected. If you load a <code>main.hs</code> file into GHCi that imports some user-defined modules, they will also be included as in the compilation process.\n",
    "</div>"
   ]
  },
  {
   "cell_type": "markdown",
   "metadata": {},
   "source": [
    "## Language pragmas"
   ]
  },
  {
   "cell_type": "markdown",
   "metadata": {},
   "source": [
    "Language pragmas or also called language extensions, are a way to modify how the Haskell compiler interprets your code. \n",
    "\n",
    "Because of this, you can say that they add or alter some functionality of your Haskell code."
   ]
  },
  {
   "cell_type": "markdown",
   "metadata": {},
   "source": [
    "The syntax to add a pragma to a Haskell file is by adding the statement below at the top of the file:\n",
    "```\n",
    "{-# LANGUAGE pragme_name #-}\n",
    "```\n",
    "Pragmas are not like modules because they do not bring any new functions to Haskell, but just code functionality."
   ]
  },
  {
   "cell_type": "markdown",
   "metadata": {},
   "source": [
    "Let's look at an example where we use the **NoImplicitPrelude** pragma. \n",
    "\n",
    "When this pragma is added to your file, it prevents the default import of the **Prelude** module."
   ]
  },
  {
   "cell_type": "markdown",
   "metadata": {},
   "source": [
    "Because of this, if you can define your own versions of Prelude functions without having a name collision.\n",
    "\n",
    "One reason why this would be useful is you do not want any partial functions."
   ]
  },
  {
   "cell_type": "code",
   "execution_count": null,
   "metadata": {},
   "outputs": [],
   "source": [
    "{-# LANGUAGE NoImplicitPrelude #-}\n",
    "\n",
    "import GHC.Base (String)\n",
    "import GHC.Show (Show)\n",
    "\n",
    "data Data a b = Error a | Result b deriving Show\n",
    "\n",
    "head :: [a] -> Data String a\n",
    "head [] = Error \"Empty list!\"\n",
    "head (x:xs) = Result x\n",
    " \n",
    "tail :: [a] -> Data String [a]\n",
    "tail [] = Error \"Empty list!\"\n",
    "tail (x:xs) = Result xs"
   ]
  },
  {
   "cell_type": "markdown",
   "metadata": {},
   "source": [
    "In the example above we see because we prevent the import of Prelude we have to manually import the `String` type and the `Show` type class. "
   ]
  },
  {
   "cell_type": "markdown",
   "metadata": {},
   "source": [
    "Another reason is that you want to avoid using some of Prelude's lazy functions. So, you define them such that they are strict.\n",
    "\n",
    "To achieve this, you can use the **BangPatterns** pragma that lets you add an exclamation mark in front of variables to evaluate them strictly."
   ]
  },
  {
   "cell_type": "code",
   "execution_count": null,
   "metadata": {},
   "outputs": [],
   "source": [
    "{-# LANGUAGE BangPatterns #-}\n",
    "{-# LANGUAGE NoImplicitPrelude #-}\n",
    "\n",
    "foldl :: (b -> a -> b) -> b -> [a] -> b\n",
    "foldl f = go \n",
    "  where\n",
    "    go !z []     = z\n",
    "    go !z (x:xs) = go (f z x) xs"
   ]
  },
  {
   "cell_type": "markdown",
   "metadata": {},
   "source": [
    "Another language pragme we can look at is the **DuplicateRecordFields** pragma.\n",
    "\n",
    "It allows you to define various record syntax types that contain duplicated function names."
   ]
  },
  {
   "cell_type": "code",
   "execution_count": null,
   "metadata": {},
   "outputs": [],
   "source": [
    "{-# LANGUAGE DuplicateRecordFields #-}\n",
    "\n",
    "data UserAge = UserAge { name :: String\n",
    "                       , age :: Int }\n",
    "\n",
    "data UserHeight = UserHeight { name :: String\n",
    "                             , height :: Int }                     "
   ]
  },
  {
   "cell_type": "markdown",
   "metadata": {},
   "source": [
    "The last example we will show is how to use the **TypeApplications** pragma which allows you to use visible type application in expressions.\n",
    "\n",
    "It's just another way of how to define a type of variable. You use it such that you add the `@` symbol with the type name before the variable. "
   ]
  },
  {
   "cell_type": "code",
   "execution_count": null,
   "metadata": {},
   "outputs": [],
   "source": [
    "{-# LANGUAGE TypeApplications #-}\n",
    "\n",
    "myInt = read @Int \"1\"\n",
    "myFloat = read @Float \"1.23\""
   ]
  },
  {
   "cell_type": "markdown",
   "metadata": {},
   "source": [
    "You can use this notation also when calling functions. In the example below we define the `Number` type that holds either a whole number, or a decimal number or a string.\n",
    "\n",
    "The parse function then takes in a string and analyzes it if it represents a whole number, a decimal number or if it's not a number at all."
   ]
  },
  {
   "cell_type": "code",
   "execution_count": null,
   "metadata": {},
   "outputs": [],
   "source": [
    "{-# LANGUAGE TypeApplications #-}\n",
    "\n",
    "data Number a b = WHOLE a | DECIMAL b | NAN String deriving Show\n",
    "\n",
    "parse :: (Read a, Read b) => String -> Number a b\n",
    "parse inp = if isNumber\n",
    "            then if isDecimal\n",
    "                 then DECIMAL $ read inp \n",
    "                 else WHOLE $ read inp\n",
    "            else NAN \"Not a valid number\"\n",
    "    where validChar = \".0123456789\"\n",
    "          isNumber = all (&& True) $ map (`elem` validChar) inp\n",
    "          isDecimal = '.' `elem` inp\n",
    "\n",
    "longWhole = \"9223372036854775808\"\n",
    "longDecimal = \"1.23456789\"\n",
    "\n",
    "parse @Int @Float longWhole\n",
    "parse @Integer @Float longWhole\n",
    "parse @Int @Float longDecimal\n",
    "parse @Int @Double longDecimal"
   ]
  },
  {
   "cell_type": "markdown",
   "metadata": {},
   "source": [
    "When we call the `parse` function, we specify the types for the variable `a` and `b`. \n",
    "\n",
    "This enables us to choose what kind of precision we want when parsing a whole or a decimal number."
   ]
  },
  {
   "cell_type": "markdown",
   "metadata": {},
   "source": [
    "As a side note, we state here that the `@` symbol can also be used for referencing lists, which has nothing to do with type applications.\n",
    "\n",
    "In the example below, the `counts` function takes in a list of numbers and returns a list of tuples with the unique number and their appearance counts.\n",
    "\n",
    "When we pattern match the list with `(x:xs)` we also say `list@` that creates a variable named `list` which is equal to the entire list `x:xs`."
   ]
  },
  {
   "cell_type": "code",
   "execution_count": null,
   "metadata": {},
   "outputs": [],
   "source": [
    "newtype Count = Count Int deriving Show\n",
    "\n",
    "counts :: Eq a => [a] -> [(a, Count)]\n",
    "counts [] = []\n",
    "counts list@(x:xs) = (x, Count $ length (filter (== x) list)) : counts (filter (/= x) list)\n",
    "\n",
    "counts [1,2,1,4,5,2,4,3]"
   ]
  },
  {
   "cell_type": "markdown",
   "metadata": {},
   "source": [
    "There are also many other pragmas that you can add to your code. Some of them are:\n",
    "\n",
    "- **OverloadedStrings**: Lets you define variables of data types that store text by directly using a string instead of applying a helper function to it.\n",
    "\n",
    "- **TemplateHaskell**: Provides tools for Haskell meta-programming, which means that the code generates other code. It is also used in Plutus.\n",
    "\n",
    "- **ViewPatterns**: Allows for more sophisticated pattern matching."
   ]
  },
  {
   "cell_type": "markdown",
   "metadata": {},
   "source": [
    "A list of all language extensions can be found on Hackage [(2)](https://hackage.haskell.org/package/template-haskell-2.19.0.0/docs/Language-Haskell-TH.html#g:5)."
   ]
  },
  {
   "cell_type": "markdown",
   "metadata": {},
   "source": [
    "## Using cabal"
   ]
  },
  {
   "cell_type": "markdown",
   "metadata": {},
   "source": [
    "### Introduction"
   ]
  },
  {
   "cell_type": "markdown",
   "metadata": {
    "tags": []
   },
   "source": [
    "**What is cabal?**\n",
    "\n",
    "It is a Haskell package management tool that can be used from the command line, similar as **pip** for Python or **npm** for JavaScript. \n",
    "\n",
    "The name **cabal** stands for *Common Architecture for Building Applications and Libraries*."
   ]
  },
  {
   "cell_type": "markdown",
   "metadata": {},
   "source": [
    "**What is a Haskell package?**\n",
    "\n",
    "A Haskell **package** is a collection of Haskell files that defines modules. The modules contain code that offer related functionality. \n",
    "\n",
    "The reason why there are multiple modules contained in a package are: \n",
    "- a developer might not need all the functionality from the package and wants to import only certain modules\n",
    "\n",
    "- it is easier to maintain the package if the code is contained in multiple modules instead of one "
   ]
  },
  {
   "cell_type": "markdown",
   "metadata": {},
   "source": [
    "**Why do we need cabal?**\n",
    "\n",
    "Imagine we have a file that contains the molar concentrations of vitamin C, vitamin E and copper for a person's blood. \n",
    "\n",
    "The units are `mol/L` and the numbers have scientific notation.\n",
    "```\n",
    "Vitamin C: 40e-6\n",
    "Vitamin E: 50e-6\n",
    "Copper:    15e-6\n",
    "```"
   ]
  },
  {
   "cell_type": "markdown",
   "metadata": {},
   "source": [
    "Now, when you read the file and extract the strings that contain the numbers, you cannot parse them with the `read` function.\n",
    "\n",
    "After some search on Google, you find out there is a module called **Data.Scientific**, that allows you to parse the numbers in scientific format."
   ]
  },
  {
   "cell_type": "markdown",
   "metadata": {},
   "source": [
    "The parsing can be done with the `read` function:\n",
    "```haskell\n",
    "read \"40e-6\" :: Scientific\n",
    "```"
   ]
  },
  {
   "cell_type": "markdown",
   "metadata": {},
   "source": [
    "But when you try to import this module, you realize that you get an error.\n",
    "\n",
    "This is because the package **scientific** which contains this module is not installed by default when you install **GHC**."
   ]
  },
  {
   "cell_type": "markdown",
   "metadata": {},
   "source": [
    "Only **packages** that contain commonly used modules come with the default installation of Haskell. Some of them are **base**, **text** and **time**.\n",
    "\n",
    "For other packages that you might need, **cabal** can help you to install them on your OS."
   ]
  },
  {
   "cell_type": "markdown",
   "metadata": {},
   "source": [
    "### Managing packages with cabal"
   ]
  },
  {
   "cell_type": "markdown",
   "metadata": {},
   "source": [
    "**How to check if a module / package is available by default?**\n",
    "\n",
    "To check whether a module can be imported in Haskell, simply start GHCi and type `import module_name`. \n",
    "\n",
    "If the package containing the module is not installed, you will get an error. "
   ]
  },
  {
   "cell_type": "markdown",
   "metadata": {},
   "source": [
    "You can also use the TAB button for auto-completion. For instance, type `import Data.A` and hit TAB. You will get a list of all modules that start with `Data.A`. \n",
    "\n",
    "For packages, you can display the list of installed packages on your OS with the command:\n",
    "```\n",
    "cabal list --installed\n",
    "```"
   ]
  },
  {
   "cell_type": "markdown",
   "metadata": {},
   "source": [
    "**How to install a Haskell package?**\n",
    "\n",
    "When **cabal** installs a package, it downloads it from [Hackage](https://hackage.haskell.org/). As said before, we will talk about Hackage in lesson 15.\n",
    "\n",
    "In case you already know which package you need to use, you can install it with one of the commands below."
   ]
  },
  {
   "cell_type": "markdown",
   "metadata": {},
   "source": [
    "To install a package on your OS, you can use the command:\n",
    "```\n",
    "cabal install package_name\n",
    "```"
   ]
  },
  {
   "cell_type": "markdown",
   "metadata": {},
   "source": [
    "It could happen that cabal will complain if the package is in form of a library. In this case, use the command:\n",
    "```\n",
    "cabal install --lib package_name\n",
    "```"
   ]
  },
  {
   "cell_type": "markdown",
   "metadata": {},
   "source": [
    "If you download a tar.gz file of a package, you can install the package locally with the command:\n",
    "```\n",
    "cabal install ./package_name.tar.gz\n",
    "```"
   ]
  },
  {
   "cell_type": "markdown",
   "metadata": {},
   "source": [
    "An example of how to install the **scientific** package is:\n",
    "```\n",
    "cabal install --lib scientific\n",
    "```"
   ]
  },
  {
   "cell_type": "markdown",
   "metadata": {},
   "source": [
    "**How to remove a Haskell package?**\n",
    "\n",
    "Currently, **cabal** does not know how to uninstall packages.\n",
    "\n",
    "You can install the **cabal-uninstall** package that lets you remove Haskell packages.\n",
    "```\n",
    "cabal-uninstall package_name\n",
    "```"
   ]
  },
  {
   "cell_type": "markdown",
   "metadata": {},
   "source": [
    "### Building a project with cabal"
   ]
  },
  {
   "cell_type": "markdown",
   "metadata": {},
   "source": [
    "We learned now how to use **cabal** to manage Haskell packages. But **cabal** can also be used for another purpose.\n",
    "\n",
    "You can use it to build Haskell projects instead of compiling the source code with the **ghc** command."
   ]
  },
  {
   "cell_type": "markdown",
   "metadata": {},
   "source": [
    "Cabal uses a `.cabal` file that describes the building process of a project.\n",
    "\n",
    "The reasons for building projects with **cabal** instead of **ghc** are:\n",
    "- Cabal can handle a project structure that contains files in multiple folders.\n",
    "\n",
    "- In the cabal file, you can specify for each folder separately: \n",
    "  - Which of the installed packages you want to import.\n",
    "\n",
    "  - Which packages cabal should add as build dependencies.<br>\n",
    "    They will be used in the compiling process, but not installed on the OS.\n",
    "\n",
    "  - What the folder contains: the main executable file, library files or test files.\n",
    "\n",
    "- The build is more clean. All files created from the build are put in the `dist-newstyle` folder.\n",
    "\n",
    "- You can create a package with cabal and distribute it to other developers."
   ]
  },
  {
   "cell_type": "markdown",
   "metadata": {},
   "source": [
    "**Creating new project**\n",
    "\n",
    "To create a new project in cabal, create an empty folder, move into it and use one of the following commands:"
   ]
  },
  {
   "cell_type": "markdown",
   "metadata": {},
   "source": [
    "Creates a simple project:\n",
    "```\n",
    "cabal init\n",
    "```"
   ]
  },
  {
   "cell_type": "markdown",
   "metadata": {},
   "source": [
    "Creates a project by asking you multiple questions where you can choose from a set of parameters:\n",
    "```\n",
    "cabal init --interactive\n",
    "```\n",
    "**NOTE**: Initially, you should say \"no\" for a simple project. Otherwise, the command runs as in the first case."
   ]
  },
  {
   "cell_type": "markdown",
   "metadata": {},
   "source": [
    "The commands above will create a cabal file and some folders with files depending on the options you specified."
   ]
  },
  {
   "cell_type": "markdown",
   "metadata": {},
   "source": [
    "**Explaining the cabal file**\n",
    "\n",
    "Let's have a look at the contents of an example cabal file: \n",
    "```\n",
    "cabal-version:      2.4\n",
    "name:               test\n",
    "version:            0.1.0.0\n",
    "\n",
    "-- A short (one-line) description of the package.\n",
    "-- synopsis:\n",
    "\n",
    "-- A longer description of the package.\n",
    "-- description:\n",
    "\n",
    "-- A URL where users can report bugs.\n",
    "-- bug-reports:\n",
    "\n",
    "-- The license under which the package is released.\n",
    "-- license:\n",
    "author:             Luka Kurnjek\n",
    "maintainer:         luka.kurnjek@iohk.io\n",
    "\n",
    "-- A copyright notice.\n",
    "-- copyright:\n",
    "-- category:\n",
    "extra-source-files: CHANGELOG.md\n",
    "\n",
    "executable test\n",
    "    main-is:          Main.hs\n",
    "\n",
    "    -- Modules included in this executable, other than Main.\n",
    "    -- other-modules:\n",
    "\n",
    "    -- LANGUAGE extensions used by modules in this package.\n",
    "    -- other-extensions:\n",
    "    build-depends:    base \n",
    "    hs-source-dirs:   app\n",
    "    default-language: Haskell2010\n",
    "```"
   ]
  },
  {
   "cell_type": "markdown",
   "metadata": {},
   "source": [
    "The fields in the beginning are self-explanatory. You can remove any comments that start with `--`. \n",
    "\n",
    "The name of your project is set to the name of the folder on which you created the project. "
   ]
  },
  {
   "cell_type": "markdown",
   "metadata": {},
   "source": [
    "This name will also be used for the name of the package if you want to build and distribute it. \n",
    "\n",
    "In case a package with the name you set already exists on Hackage, you will be notified. "
   ]
  },
  {
   "cell_type": "markdown",
   "metadata": {},
   "source": [
    "After the initial 5 fields, the `extra-source-files` field specifies the file that contains the copyright notice.\n",
    "\n",
    "Then the fields that specify the project folder types are defined, which also contain build instructions."
   ]
  },
  {
   "cell_type": "markdown",
   "metadata": {},
   "source": [
    "One of the more often used fields are:\n",
    "- `executable`: defines information for the executable part of project\n",
    "\n",
    "- `library`: defines information for the supporting libraries of the project\n",
    "\n",
    "- `test-suite`: defines information for the testing part of the project "
   ]
  },
  {
   "cell_type": "markdown",
   "metadata": {},
   "source": [
    "For the `executable` filed, you first need to add the name of the project and then configuration options:\n",
    "- `main-is` defines the Haskell file which gets executed when the program is started (usually Main.hs). \n",
    "\n",
    "- `build-depends` defines the packages needed to build this project (base package is included by default)\n",
    "\n",
    "- `hs-source-dirs` defines the name of the folder where the main executable file is residing\n",
    "\n",
    "- `default-language` specifies the name of the Haskell release you want to use."
   ]
  },
  {
   "cell_type": "markdown",
   "metadata": {},
   "source": [
    "Also, other configuration options can be added to the executable section as:\n",
    "- `import` defines which of the already installed modules to import when compiling the main executable\n",
    "\n",
    "- `ghc-options` defines which compiler flags to use when building this code"
   ]
  },
  {
   "cell_type": "markdown",
   "metadata": {},
   "source": [
    "Cabal supports equality and inequality operators for comparing package versions. \n",
    "\n",
    "For instance, when you define the `build-depends` you can set conditions for library versions. "
   ]
  },
  {
   "cell_type": "markdown",
   "metadata": {},
   "source": [
    "You could for write: \n",
    "```\n",
    "build-depends: base ^>=4.14.3.0\n",
    "```"
   ]
  },
  {
   "cell_type": "markdown",
   "metadata": {},
   "source": [
    "The carrot operator `^` is used to treat `^>= x.y.z` as identical to `>= x.y.z && < x.(y + 1)`. \n",
    "\n",
    "So in our case, we could write the above statement also as: \n",
    "```\n",
    "base >= 4.14.3.0 && < 4.15\n",
    "``` "
   ]
  },
  {
   "cell_type": "markdown",
   "metadata": {},
   "source": [
    "For the `library` and `test-suite` fields, the same options and rules apply as for the `executable` field.\n",
    "\n",
    "Common folder naming practices for these fields are:\n",
    "- `src` or `lib` for `library` field\n",
    "\n",
    "- `test` for `test-suite` field"
   ]
  },
  {
   "cell_type": "markdown",
   "metadata": {},
   "source": [
    "**Building and running your project**\n",
    "\n",
    "All the command in this section need to be performed inside the project folder at the top level."
   ]
  },
  {
   "cell_type": "markdown",
   "metadata": {},
   "source": [
    "To build your project, you run the command:\n",
    "```\n",
    "cabal build\n",
    "```"
   ]
  },
  {
   "cell_type": "markdown",
   "metadata": {},
   "source": [
    "To run your project, you run the command:\n",
    "```\n",
    "cabal exec project_name\n",
    "```"
   ]
  },
  {
   "cell_type": "markdown",
   "metadata": {},
   "source": [
    "You can do both actions also with one command:\n",
    "```\n",
    "cabal run\n",
    "```"
   ]
  },
  {
   "cell_type": "markdown",
   "metadata": {},
   "source": [
    "## That's it for today!"
   ]
  }
 ],
 "metadata": {
  "kernelspec": {
   "display_name": "Haskell",
   "language": "haskell",
   "name": "haskell"
  },
  "language_info": {
   "codemirror_mode": "ihaskell",
   "file_extension": ".hs",
   "mimetype": "text/x-haskell",
   "name": "haskell",
   "pygments_lexer": "Haskell",
   "version": "8.10.7"
  }
 },
 "nbformat": 4,
 "nbformat_minor": 4
}
