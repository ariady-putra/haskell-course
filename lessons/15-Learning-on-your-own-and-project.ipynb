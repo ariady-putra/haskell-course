{
 "cells": [
  {
   "cell_type": "markdown",
   "metadata": {},
   "source": [
    "# Learning on your own and project"
   ]
  },
  {
   "cell_type": "markdown",
   "metadata": {},
   "source": [
    "## Outline\n",
    "\n",
    "* Learning to read existing code\n",
    "\n",
    "* Official Haskell documentation\n",
    "\n",
    "* Using Hoogle and Hackage\n",
    "  - Hoogle\n",
    "\n",
    "  - Hackage\n",
    "\n",
    "  - Researching functions and types from the Data.Map module\n",
    "  \n",
    "  - Looking up source code\n",
    "\n",
    "* Using the Haskell Wiki\n",
    "\n",
    "* Using **:type** and **:info** in GHCi\n",
    "\n",
    "* Walkthrough of creating a project"
   ]
  },
  {
   "cell_type": "markdown",
   "metadata": {},
   "source": [
    "In this lesson, we will learn how you can explore types, functions and modules in Haskell on your own.\n",
    "\n",
    "As we cover more and more, it is becoming clear that since Haskell is a functional programming language, it is all about functions and their composition."
   ]
  },
  {
   "cell_type": "markdown",
   "metadata": {},
   "source": [
    "When designing a Haskell program, we keep this in mind and cut up our code in these small chunks of functions. \n",
    "\n",
    "This allows us to reason about smaller portions of the code and their correctness. And, as a bonus, it keeps our code composable, so we can reuse it later."
   ]
  },
  {
   "cell_type": "markdown",
   "metadata": {},
   "source": [
    "So, it comes as no surprise that a lot of code is already written by others! It is our task to find useful functions and figure out how to use them."
   ]
  },
  {
   "cell_type": "markdown",
   "metadata": {},
   "source": [
    "## Learning to read existing code"
   ]
  },
  {
   "cell_type": "markdown",
   "metadata": {},
   "source": [
    "Bellow is a small program which we will use to explain how to proceed when you are confronted with code which you do not fully understand.\n",
    "\n",
    "The general procedure we will follow will be:\n",
    "- understand the language pragmas \n",
    "\n",
    "- understand the functions and types from the import statements\n",
    "\n",
    "- understand the functions used in the haskell code that do not need import statements\n",
    "\n",
    "- reason about what the code is doing "
   ]
  },
  {
   "cell_type": "code",
   "execution_count": null,
   "metadata": {},
   "outputs": [],
   "source": [
    "{-# LANGUAGE DuplicateRecordFields #-}\n",
    "\n",
    "import Data.Map as Map ( fromList, insert, toList, Map, delete )\n",
    "\n",
    "data Book = Book \n",
    "              { author :: String\n",
    "              , title :: String\n",
    "              } deriving Show\n",
    "\n",
    "data BookWithYear = BookWithYear \n",
    "              { author :: String\n",
    "              , title :: String\n",
    "              , year :: Int\n",
    "              } deriving Show\n",
    "\n",
    "data BookWithPrice = BookWithPrice \n",
    "              { author :: String\n",
    "              , title :: String\n",
    "              , price :: Double\n",
    "              } deriving Show\n",
    "\n",
    "data BookTypes = Year BookWithYear | Price BookWithPrice\n",
    "\n",
    "book1 :: BookWithYear\n",
    "book1 = BookWithYear { author = \"Douglas Adams\"\n",
    "                     , title = \"The Hitchhiker's Guide to the Galaxy\"\n",
    "                     , year = 1985\n",
    "             }\n",
    "\n",
    "book2 :: BookWithYear\n",
    "book2 = BookWithYear { author = \"J. R. R. Tolkien\"\n",
    "                     , title = \"Lord of the Rings\"\n",
    "                     , year = 1954\n",
    "             }\n",
    "\n",
    "book3 :: BookWithPrice\n",
    "book3 = BookWithPrice { author = \"Frank Herbert\"\n",
    "                      , title = \"Dune\"\n",
    "                      , price = 18.99\n",
    "             }\n",
    "\n",
    "createBookType :: BookTypes -> Book\n",
    "createBookType (Year (BookWithYear authorData titleData _)) = Book { author = authorData\n",
    "                                                                    , title = titleData }\n",
    "createBookType (Price (BookWithPrice authorData titleData _)) = Book { author = authorData\n",
    "                                                                    , title = titleData }\n",
    "\n",
    "variousBooks :: [BookTypes]\n",
    "variousBooks = [Year book1, Year book2]\n",
    "\n",
    "library :: Map.Map Int Book\n",
    "library = Map.fromList $ zip [1,2] $ map createBookType variousBooks\n",
    "\n",
    "listBooks :: Map.Map Int Book -> IO ()\n",
    "listBooks lib = do\n",
    "    let books = Prelude.map snd (Map.toList lib)\n",
    "    print books\n",
    "\n",
    "addBook :: Map.Map Int Book -> Book -> Map.Map Int Book\n",
    "addBook lib book = Map.insert (getFreeSpot 1) book lib\n",
    "    where libKeys = Prelude.map fst $ Map.toList lib\n",
    "          getFreeSpot spot = if spot `elem` libKeys\n",
    "                             then getFreeSpot (spot + 1)\n",
    "                             else spot\n",
    "\n",
    "removeBook :: Map.Map Int Book -> Int -> Map.Map Int Book\n",
    "removeBook lib bookID = Map.delete bookID lib\n",
    "\n",
    "main :: IO ()\n",
    "main = do\n",
    "    putStr \"Current books in library are:\\n\"\n",
    "    listBooks library\n",
    "    putStr \"\\nAdding a book to library:\\n\"\n",
    "    let library1 = addBook library $ createBookType $ Price book3\n",
    "    listBooks library1\n",
    "    putStr \"\\nRemoving books with bookID = 1 and bookID = 2 from updated library:\\n\"\n",
    "    listBooks $ foldr (flip removeBook) library1 [1,2] \n",
    "\n",
    "main"
   ]
  },
  {
   "cell_type": "markdown",
   "metadata": {},
   "source": [
    "First let's list the functions, types and pragmas that we have to know in order to understand the code:\n",
    "- the *DuplicateRecordFields* language pragma\n",
    "\n",
    "- the functions `fromList`, `insert`, `toList`, `delete` and the `Map` type from the **Data.Map** module\n",
    "\n",
    "- the functions `map`, `zip`, `snd`, `fst`, `elem`, `print`, `putStr`, `flip` and `foldr` from **Prelude** module."
   ]
  },
  {
   "cell_type": "markdown",
   "metadata": {},
   "source": [
    "<div class=\"alert alert-block alert-info\">\n",
    "For some IDEs and text editors, it is possible to add the *Haskell language server* extension which automatically parses the code and suggest changing the import statement of a module so that it lists all the used functions from the code: https://wiki.haskell.org/IDEs#Haskell_Language_Server. This makes it easier for the developer to know which functions are used from which module. VSCode is one of such editors.\n",
    "</div>"
   ]
  },
  {
   "cell_type": "markdown",
   "metadata": {},
   "source": [
    "Let's pretend that we don't know what the language pragma and the functions from the **Data.Map** module do.\n",
    "\n",
    "For the **Prelude** functions we will only showcase how to lookup the `foldr` function with the Haskell tools we have."
   ]
  },
  {
   "cell_type": "markdown",
   "metadata": {},
   "source": [
    "In the next chapters we will helps ourselvse to understand the code above with the: \n",
    "- official Haskell documentation\n",
    "\n",
    "- web-tools Hoogle and Hackage \n",
    "\n",
    "- Haskell wiki page"
   ]
  },
  {
   "cell_type": "markdown",
   "metadata": {},
   "source": [
    "## Official Haskell documentation"
   ]
  },
  {
   "cell_type": "markdown",
   "metadata": {},
   "source": [
    "The official Haskell documentation can be found at [https://downloads.haskell.org/ghc/latest/docs/users_guide/](https://downloads.haskell.org/ghc/latest/docs/users_guide/).\n",
    "\n",
    "When we lookup functions and types we ussually use *Hoogle* and *Hackage* but for language pragmas the documentation page is more appropritate."
   ]
  },
  {
   "cell_type": "markdown",
   "metadata": {},
   "source": [
    "In the upper left corner there is a search bar where you can type in the name of the language pragma *DuplicateRecordFields*.\n",
    "\n",
    "You get the following explanation *Allow definition of record types with identically-named fields.*."
   ]
  },
  {
   "cell_type": "markdown",
   "metadata": {},
   "source": [
    "If you want you can also help yourself by looking at the code example the documentation offers. \n",
    "\n",
    "In the end you realize that this language pragma enables definition of multiple record syntax types that have same record field names. "
   ]
  },
  {
   "cell_type": "markdown",
   "metadata": {},
   "source": [
    "If we check our code we see that the types `Book`, `BookWithYear` and `BookWithPrice` have the `author` and `title` field names the same."
   ]
  },
  {
   "cell_type": "markdown",
   "metadata": {},
   "source": [
    "## Using Hoogle and Hackage"
   ]
  },
  {
   "cell_type": "markdown",
   "metadata": {},
   "source": [
    "### Hoogle"
   ]
  },
  {
   "cell_type": "markdown",
   "metadata": {},
   "source": [
    "**Hoogle** ([*hoogle.haskell.org*](hoogle.haskell.org)) is a Haskell API search engine, which allows you to search the Haskell libraries on Haskells central package repository (called Hackage), by either function name, or by approximate type signature. \n",
    "\n",
    "This tool is an extension to `:info` and `:type` GHCi commands, because with Hoogle you get a more detailed and graphically friendly explanation of types and functions. "
   ]
  },
  {
   "cell_type": "markdown",
   "metadata": {},
   "source": [
    "Hoogle also enables you to search for modules contained in Haskell and see information about the functions that are defined in a specific module. \n",
    "\n",
    "Let's try it out. We go to the Hoogle webpage and type in our first function `fromList` from the **Data.Map** module. "
   ]
  },
  {
   "cell_type": "markdown",
   "metadata": {},
   "source": [
    "We see we get many results for this name and the variour `fromList` functions have also different type signatures.\n",
    "\n",
    "Below the type signatures is first stated the package name and then its modules that containt the function with the type signature above."
   ]
  },
  {
   "cell_type": "markdown",
   "metadata": {},
   "source": [
    "If we want to look up only the `fromList` function in the **Data.Map** module we type into hoogle `fromList +Data.Map`.\n",
    "\n",
    "Because multiple packages contain this module there are again multiple result. Ussually we are interested in the first one which is the most commonly used."
   ]
  },
  {
   "cell_type": "markdown",
   "metadata": {},
   "source": [
    "<img src=\"../images/lesson15/hoogle1.png\"\n",
    "  style=\"\n",
    "  display:block;\n",
    "  margin-left: 20%;\n",
    "  margin-right: auto;\n",
    "  width: 64%;\"/>"
   ]
  },
  {
   "cell_type": "markdown",
   "metadata": {},
   "source": [
    "We see the first result says:\n",
    "```haskell\n",
    "fromList :: Ord k => [(k, a)] -> Map k a\n",
    "```"
   ]
  },
  {
   "cell_type": "markdown",
   "metadata": {},
   "source": [
    "Below it we see the package name and the modules that contain this definition\n",
    "```\n",
    "containers Data.Map.Internal Data.Map.Lazy Data.Map.Strict Data.Map.Strict.Internal\n",
    "```"
   ]
  },
  {
   "cell_type": "markdown",
   "metadata": {},
   "source": [
    "If we click on the function name with the type signature we get re-directed to the Hackage page for the first module listed bellow the function.\n",
    "\n",
    "You could also click on the module names and get redirected to the Hackage page lists the function and type names that the module contains. "
   ]
  },
  {
   "cell_type": "markdown",
   "metadata": {},
   "source": [
    "We will cover the Hackage tool shortly. Before we got there we explain some advance search options that Hoogle gives us.\n",
    "\n",
    "Once we learn also how Hackage works we will cover all the other functions from our code that we are curious about how they work."
   ]
  },
  {
   "cell_type": "markdown",
   "metadata": {},
   "source": [
    "Here are some explanations of how hoogle search works:\n",
    "\n",
    "* **map** searches as text, finding map, concatMap, mapM\n",
    "\n",
    "* **con map** searches for the text \"map\" and \"con\" finding concatMap, but not map\n",
    "\n",
    "* **a -> a** searches by type, finding id :: a -> a\n",
    "\n",
    "* **a** searches for the text \"a\"\n",
    "\n",
    "* **:: a** searches for the type \"a\"\n",
    "\n",
    "* **id :: a -> a** searches for the text \"id\" and the type \"a -> a\""
   ]
  },
  {
   "cell_type": "markdown",
   "metadata": {},
   "source": [
    "Additional to your search, you can add restriction on the modules that the function resides in. For example, if we search for\n",
    "\n",
    "* **file -System** this excludes results from modules such as **System.IO**, **System.FilePath.Windows** and **Distribution.System**\n",
    "\n",
    "* **fromList +Data.Map** finds results in the **Data.Map** module"
   ]
  },
  {
   "cell_type": "markdown",
   "metadata": {},
   "source": [
    "### Hackage"
   ]
  },
  {
   "cell_type": "markdown",
   "metadata": {},
   "source": [
    "**Hackage** ([*hackage.haskell.org*](hackage.haskell.org)) is the Haskell community's central package archive of open-source software. \n",
    "\n",
    "If you click on any result Hoogle returns, you will be redirected to the Hackage page of it, that shows you information about this function, type, or module."
   ]
  },
  {
   "cell_type": "markdown",
   "metadata": {},
   "source": [
    "If we now click on the first result for our `fromList` function search we get redirected to the Hackage page for the **Data.Map.Internal** module.\n",
    "\n",
    "The page does not load at the beginning but at the place where the `fromList` function is defined."
   ]
  },
  {
   "cell_type": "markdown",
   "metadata": {},
   "source": [
    "We see again the type signature from the function and below is an explanation that says:\n",
    "```haskell\n",
    "fromList :: Ord k => [(k, a)] -> Map k a \n",
    "```\n",
    "```\n",
    "Build a map from a list of key/value pairs. If the list contains more than one value for the same key, the last value for the key is retained.\n",
    "```"
   ]
  },
  {
   "cell_type": "markdown",
   "metadata": {},
   "source": [
    "There is also a code example added to the explanation to showcase how the function behaves.\n",
    "```haskell\n",
    "fromList [] == empty\n",
    "fromList [(5,\"a\"), (3,\"b\"), (5, \"c\")] == fromList [(5,\"c\"), (3,\"b\")]\n",
    "fromList [(5,\"c\"), (3,\"b\"), (5, \"a\")] == fromList [(5,\"a\"), (3,\"b\")]\n",
    "```"
   ]
  },
  {
   "cell_type": "markdown",
   "metadata": {},
   "source": [
    "We understand now how we can build a Map object. We provide it with a list of tuples where the first elements in the tuples represents the keys of the Map. They have to have an instance of the `ord` type class. And the second elements represent the values of the Map."
   ]
  },
  {
   "cell_type": "markdown",
   "metadata": {},
   "source": [
    "Let us now also explain how a search for a module works. We type into hoogle the search `Data.Map`.\n",
    "\n",
    "The first result we get in hoogle redirects us to the **Data.Map** hackage page of the **containers** package."
   ]
  },
  {
   "cell_type": "markdown",
   "metadata": {},
   "source": [
    "On the beginning of this page, we see the following note:\n",
    "```\n",
    "Note: You should use **Data.Map.Strict** instead of this module if:\n",
    "\n",
    "- You will eventually need all the values stored.\n",
    "- The stored values don't represent large virtual data structures to be lazily computed.\n",
    "```"
   ]
  },
  {
   "cell_type": "markdown",
   "metadata": {},
   "source": [
    "When we click on **Data.Map.Strict**, a new page gets loaded, and we see that this module contains an updated description of all the functions and data typed that are part of the **Data.Map** module. \n",
    "\n",
    "Because in the dot notation of modules, we go one step into the tree when you import **Data.Map** everything from the child branches contained in **Data.Map** is also imported. "
   ]
  },
  {
   "cell_type": "markdown",
   "metadata": {},
   "source": [
    "Another thing to mention about Hackage is that, when you are looking at a module as **Data.Map.Strict** you may see on the left side a table of contents that defines the module. \n",
    "\n",
    "Also in the top-left corner of the page, you can see the name of the package that contains this module. For the module **Data.Map.Strict** the package name is **containers** with current version **0.6.6**. "
   ]
  },
  {
   "cell_type": "markdown",
   "metadata": {},
   "source": [
    "If you go to the starting page of Hackage, click on Browse packages you can type in **containers** in the search bar and list of packages that contains this name will be displayed. \n",
    "\n",
    "Then you can further click on the package **containers**, and you will get some information about the package together with a list of all the modules it contains, of which **Data.Map** is just one."
   ]
  },
  {
   "cell_type": "markdown",
   "metadata": {},
   "source": [
    "<img src=\"../images/lesson15/hackage1.png\"\n",
    "  style=\"\n",
    "  display:block;\n",
    "  margin-left: 20%;\n",
    "  margin-right: auto;\n",
    "  width: 64%;\"/>"
   ]
  },
  {
   "cell_type": "markdown",
   "metadata": {},
   "source": [
    "<div class=\"alert alert-block alert-info\">\n",
    "If you want to use a module you learned about in your future code, it is worth to check the main page of the module for comments. For example: for the `Data.Map` module we need a qualified import to make sure function do not clash from the `Prelude` module.\n",
    "</div>"
   ]
  },
  {
   "cell_type": "markdown",
   "metadata": {},
   "source": [
    "### Researching functions and types from the Data.Map module"
   ]
  },
  {
   "cell_type": "markdown",
   "metadata": {},
   "source": [
    "Let us got now through all the othe functions and the `Map` type that are defined in the **Data.Map** module. "
   ]
  },
  {
   "cell_type": "markdown",
   "metadata": {},
   "source": [
    "Let's first search in hoogle for the `Map` data type: `Map +Data.Map`. The first result in for the **Data.Map** module.\n",
    "\n",
    "The second result defines the type signature of the `Map` type. If we click on it we get the following definition on the hackage page:\n",
    "```haskell\n",
    "data Map k a \n",
    "```\n",
    "```\n",
    "A Map from keys k to values a.\n",
    "```"
   ]
  },
  {
   "cell_type": "markdown",
   "metadata": {},
   "source": [
    "In our case when we define the `library` variable which is a Map, we use `Int` for keys and the `Book` type for values. "
   ]
  },
  {
   "cell_type": "markdown",
   "metadata": {},
   "source": [
    "Next we have the function `listBooks` that takes in a Map which holds books and performs some IO actions. We see there we use the function `toList` from the Map module."
   ]
  },
  {
   "cell_type": "markdown",
   "metadata": {},
   "source": [
    "From Hoogle we get:\n",
    "```haskell\n",
    "toList :: Map k a -> [(k, a)] \n",
    "```\n",
    "```\n",
    "Convert the map to a list of key/value pairs\n",
    "```"
   ]
  },
  {
   "cell_type": "markdown",
   "metadata": {},
   "source": [
    "It takes in a Map object and returns a list of tuples. The opposite of the `fromList` function.\n",
    "\n",
    "So, the `listBooks` function can take in our library and list all the books that are contained in the Map."
   ]
  },
  {
   "cell_type": "markdown",
   "metadata": {},
   "source": [
    "Then we come to the function `addBook` that takes in a Map which contains books, a book, and returns a Map which contains books.\n",
    "\n",
    "The only function we do not know yet in this code is the `insert` function from the Map module."
   ]
  },
  {
   "cell_type": "markdown",
   "metadata": {},
   "source": [
    "From Hoogle we get:\n",
    "```haskell\n",
    "insert :: Ord k => k -> a -> Map k a -> Map k a \n",
    "```\n",
    "```\n",
    "Insert a new key and value in the map. If the key is already present in the map, the associated value is replaced with the supplied value.\n",
    "```"
   ]
  },
  {
   "cell_type": "markdown",
   "metadata": {},
   "source": [
    "From the code we see, this function can update our library with a new Book, where it chooses the first free key that the library does not contain yet."
   ]
  },
  {
   "cell_type": "markdown",
   "metadata": {},
   "source": [
    "The last function that works with a Map is the `removeBook` function that takes in a Map of Books and an Int, and returns a Map of Books.\n",
    "\n",
    "We see that it uses the `delete` function from the Map module."
   ]
  },
  {
   "cell_type": "markdown",
   "metadata": {},
   "source": [
    "From Hoogle we get:\n",
    "```haskell\n",
    "delete :: Ord k => k -> Map k a -> Map k a \n",
    "```\n",
    "```\n",
    "Delete a key and its value from the map. When the key is not a member of the map, the original map is returned.\n",
    "```"
   ]
  },
  {
   "cell_type": "markdown",
   "metadata": {},
   "source": [
    "So this function can delete a book from our library where we identify it with the id of the book, that are the keys in the Map."
   ]
  },
  {
   "cell_type": "markdown",
   "metadata": {},
   "source": [
    "In the end we have the main function that lists the books from our library, then adds one book and lists the updated library. And in the end removes the first two books from the updated library and lists the library again. "
   ]
  },
  {
   "cell_type": "markdown",
   "metadata": {},
   "source": [
    "In the next chapter we will cover the `foldl` and showcase how to lookup its source code."
   ]
  },
  {
   "cell_type": "markdown",
   "metadata": {},
   "source": [
    "### Looking up source code"
   ]
  },
  {
   "cell_type": "markdown",
   "metadata": {},
   "source": [
    "Let's preted for a moment we do not know how the function `foldr` works.\n",
    "\n",
    "We type it into hoogle and see that the first two results give us the following type signatures:\n",
    "```haskell\n",
    "foldr :: Foldable t => (a -> b -> b) -> b -> t a -> b\n",
    "foldr :: (a -> b -> b) -> b -> [a] -> b \n",
    "```"
   ]
  },
  {
   "cell_type": "markdown",
   "metadata": {},
   "source": [
    "The first `foldr` is a more general definition that says the last input parameter has to have an instance of the `Foldable` type class.\n",
    "\n",
    "The second `foldr` left is just defines for lists, which do have an instance of the `Foldable` type class. We click on it."
   ]
  },
  {
   "cell_type": "markdown",
   "metadata": {},
   "source": [
    "The hackage site explains us how it works but we are still not sure of it. So we decide to look up the source code of this function.\n",
    "\n",
    "The source code means how this function is defined using the Haskell language. "
   ]
  },
  {
   "cell_type": "markdown",
   "metadata": {},
   "source": [
    "To do this we click on the `Source` sign that is on the right side in the same line as the type signature is. \n",
    "\n",
    "We get the following definition for the `foldr` function:\n",
    "```haskell\n",
    "foldr :: (a -> b -> b) -> b -> [a] -> b \n",
    "foldr k z = go\n",
    "          where\n",
    "            go []     = z\n",
    "            go (y:ys) = y `k` go ys\n",
    "```"
   ]
  },
  {
   "cell_type": "markdown",
   "metadata": {},
   "source": [
    "Now we can better reason about what this function is doing. "
   ]
  },
  {
   "cell_type": "markdown",
   "metadata": {},
   "source": [
    "In practice not all of Haskells source code is so easy to understand because to the code is written such that it is optimized for performance. \n",
    "\n",
    "Let's look at the source code for the `delete` functions of the **Data.Map** module."
   ]
  },
  {
   "cell_type": "markdown",
   "metadata": {},
   "source": [
    "```haskell\n",
    "delete :: Ord k => k -> Map k a -> Map k a\n",
    "delete = go\n",
    "  where\n",
    "    go :: Ord k => k -> Map k a -> Map k a\n",
    "    go !_ Tip = Tip\n",
    "    go k t@(Bin _ kx x l r) =\n",
    "        case compare k kx of\n",
    "            LT | l' `ptrEq` l -> t\n",
    "               | otherwise -> balanceR kx x l' r\n",
    "               where !l' = go k l\n",
    "            GT | r' `ptrEq` r -> t\n",
    "               | otherwise -> balanceL kx x l r'\n",
    "               where !r' = go k r\n",
    "            EQ -> glue l r\n",
    "```"
   ]
  },
  {
   "cell_type": "markdown",
   "metadata": {},
   "source": [
    "We see this source code contains also code which we have not cover yet. So you would need to reserach what does the `prtEq`, `balanceR` and `balanceL` functions do."
   ]
  },
  {
   "cell_type": "markdown",
   "metadata": {},
   "source": [
    "## Using the Haskell Wiki"
   ]
  },
  {
   "cell_type": "markdown",
   "metadata": {},
   "source": [
    "Sometimes it makes also sense look up a function or type on the haskell wiki.\n",
    "\n",
    "There you can find a more user-friendly explanation of types and classes with more code examples.\n",
    "\n",
    "But it does not cover everything as the Hackage page does since it is the central repository for Haskell packages."
   ]
  },
  {
   "cell_type": "markdown",
   "metadata": {},
   "source": [
    "The Haskell wiki page can be found at [*wiki.haskell.org*](wiki.haskell.org). \n",
    "\n",
    "It contains numerous useful articles and links that cover various areas of Haskell, such as:\n",
    "\n",
    "* Learning Haskell\n",
    "\n",
    "* Using Haskell\n",
    "\n",
    "* Joining the community"
   ]
  },
  {
   "cell_type": "markdown",
   "metadata": {},
   "source": [
    "You can also use the wiki search bar in the top-right corner to search for articles on the Haskell wiki page. \n",
    "\n",
    "Keep in mind that for a specif problem it is maybe good to do a Google search, but for learning general things about the Haskell ecosystem this is a good starting point. "
   ]
  },
  {
   "cell_type": "markdown",
   "metadata": {},
   "source": [
    "A more up-to-date list of community pages and learning resources can be found on [*haskell.org*](haskell.org):\n",
    "\n",
    "* https://www.haskell.org/community/\n",
    "\n",
    "* https://www.haskell.org/documentation/ \n",
    "\n",
    "Nevertheless, you could also find interesting educational content if you search on Google or YouTube."
   ]
  },
  {
   "cell_type": "markdown",
   "metadata": {},
   "source": [
    "A good example of learning resources that are not stated anywhere on the Haskell wiki page or the Haskell documentation page at current time of writing are: \n",
    "- the Stack Overflow tutorial https://devtut.github.io/haskell/ that provides a basic and advanced Haskell tutorial \n",
    "\n",
    "- the advance Haskell libraries and tutorial explanations from FP complete project: https://www.fpcomplete.com/haskell/learn/ "
   ]
  },
  {
   "cell_type": "markdown",
   "metadata": {},
   "source": [
    "## Using **:type** and **:info** in GHCi"
   ]
  },
  {
   "cell_type": "markdown",
   "metadata": {},
   "source": [
    "<div class=\"alert alert-block alert-info\">\n",
    "Remember, GHCi is the <b>interactive</b> shell for GHC (The Glasgow Haskell Compiler). It lets you play and execute code on the go! In this Jupyter notebook, each cell is actually a GHCi shell that we can use for small Haskell snippets. You can also open a GHCi shell in a terminal by executing `ghci` (you can quit by execution <code>:q</code>)\n",
    "</div>"
   ]
  },
  {
   "cell_type": "markdown",
   "metadata": {},
   "source": [
    "Two useful GHCi commands, which we extensively used in our lessons before, are `:type` and `:info`. Which also can be abbreviated as `:t` and `:i` in its use. \n",
    "\n",
    "These two let us inspect and gather information on types, function and instances in a quick way compared to using Hoogle and Hackage."
   ]
  },
  {
   "cell_type": "markdown",
   "metadata": {},
   "source": [
    "To highlight their importance, we consider an example. Imagine that we want to open a file in Haskell, and we remember the existence of a function `openFile` from the `System.IO` module, but not its use. We can use GHCi together with `:t` and `:i` to figure out its usage!"
   ]
  },
  {
   "cell_type": "code",
   "execution_count": null,
   "metadata": {},
   "outputs": [],
   "source": [
    "import System.IO\n",
    "\n",
    ":t openFile\n",
    "-- openFile :: FilePath -> IOMode -> IO Handle\n",
    "\n",
    ":i FilePath\n",
    "-- type FilePath = String\n",
    "\n",
    ":i IOMode\n",
    "-- data IOMode = ReadMode | WriteMode | AppendMode | ReadWriteMode"
   ]
  },
  {
   "cell_type": "markdown",
   "metadata": {},
   "source": [
    "From this information, we see that the function `openFile` takes in a file path, which is a string. We also see that it takes a mode, from this context we deduce that these are for indicating the file system in what way we are opening this file."
   ]
  },
  {
   "cell_type": "markdown",
   "metadata": {},
   "source": [
    "Besides the above deconstruction of the algebraic data type `IOMode`, the `:i` command is also useful for exploring other Haskell types."
   ]
  },
  {
   "cell_type": "markdown",
   "metadata": {},
   "source": [
    "For instance, if we type `:i Int` we get additional information about this type. We can even see to which type classes the `Int` type belongs!"
   ]
  },
  {
   "cell_type": "markdown",
   "metadata": {},
   "source": [
    "```haskell\n",
    ":i Int\n",
    "type Int :: *\n",
    "data Int = GHC.Types.I# GHC.Prim.Int#\n",
    "  \t-- Defined in ‘GHC.Types’\n",
    "instance Eq Int -- Defined in ‘GHC.Classes’\n",
    "instance Ord Int -- Defined in ‘GHC.Classes’\n",
    "instance Enum Int -- Defined in ‘GHC.Enum’\n",
    "instance Num Int -- Defined in ‘GHC.Num’\n",
    "instance Real Int -- Defined in ‘GHC.Real’\n",
    "instance Show Int -- Defined in ‘GHC.Show’\n",
    "instance Read Int -- Defined in ‘GHC.Read’\n",
    "instance Bounded Int -- Defined in ‘GHC.Enum’\n",
    "instance Integral Int -- Defined in ‘GHC.Real’\n",
    "```"
   ]
  },
  {
   "cell_type": "markdown",
   "metadata": {},
   "source": [
    "We see that `Int` has many type class instances. We can also look up how one of those type classes is defined.\n",
    "\n",
    "Let us pick for example the `Num` type class. "
   ]
  },
  {
   "cell_type": "markdown",
   "metadata": {},
   "source": [
    "```haskell\n",
    ":i Num\n",
    "type Num :: * -> Constraint\n",
    "class Num a where\n",
    "  (+) :: a -> a -> a\n",
    "  (-) :: a -> a -> a\n",
    "  (*) :: a -> a -> a\n",
    "  negate :: a -> a\n",
    "  abs :: a -> a\n",
    "  signum :: a -> a\n",
    "  fromInteger :: Integer -> a\n",
    "  {-# MINIMAL (+), (*), abs, signum, fromInteger, (negate | (-)) #-}\n",
    "  \t-- Defined in ‘GHC.Num’\n",
    "instance Num Word -- Defined in ‘GHC.Num’\n",
    "instance Num Integer -- Defined in ‘GHC.Num’\n",
    "instance Num Int -- Defined in ‘GHC.Num’\n",
    "instance Num Float -- Defined in ‘GHC.Float’\n",
    "instance Num Double -- Defined in ‘GHC.Float’\n",
    "```"
   ]
  },
  {
   "cell_type": "markdown",
   "metadata": {},
   "source": [
    "We get all the class functions and their type signatures. From the `{-# MINIMAL ... -#}` description, we see which functions are minimally required to implement when creating a Num instance for a user defined type.\n",
    "\n",
    "Conversely, this also means that any type that is an `Int`, is a member of the `Num` type class, so it has all of the above class functions available. And indeed we can negate the following"
   ]
  },
  {
   "cell_type": "code",
   "execution_count": null,
   "metadata": {},
   "outputs": [],
   "source": [
    "numberOne :: Int\n",
    "numberOne = 1\n",
    ":t numberOne\n",
    "negate numberOne"
   ]
  },
  {
   "cell_type": "markdown",
   "metadata": {},
   "source": [
    "Lastly, at the end, all built in Haskell types that are members of this type class are listed and in the comments you can see their module location. "
   ]
  },
  {
   "cell_type": "markdown",
   "metadata": {},
   "source": [
    "## Walkthrough of creating a project"
   ]
  },
  {
   "cell_type": "markdown",
   "metadata": {},
   "source": [
    "In this section, we will show the creation of a small Haskell project. We will show code snippets step by step to sketch out the implementation. "
   ]
  },
  {
   "cell_type": "markdown",
   "metadata": {},
   "source": [
    "Besides these snippets, we will also give clarification on the design decisions taken along the way. The goal here is to give you a feeling for how to choose the correct types and function when building a project."
   ]
  },
  {
   "cell_type": "markdown",
   "metadata": {},
   "source": [
    "The project idea is a program that functions similar to an online web shop. It simulates a shopping basket, and it has a database with items that you can add to the shopping basket. \n",
    "\n",
    "Additionally, once the shopping is done, the program can reduce the price of the total shopping basket, depending on a membership program. \n",
    "\n",
    "For simplicity, we will only have three categories in this online shop, music, books and coffee."
   ]
  },
  {
   "cell_type": "markdown",
   "metadata": {},
   "source": [
    "So, how can we translate this idea to code? We might try to implement the Database structure as a `Map` from the module `Data.Map` described above.\n"
   ]
  },
  {
   "cell_type": "markdown",
   "metadata": {},
   "source": [
    "This database `Map` contains three entries, one for each class of items. So, it's either one of the keys `\"music\"`, `\"books\"` or `\"coffee\"`."
   ]
  },
  {
   "cell_type": "markdown",
   "metadata": {},
   "source": [
    "```json\n",
    "{\n",
    "    \"music\": ...\n",
    "    \"books\": ...\n",
    "    \"coffee\": ...\n",
    "}\n",
    "```"
   ]
  },
  {
   "cell_type": "markdown",
   "metadata": {},
   "source": [
    "The shop can have multiple kinds of music, books or coffee that they sell. So, we might choose for each of these categories in our database `Map` to have as their value another `Map`. \n",
    "\n",
    "Here, each object in a category will have as its key its index in the category `Map`."
   ]
  },
  {
   "cell_type": "markdown",
   "metadata": {},
   "source": [
    "<div class=\"alert alert-block alert-info\">\n",
    "Alternatively, you might consider a list of items instead of a <code>Map</code>, but note that <code>Map</code> is easier to use as a database since you can access the data via keys.\n",
    "</div>"
   ]
  },
  {
   "cell_type": "markdown",
   "metadata": {},
   "source": [
    "So, what do the items in each category's look like? Coffee is described differently than a book in a shop, so each value might have a different type describing these attributes. \n",
    "\n",
    "We might consider making a custom type for each. But, to keep it simple, we will only track for each item its name and its price. "
   ]
  },
  {
   "cell_type": "markdown",
   "metadata": {},
   "source": [
    "The name would be typed as a `String` and initially, we will type the price as a `Double`. \n",
    "\n",
    "We choose a `Double` here because we want to track a more precise price for the items and later have the opportunity to round it accordingly."
   ]
  },
  {
   "cell_type": "markdown",
   "metadata": {},
   "source": [
    "```json\n",
    "{\n",
    "    \"name\": \"A book about the connection of good coffee and music\"\n",
    "    \"price\": 10\n",
    "}\n",
    "```"
   ]
  },
  {
   "cell_type": "markdown",
   "metadata": {},
   "source": [
    "<div class=\"alert alert-block alert-info\">\n",
    "    Notice that a <code>Double</code> has fixed precision and may lead to rounding errors in the program, this will be addressed later.\n",
    "</div>"
   ]
  },
  {
   "cell_type": "markdown",
   "metadata": {},
   "source": [
    "Besides the core of our program keeping track of the shopping basket, we would also like a minimal interface which uses IO to operate our program."
   ]
  },
  {
   "cell_type": "markdown",
   "metadata": {},
   "source": [
    "The list of action available should be presented when running the program, and we would like to have the following actions:\n",
    "```\n",
    "Welcome to the store. Possible actions are:\n",
    "- list_commands\n",
    "- list_groups\n",
    "- list_items  --group\n",
    "- buy_item  --group  --item_index  --quantity\n",
    "- list_basket\n",
    "- remove_item  --group  --item_index  --quantity\n",
    "- get_price  --membership_scheme\n",
    "- exit\n",
    "```"
   ]
  },
  {
   "cell_type": "markdown",
   "metadata": {},
   "source": [
    "Here we call the text after the `--` a flag. This indicates that an extra argument/option must be given to execute that action. \n",
    "\n",
    "Each action should change the current shopping basket given the action and return again to the list of possible actions. "
   ]
  },
  {
   "cell_type": "markdown",
   "metadata": {},
   "source": [
    "As mentioned, we wanted a membership program in the store. This is also reflected in the `get_price --membership_scheme` action with its flag. \n",
    "\n",
    "We call these three membership schemes: \"basic\", \"gold\", \"platinum\", and members will get the following rates\n",
    "- (Basic 10% | Gold 20% | Platinum 30% ) off for \"music\" store items\n",
    "\n",
    "- (Basic 20% | Gold 30% | Platinum 40% ) off for \"books\" store items\n",
    "\n",
    "- (Basic 30% | Gold 40% | Platinum 50% ) off for \"coffee\" store items"
   ]
  },
  {
   "cell_type": "markdown",
   "metadata": {},
   "source": [
    "### Implementing the code"
   ]
  },
  {
   "cell_type": "markdown",
   "metadata": {},
   "source": [
    "First, we create a simple database that contains some store items by writing a string to a CSV file."
   ]
  },
  {
   "cell_type": "code",
   "execution_count": null,
   "metadata": {},
   "outputs": [],
   "source": [
    "csvDatabase :: String\n",
    "csvDatabase = \"music name \\\"ABBA greatest hits\\\",price 80/9\\n\\\n",
    "              \\music name \\\"Beatles greatest hits\\\",price 100/9\\n\\\n",
    "              \\music name \\\"Coldplay greatest hits\\\",price 120/9\\n\\\n",
    "              \\book name \\\"English vocabulary\\\",price 230/9\\n\\\n",
    "              \\book name \\\"German vocabulary\\\",price 240/9\\n\\\n",
    "              \\book name \\\"Japanese vocabulary\\\",price 250/9\\n\\\n",
    "              \\coffee name \\\"Cappuccino\\\",price 13/9\\n\\\n",
    "              \\coffee name \\\"Latte macchiato\\\",price 11/9\\n\\ \n",
    "              \\coffee name \\\"Espresso\\\",price 12/9\"\n",
    "\n",
    "writeDatabase :: IO ()\n",
    "writeDatabase = do\n",
    "    writeFile \"./database.csv\" csvDatabase\n",
    "\n",
    "writeDatabase"
   ]
  },
  {
   "cell_type": "markdown",
   "metadata": {},
   "source": [
    "Then we write a program that reads out this database and writes in to the `storeDatabase` variable that is of type Map. "
   ]
  },
  {
   "cell_type": "code",
   "execution_count": null,
   "metadata": {},
   "outputs": [],
   "source": [
    "import Data.Map as Map \n",
    "import Data.List.Split (splitOn)\n",
    "\n",
    "type ItemType = String\n",
    "type ItemName = String\n",
    "type ItemPrice = String\n",
    "type ItemDatabase = Map.Map Int StoreItem\n",
    "\n",
    "data StoreItem = Item \n",
    "                  { name :: String\n",
    "                  , price :: Double\n",
    "                  } deriving Show\n",
    "\n",
    "parseCSVFile :: IO [(ItemType, ItemName, ItemPrice)]\n",
    "parseCSVFile = do\n",
    "    fileContent <- readFile \"./database.csv\"\n",
    "    let fileContentLines = lines fileContent \n",
    "        removeEmpty [] = []\n",
    "        removeEmpty list@(x:xs) = if x == \"\"\n",
    "                                  then removeEmpty xs \n",
    "                                  else list\n",
    "        itemsList = Prelude.map processContents $ removeEmpty fileContentLines\n",
    "    return itemsList\n",
    "    where \n",
    "        processContents oneLine = case head (words oneLine) of\n",
    "            \"music\" -> (\"music\", extractName oneLine, extractPrice oneLine)\n",
    "            \"book\" -> (\"book\", extractName oneLine, extractPrice oneLine)\n",
    "            \"coffee\" -> (\"coffee\", extractName oneLine, extractPrice oneLine)\n",
    "            _ -> (\"\",\"\",\"\")\n",
    "        extractName oneLine = splitOn \"\\\"\" (head $ splitOn \",\" (splitOn \"name\" oneLine !! 1)) !! 1\n",
    "        extractPrice oneLine = tail (splitOn \"price\" oneLine !! 1)\n",
    "\n",
    "createStoreItem :: (ItemType, ItemName, ItemPrice) -> (ItemType, StoreItem)\n",
    "createStoreItem (itemtype, itemName, itemPrice) = \n",
    "    (itemtype, Item {name = itemName, price = priceDouble})\n",
    "    where priceDouble = nums !! 0 / nums !! 1 :: Double\n",
    "          nums = Prelude.map read (splitOn \"/\" itemPrice) :: [Double]\n",
    "\n",
    "createDatabase :: ItemType -> ItemDatabase -> [(ItemType, StoreItem)] -> ItemDatabase \n",
    "createDatabase itemType initDatabase [] = initDatabase\n",
    "createDatabase itemType initDatabase storeItems = \n",
    "    createDatabase itemType updatedDatabase (tail storeItems)\n",
    "    where item = head storeItems\n",
    "          updatedDatabase = if fst item == itemType \n",
    "                            then Map.insert (getFreeSpot 1) (snd item) initDatabase\n",
    "                            else initDatabase\n",
    "          libKeys = Prelude.map fst $ Map.toList initDatabase\n",
    "          getFreeSpot spot = if spot `elem` libKeys\n",
    "                             then getFreeSpot (spot + 1)\n",
    "                             else spot\n",
    "\n",
    "musicIO :: IO ItemDatabase \n",
    "musicIO = do\n",
    "    csvData <- parseCSVFile\n",
    "    return $ createDatabase \"music\" initDatabase (Prelude.map createStoreItem csvData)\n",
    "    where initDatabase =  Map.empty\n",
    "\n",
    "booksIO :: IO ItemDatabase \n",
    "booksIO = do\n",
    "    csvData <- parseCSVFile\n",
    "    return $ createDatabase \"book\" initDatabase (Prelude.map createStoreItem csvData)\n",
    "    where initDatabase =  Map.empty\n",
    "\n",
    "coffeeIO :: IO ItemDatabase \n",
    "coffeeIO = do\n",
    "    csvData <- parseCSVFile\n",
    "    return $ createDatabase \"coffee\" initDatabase (Prelude.map createStoreItem csvData)\n",
    "    where initDatabase =  Map.empty\n",
    "\n",
    "storeDatabase :: IO (Map.Map String ItemDatabase)\n",
    "storeDatabase = do\n",
    "    music <- musicIO\n",
    "    books <- booksIO\n",
    "    coffee <- coffeeIO\n",
    "    return $ Map.fromList [(\"music\",music),(\"books\",books),(\"coffee\",coffee)]"
   ]
  },
  {
   "cell_type": "markdown",
   "metadata": {},
   "source": [
    "Now that we have our database, let's write the code that interacts with this database. \n",
    "\n",
    "The entry point of our program is the `main` function that will display the welcome message to the user and print the available commands. \n",
    "\n",
    "This function will also introduce an empty list `init_state` that represented the initial empty shopping basket."
   ]
  },
  {
   "cell_type": "markdown",
   "metadata": {},
   "source": [
    "The workflow of what follows is the recursively handling of actions that act and update the last state of the shopping basket. \n",
    "\n",
    "We name the function that we will recursively call, the `startShoping` function. This function will also parse user input and act on this input. "
   ]
  },
  {
   "cell_type": "markdown",
   "metadata": {},
   "source": [
    "In the `startShoping` function, the following function will represent some of the different actions\n",
    "\n",
    "- `listCommands` (displays possible commands)\n",
    "\n",
    "- `listGroups` (displays shopping groups)\n",
    "\n",
    "- `listBasket` (displays the basket items)\n",
    "\n",
    "- `wrongCommand` (displays an info message to the user)"
   ]
  },
  {
   "cell_type": "markdown",
   "metadata": {},
   "source": [
    "For now, we do not implement any other actions and just return the Haskell variable `undefined` so we know they still have to be implemented. \n",
    "\n",
    "After this, we will implement one by one these undefined functions and explain for each how it works.  "
   ]
  },
  {
   "cell_type": "code",
   "execution_count": null,
   "metadata": {},
   "outputs": [],
   "source": [
    "main :: IO ()\n",
    "main = do\n",
    "    putStrLn \"Welcome to the store.\"\n",
    "    printCommands\n",
    "\n",
    "    let init_state = []\n",
    "    startShoping init_state\n",
    "\n",
    "printCommands :: IO ()\n",
    "printCommands = do\n",
    "    putStrLn \"Possible actions are:\\n \\\n",
    "            \\ list_commands \\n \\\n",
    "            \\ list_groups \\n \\\n",
    "            \\ list_items  --group \\n \\\n",
    "            \\ buy_item  --group  --item_index  --quantity \\n \\\n",
    "            \\ list_basket \\n \\\n",
    "            \\ remove_item  --group  --item_index  --quantity \\n \\\n",
    "            \\ get_price  --membership_scheme \\n \\\n",
    "            \\ exit \\n\\n \\\n",
    "            \\ Example command: list_items music\"\n",
    "\n",
    "type CommandOptions = [String]\n",
    "type ShoppingGroup = String\n",
    "type ItemIndex = Int\n",
    "type ItemQuantity = Int\n",
    "type ShoppingBasket = [(ShoppingGroup,ItemIndex,ItemQuantity)]\n",
    "\n",
    "startShoping :: ShoppingBasket -> IO ()\n",
    "startShoping basket = do\n",
    "    putStrLn \"\\nPlease select what you want to do: \"\n",
    "    fullCommand <- getLine\n",
    "    let (command:options) = words fullCommand\n",
    "\n",
    "    if command == \"exit\"\n",
    "    then putStrLn \"Exiting shopping.\"\n",
    "    else do\n",
    "        let function = case command of\n",
    "                \"list_commands\" -> listCommands\n",
    "                \"list_groups\" -> listGroups\n",
    "                \"list_items\" -> listItems\n",
    "                \"buy_item\" -> buyItem\n",
    "                \"list_basket\" -> listBasket\n",
    "                \"remove_item\" -> removeItem\n",
    "                \"get_price\" -> getPrice\n",
    "                _ -> wrongCommand\n",
    "\n",
    "        updatedBasket <- function basket options\n",
    "        startShoping updatedBasket\n",
    "\n",
    "listCommands :: ShoppingBasket -> CommandOptions -> IO ShoppingBasket\n",
    "listCommands basket options = do\n",
    "    printCommands\n",
    "    return basket\n",
    "\n",
    "listGroups :: ShoppingBasket -> CommandOptions -> IO ShoppingBasket\n",
    "listGroups basket options = do\n",
    "    putStrLn \"Shopping groups are: music, books, coffee.\"\n",
    "    return basket\n",
    "\n",
    "listItems :: ShoppingBasket -> CommandOptions -> IO ShoppingBasket\n",
    "listItems basket options = do\n",
    "    return undefined\n",
    "\n",
    "buyItem :: ShoppingBasket -> CommandOptions -> IO ShoppingBasket\n",
    "buyItem basket options = do\n",
    "    return undefined\n",
    "\n",
    "listBasket :: ShoppingBasket -> CommandOptions -> IO ShoppingBasket\n",
    "listBasket basket options = do\n",
    "    print basket\n",
    "    return basket\n",
    "\n",
    "removeItem :: ShoppingBasket -> CommandOptions -> IO ShoppingBasket\n",
    "removeItem basket options = do\n",
    "    return undefined\n",
    "\n",
    "getPrice :: ShoppingBasket -> CommandOptions -> IO ShoppingBasket\n",
    "getPrice basket options = do\n",
    "    return undefined\n",
    "\n",
    "wrongCommand :: ShoppingBasket -> CommandOptions -> IO ShoppingBasket\n",
    "wrongCommand basket options = do\n",
    "    putStrLn \"The command you entered is not correct.\"\n",
    "    return basket"
   ]
  },
  {
   "cell_type": "markdown",
   "metadata": {},
   "source": [
    "Now let's first implement the function `listItems` that lists the basket items and their indexes. \n",
    "\n",
    "We let the user know if the command option he typed in is incorrect, or if he typed in as many or no options.\n",
    "\n",
    "We use the `notElem` function that works the same as the `elem` function, just that is says True if the element is not contained in the list."
   ]
  },
  {
   "cell_type": "code",
   "execution_count": null,
   "metadata": {},
   "outputs": [],
   "source": [
    "import Data.Maybe \n",
    "\n",
    "listItems :: ShoppingBasket -> CommandOptions -> IO ShoppingBasket\n",
    "listItems basket options = do\n",
    "    storeDatabase <- storeDatabaseIO\n",
    "    case length options of\n",
    "        1 -> do\n",
    "            let group = head options\n",
    "            if group `notElem` [\"music\",\"books\",\"coffee\"]\n",
    "            then do\n",
    "                putStrLn \"This group does not exist.\"\n",
    "                return basket\n",
    "            else do\n",
    "                let itemDatabase itemName = fromJust $ Map.lookup \"music\" storeDatabase \n",
    "                    groupData = case group of\n",
    "                        \"music\" -> itemDatabase \"music\"\n",
    "                        \"books\" -> itemDatabase \"books\" \n",
    "                        \"coffee\" -> itemDatabase \"coffee\" \n",
    "                        _ -> Map.empty\n",
    "                print (Map.toList groupData)\n",
    "                return basket\n",
    "        _ -> do\n",
    "            putStrLn \"To much or to less options for this command.\"\n",
    "            return basket "
   ]
  },
  {
   "cell_type": "markdown",
   "metadata": {},
   "source": [
    "Next, we implement the function `buyItem` that lets us add an item to the basket.\n",
    "\n",
    "We use the function `readMaybe` from the **Text.Read** module and some helper functions to work with the `Maybe` type."
   ]
  },
  {
   "cell_type": "markdown",
   "metadata": {},
   "source": [
    "The `readMaybe` function takes a string and returns a maybe value. In the case the string can be read as a number, the function returns a Just value of the number, else it returns Nothing.\n",
    "```haskell\n",
    "readMaybe :: Read a => String -> Maybe a\n",
    "```"
   ]
  },
  {
   "cell_type": "markdown",
   "metadata": {},
   "source": [
    "We make the following checks on the command parameters and notify the user if any fails:\n",
    "- is the count of the supply command parameters correct\n",
    "\n",
    "- are the command parameters legal values"
   ]
  },
  {
   "cell_type": "markdown",
   "metadata": {},
   "source": [
    "We also check if the item we want to add already exists in the basket and update the quantity accordingly."
   ]
  },
  {
   "cell_type": "code",
   "execution_count": null,
   "metadata": {},
   "outputs": [],
   "source": [
    "import Text.Read\n",
    "\n",
    "buyItem :: ShoppingBasket -> CommandOptions -> IO ShoppingBasket\n",
    "buyItem basket options \n",
    "        | optionsLenghtCheck && groupCheck && itemIndexCheck && quantityCheck = do\n",
    "            let itemIndexNum = read itemIndex :: Int\n",
    "                quantityNum = read quantity :: Int\n",
    "                checkItem = (\\(x,y,_) -> x == group && y == itemIndexNum)\n",
    "                existingItem = Prelude.filter checkItem basket\n",
    "            if length existingItem == 1\n",
    "            then do\n",
    "                let (_,_,existingQuantity) = head existingItem\n",
    "                    newQuantity = existingQuantity + quantityNum\n",
    "                    updatedBasket = Prelude.filter (not . checkItem) basket ++ [(group, itemIndexNum, newQuantity)]\n",
    "                return updatedBasket\n",
    "            else do\n",
    "                let updatedBasket = basket ++ [(group, itemIndexNum, quantityNum)]\n",
    "                return updatedBasket\n",
    "        | optionsLenghtCheck = do\n",
    "            putStrLn \"One or more of the options have not a legal value.\"\n",
    "            return basket\n",
    "        | otherwise = do\n",
    "            putStrLn \"To much or to less options for this command.\"\n",
    "            return basket\n",
    "    where optionsLenghtCheck = length options == 3\n",
    "          (group:itemIndex:quantity:_) = options\n",
    "          groupCheck = group `elem` [\"music\",\"books\",\"coffee\"]\n",
    "          itemIndexCheck = let maybeInt = readMaybe itemIndex :: Maybe Int\n",
    "                               integerCheck = isJust maybeInt\n",
    "                           in\n",
    "                               if integerCheck then (fromJust maybeInt) `elem` [1,2,3] else False\n",
    "          quantityCheck = let maybeInt = readMaybe quantity :: Maybe Int\n",
    "                              integerCheck = isJust maybeInt\n",
    "                          in\n",
    "                              if integerCheck then (fromJust maybeInt > 0) else False"
   ]
  },
  {
   "cell_type": "markdown",
   "metadata": {},
   "source": [
    "Then we implement the `removeItem` function that lowers the amount of an item in the basket or deletes the item entirely.\n",
    "\n",
    "We use the same functions and do the same checks as in the previous function `buyItem`."
   ]
  },
  {
   "cell_type": "code",
   "execution_count": null,
   "metadata": {},
   "outputs": [],
   "source": [
    "removeItem :: ShoppingBasket -> CommandOptions -> IO ShoppingBasket\n",
    "removeItem basket options\n",
    "        | optionsLenghtCheck && groupCheck && itemIndexCheck && quantityCheck = do\n",
    "            let itemIndexNum = read itemIndex :: Int\n",
    "                quantityNum = read quantity :: Int\n",
    "                checkItem = (\\(x,y,_) -> x == group && y == itemIndexNum)\n",
    "                existingItem = Prelude.filter checkItem basket\n",
    "            if length existingItem == 1\n",
    "            then do\n",
    "                let (_,_,existingQuantity) = head existingItem\n",
    "                    newQuantity = existingQuantity - quantityNum\n",
    "                    updatedBasket = let filteredBasket = Prelude.filter (not . checkItem) basket\n",
    "                                    in\n",
    "                                        if newQuantity > 0\n",
    "                                        then filteredBasket ++ [(group, itemIndexNum, newQuantity)]\n",
    "                                        else filteredBasket\n",
    "                return updatedBasket\n",
    "            else do\n",
    "                putStrLn \"Item does not exist in basket.\"\n",
    "                return basket\n",
    "        | optionsLenghtCheck = do\n",
    "            putStrLn \"One or more of the options have not a legal value.\"\n",
    "            return basket\n",
    "        | otherwise = do\n",
    "            putStrLn \"To much or to less options for this command.\"\n",
    "            return basket\n",
    "    where optionsLenghtCheck = length options == 3\n",
    "          (group:itemIndex:quantity:_) = options\n",
    "          groupCheck = group `elem` [\"music\",\"books\",\"coffee\"]\n",
    "          itemIndexCheck = let maybeInt = readMaybe itemIndex :: Maybe Int\n",
    "                               integerCheck = isJust maybeInt\n",
    "                           in\n",
    "                               if integerCheck then (fromJust maybeInt) `elem` [1,2,3] else False\n",
    "          quantityCheck = let maybeInt = readMaybe quantity :: Maybe Int\n",
    "                              integerCheck = isJust maybeInt\n",
    "                          in\n",
    "                              if integerCheck then (fromJust maybeInt > 0) else False"
   ]
  },
  {
   "cell_type": "markdown",
   "metadata": {},
   "source": [
    "<div class=\"alert alert-block alert-info\">\n",
    "    <b>ADITIONAL EXERCISE:</b> If you look at the code above and compare it to the previous function you see that 4 out of 6 do-blocks are the same. Try to rewrite the above functions in such a way that you extract the common part as much as possible and call it from those functions.\n",
    "</div>"
   ]
  },
  {
   "cell_type": "markdown",
   "metadata": {},
   "source": [
    "The last function we implement is `getPrice`, which calculates from our basket the price we have to pay and displays it to the user.\n",
    "\n",
    "First, we make some checks if the options for the command are correct and let the user know if they are not."
   ]
  },
  {
   "cell_type": "markdown",
   "metadata": {},
   "source": [
    "If everything is ok, we call the `printPrice` function which calculates the price of the basket items, taking their quantity and membership discount in account."
   ]
  },
  {
   "cell_type": "code",
   "execution_count": null,
   "metadata": {},
   "outputs": [],
   "source": [
    "getPrice :: ShoppingBasket -> CommandOptions -> IO ShoppingBasket\n",
    "getPrice basket options \n",
    "    | (length options <= 1) && (length options /= 0) = \n",
    "        if head options `notElem` [\"basic\", \"gold\", \"platinum\"]\n",
    "        then do\n",
    "            putStrLn \"Incorrect option for this command.\"\n",
    "            return basket\n",
    "        else do\n",
    "            printPrice basket options\n",
    "            return basket\n",
    "    | length options <= 1 = do\n",
    "        printPrice basket options\n",
    "        return basket\n",
    "    | otherwise = do\n",
    "        putStrLn \"To much options for this command.\"\n",
    "        return basket \n",
    "\n",
    "printPrice :: ShoppingBasket -> CommandOptions -> IO ShoppingBasket\n",
    "printPrice basket options = do\n",
    "    storeDatabase <- storeDatabaseIO\n",
    "    let (membership, discountCoef) = if Prelude.null options\n",
    "        then (\"\", const . const 1)\n",
    "        else (head options, discount)\n",
    "        calculatePrice (group,itemIndex,quantity) = fromIntegral quantity * \n",
    "                                                        discountCoef membership group *\n",
    "                                                            (price $ fromJust \n",
    "                                                                (Map.lookup itemIndex $ fromJust \n",
    "                                                                    (Map.lookup group storeDatabase)))\n",
    "        basketPrice = sum $ Prelude.map calculatePrice basket\n",
    "    putStrLn $ \"Price for your basket is: \" ++ show basketPrice\n",
    "    return basket\n",
    "  where discount membership grp = let membershipFactor = case membership of\n",
    "                                                             \"basic\" -> 0\n",
    "                                                             \"gold\" -> 1\n",
    "                                                             \"platinum\" -> 2\n",
    "                                  in case grp of\n",
    "                                         \"music\" -> 0.9 - 0.1*membershipFactor\n",
    "                                         \"books\" -> 0.8 - 0.1*membershipFactor\n",
    "                                         \"coffee\" -> 0.7 - 0.1*membershipFactor"
   ]
  },
  {
   "cell_type": "markdown",
   "metadata": {},
   "source": [
    "We get some rounding errors because the `Double` type can handle only 16 digits of precision, when the lead decimal number is not a 0.\n",
    "\n",
    "Let us try to solve this problem by searching for a more accurate type than `Double` and comparing the results."
   ]
  },
  {
   "cell_type": "markdown",
   "metadata": {},
   "source": [
    "### Minimizing rounding errors"
   ]
  },
  {
   "cell_type": "markdown",
   "metadata": {},
   "source": [
    "If we google for *Haskell number types* we find that the built-in number types are `Num, Real, Integer, Int, Ratio, Rational, Double, Float`.\n",
    "\n",
    "Because we need larger decimal precision than the `Double` type has to offer, we choose the `Rational` type to re-implement our code.\n",
    "\n",
    "We test this type with the code below, where we can see how this type can help us to preserve precision."
   ]
  },
  {
   "cell_type": "code",
   "execution_count": null,
   "metadata": {},
   "outputs": [],
   "source": [
    "-- without loosing precision\n",
    "fromRational ((7/25 :: Rational)*25) :: Double\n",
    "\n",
    "-- loosing some precision\n",
    "(fromRational (7/25 :: Rational)) * 25 :: Double"
   ]
  },
  {
   "cell_type": "markdown",
   "metadata": {},
   "source": [
    "We need to change the type of the price field in the `StoreItem` data type from `Double` to `Rational`. \n",
    "\n",
    "We also change the type signature of the variable `priceDouble` in `createStoreItem` function and we re-name it to `priceRational`."
   ]
  },
  {
   "cell_type": "code",
   "execution_count": null,
   "metadata": {},
   "outputs": [],
   "source": [
    "data StoreItem = Item \n",
    "                  { name :: String\n",
    "                  , price :: Rational\n",
    "                  } deriving Show\n",
    "\n",
    "createStoreItem :: (ItemType, ItemName, ItemPrice) -> (ItemType, StoreItem)\n",
    "createStoreItem (itemtype, itemName, itemPrice) = \n",
    "    (itemtype, Item {name = itemName, price = priceRational})\n",
    "    where priceRational = fromIntegral (nums !! 0) / fromIntegral (nums !! 1)  :: Rational\n",
    "          nums = Prelude.map read (splitOn \"/\" itemPrice) :: [Int]"
   ]
  },
  {
   "cell_type": "markdown",
   "metadata": {},
   "source": [
    "After that, we have to update the `printPrice` function such that it works with `Rational` type numbers and prints the result in `Double`."
   ]
  },
  {
   "cell_type": "code",
   "execution_count": null,
   "metadata": {},
   "outputs": [],
   "source": [
    "printPrice :: ShoppingBasket -> CommandOptions -> IO ShoppingBasket\n",
    "printPrice basket options = do\n",
    "    storeDatabase <- storeDatabaseIO\n",
    "    let (membership, discountCoef) = if Prelude.null options\n",
    "        then (\"\", const . const 1)\n",
    "        else (head options, discount)\n",
    "        calculatePrice (group,itemIndex,quantity) = fromIntegral quantity * \n",
    "                                                        discountCoef membership group *\n",
    "                                                            (price $ fromJust \n",
    "                                                                (Map.lookup itemIndex $ fromJust \n",
    "                                                                    (Map.lookup group storeDatabase)))\n",
    "        basketPrice = fromRational (sum $ Prelude.map calculatePrice basket) :: Double\n",
    "    putStrLn $ \"Price for your basket is: \" ++ show basketPrice\n",
    "    return basket\n",
    "  where discount membership grp = let membershipFactor = case membership of\n",
    "                                                             \"basic\" -> 0\n",
    "                                                             \"gold\" -> 1\n",
    "                                                             \"platinum\" -> 2\n",
    "                                  in case grp of\n",
    "                                         \"music\" -> (9 - 1*membershipFactor)/10 :: Rational\n",
    "                                         \"books\" -> (8 - 1*membershipFactor)/10 :: Rational\n",
    "                                         \"coffee\" -> (7 - 1*membershipFactor)/10 :: Rational"
   ]
  },
  {
   "cell_type": "markdown",
   "metadata": {},
   "source": [
    "We expect that we will lose some precision in the final rounding, but not in the steps when we calculate the final price by using the `Rational` type.\n",
    "\n",
    "We define the following case of shopping:\n",
    "- buy_item music 1 4\n",
    "\n",
    "- buy_item books 2 5\n",
    "\n",
    "- buy_item coffee 3 6"
   ]
  },
  {
   "cell_type": "markdown",
   "metadata": {},
   "source": [
    "The final basket prices for the `Double` and `Rational` types for all memberships are:\n",
    "- get_price basic\n",
    "  <br>Price for your basket is: 144.26666666666668   (Double)\n",
    "  <br>Price for your basket is: 144.26666666666668   (Rational)\n",
    "\n",
    "- get_price gold\n",
    "  <br>Price for your basket is: 126.57777777777778   (Double)\n",
    "  <br>Price for your basket is: 126.57777777777778   (Rational)\n",
    "\n",
    "- get_price platinum\n",
    "  <br>Price for your basket is: 108.8888888888889    (Double)\n",
    "  <br>Price for your basket is: 108.88888888888889   (Rational)"
   ]
  },
  {
   "cell_type": "markdown",
   "metadata": {},
   "source": [
    "The only case where we profit some precision is for the platinum membership. \n",
    "\n",
    "The other two cases give us the same result if in the end convert the `Rational` result to `Double`."
   ]
  },
  {
   "cell_type": "markdown",
   "metadata": {},
   "source": [
    "We are still not happy and google for *Haskell rounding error*. We see there is another type called `Decimal`. \n",
    "\n",
    "On Hoogle, if we choose the **Data.Decimal** module, we see that the smallest number for a Decimal type is 10^-255.\n",
    "\n",
    "To make use of this module, you need to install the **Decimal** package using cabal."
   ]
  },
  {
   "cell_type": "markdown",
   "metadata": {},
   "source": [
    "The `Decimal` type is, in general, more precise as the `Double` type but also here sometimes rounding errors appear on 255 decimal places, as in the code below."
   ]
  },
  {
   "cell_type": "code",
   "execution_count": null,
   "metadata": {},
   "outputs": [],
   "source": [
    "import Data.Decimal \n",
    "\n",
    "a = (25/7) :: Decimal\n",
    "print a\n",
    "b = a * 7\n",
    "print b"
   ]
  },
  {
   "cell_type": "markdown",
   "metadata": {},
   "source": [
    "Let's re-write our `StoreItem` data type so that we use the `Decimal` type for the store item prices.\n",
    "\n",
    "Also for this case we need to update our `createStoreItem` such that it works with the `Decimal` type."
   ]
  },
  {
   "cell_type": "code",
   "execution_count": null,
   "metadata": {},
   "outputs": [],
   "source": [
    "import Data.Decimal\n",
    "\n",
    "data StoreItem = Item \n",
    "                  { name :: String\n",
    "                  , price :: Decimal\n",
    "                  } deriving Show\n",
    "\n",
    "createStoreItem :: (ItemType, ItemName, ItemPrice) -> (ItemType, StoreItem)\n",
    "createStoreItem (itemtype, itemName, itemPrice) = \n",
    "    (itemtype, Item {name = itemName, price = priceDecimal})\n",
    "    where priceDecimal = nums !! 0 / nums !! 1 :: Decimal\n",
    "          nums = Prelude.map read (splitOn \"/\" itemPrice) :: [Decimal]"
   ]
  },
  {
   "cell_type": "markdown",
   "metadata": {},
   "source": [
    "Here we do not have to update the `printPrice` function. We can use the same version that we used in the begining for the `Double` type.\n",
    "\n",
    "We again pick the same shopping case:\n",
    "- buy_item music 1 4\n",
    "\n",
    "- buy_item books 2 5\n",
    "\n",
    "- buy_item coffee 3 6"
   ]
  },
  {
   "cell_type": "markdown",
   "metadata": {},
   "source": [
    "The results for all three types are as follows:\n",
    "- get_price basic\n",
    "  <br>Price for your basket is: 144.26666666666668   (Double)\n",
    "  <br>Price for your basket is: 144.26666666666668   (Rational)\n",
    "  <br>Price for your basket is: 144.26666666666666...<254 times 6>...67 (Decimal)\n",
    "\n",
    "- get_price gold\n",
    "  <br>Price for your basket is: 126.57777777777778   (Double)\n",
    "  <br>Price for your basket is: 126.57777777777778   (Rational)\n",
    "  <br>Price for your basket is: 126.57777777777777...<254 times 7>...78 (Decimal)\n",
    "\n",
    "- get_price platinum\n",
    "  <br>Price for your basket is: 108.8888888888889    (Double)\n",
    "  <br>Price for your basket is: 108.88888888888889   (Rational)\n",
    "  <br>Price for your basket is: 108.8888888888888...<254 times 8>...89  (Decimal)"
   ]
  },
  {
   "cell_type": "markdown",
   "metadata": {},
   "source": [
    "We see that the `Decimal` type gives us the most accurate precision for our case. \n",
    "\n",
    "In this example, the rounding errors are not that big for a store that has many customers the errors sum up and in the end can make a significant difference."
   ]
  },
  {
   "cell_type": "markdown",
   "metadata": {},
   "source": [
    "## Recap"
   ]
  },
  {
   "cell_type": "markdown",
   "metadata": {},
   "source": [
    "In this lesson, we have discussed:\n",
    "\n",
    "- how you can help yourself with the `:i` and `:t` commands\n",
    "\n",
    "- how to help yourself with **Hoogle** and **Hackage**\n",
    "\n",
    "- we mentioned where to find additional learning resources\n",
    "\n",
    "- we did a walkthrough of looking at existing code that uses the **Data.Map.Strict** module\n",
    "\n",
    "- we did a walkthrough of a project where we learned how to minimize rounding errors"
   ]
  }
 ],
 "metadata": {
  "kernelspec": {
   "display_name": "Haskell",
   "language": "haskell",
   "name": "haskell"
  },
  "language_info": {
   "codemirror_mode": "ihaskell",
   "file_extension": ".hs",
   "mimetype": "text/x-haskell",
   "name": "haskell",
   "pygments_lexer": "Haskell",
   "version": "8.10.7"
  }
 },
 "nbformat": 4,
 "nbformat_minor": 4
}
